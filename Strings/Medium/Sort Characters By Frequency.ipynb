{
 "cells": [
  {
   "cell_type": "markdown",
   "id": "b2e51c61-4859-4989-9e7e-6cd5369bc2c3",
   "metadata": {},
   "source": [
    "### Sort Characters By Frequency"
   ]
  },
  {
   "cell_type": "raw",
   "id": "ea5b3ede-c39b-4553-8bb5-5f5b69c4080a",
   "metadata": {},
   "source": [
    "Given a string s, sort it in decreasing order based on the frequency of the characters. The frequency of a character is the number of times it appears in the string.\n",
    "\n",
    "Return the sorted string. If there are multiple answers, return any of them.\n",
    "\n",
    " \n",
    "\n",
    "Example 1:\n",
    "\n",
    "Input: s = \"tree\"\n",
    "Output: \"eert\"\n",
    "Explanation: 'e' appears twice while 'r' and 't' both appear once.\n",
    "So 'e' must appear before both 'r' and 't'. Therefore \"eetr\" is also a valid answer.\n",
    "Example 2:\n",
    "\n",
    "Input: s = \"cccaaa\"\n",
    "Output: \"aaaccc\"\n",
    "Explanation: Both 'c' and 'a' appear three times, so both \"cccaaa\" and \"aaaccc\" are valid answers.\n",
    "Note that \"cacaca\" is incorrect, as the same characters must be together.\n",
    "Example 3:\n",
    "\n",
    "Input: s = \"Aabb\"\n",
    "Output: \"bbAa\"\n",
    "Explanation: \"bbaA\" is also a valid answer, but \"Aabb\" is incorrect.\n",
    "Note that 'A' and 'a' are treated as two different characters.\n",
    " \n",
    "\n",
    "Constraints:\n",
    "\n",
    "1 <= s.length <= 5 * 105\n",
    "s consists of uppercase and lowercase English letters and digits.\n"
   ]
  },
  {
   "cell_type": "code",
   "execution_count": 10,
   "id": "f60f1069-00c3-4585-9c07-f8a74e65738d",
   "metadata": {},
   "outputs": [
    {
     "data": {
      "text/plain": [
       "'bbAa'"
      ]
     },
     "execution_count": 10,
     "metadata": {},
     "output_type": "execute_result"
    }
   ],
   "source": [
    "def frequencySort(s):\n",
    "    freq = {}\n",
    "    for i in s:\n",
    "        freq[i] = freq.get(i, 0) + 1\n",
    "\n",
    "    buckets = {}\n",
    "    for chr, cnt in freq.items():\n",
    "        eles = buckets.get(cnt, [])\n",
    "        eles.append(chr)\n",
    "        buckets[cnt] = eles\n",
    "\n",
    "    # len s to 1 because max chr possible is the lenght of the whole string\n",
    "    ans = []\n",
    "    for i in range(len(s), 0, -1):\n",
    "        bucket = buckets.get(i)\n",
    "        if bucket:\n",
    "            for j in buckets[i]:\n",
    "                ans.append(j*i)\n",
    "    return ''.join(ans)\n",
    "\n",
    "s = \"Aabb\"\n",
    "frequencySort(s)"
   ]
  }
 ],
 "metadata": {
  "kernelspec": {
   "display_name": "Python 3 (ipykernel)",
   "language": "python",
   "name": "python3"
  },
  "language_info": {
   "codemirror_mode": {
    "name": "ipython",
    "version": 3
   },
   "file_extension": ".py",
   "mimetype": "text/x-python",
   "name": "python",
   "nbconvert_exporter": "python",
   "pygments_lexer": "ipython3",
   "version": "3.12.7"
  }
 },
 "nbformat": 4,
 "nbformat_minor": 5
}
