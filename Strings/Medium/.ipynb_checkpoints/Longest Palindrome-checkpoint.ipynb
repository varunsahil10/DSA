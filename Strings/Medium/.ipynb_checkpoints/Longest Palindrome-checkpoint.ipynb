{
 "cells": [
  {
   "cell_type": "markdown",
   "id": "d168cd6e-459b-4069-a381-592b51c615a2",
   "metadata": {},
   "source": [
    "### Longest Palindrome"
   ]
  },
  {
   "cell_type": "raw",
   "id": "5f4613ad-16c7-4cfd-867c-e4274892c226",
   "metadata": {},
   "source": [
    "Given a string s which consists of lowercase or uppercase letters, return the length of the longest palindrome that can be built with those letters.\n",
    "\n",
    "Letters are case sensitive, for example, \"Aa\" is not considered a palindrome.\n",
    "\n",
    " \n",
    "\n",
    "Example 1:\n",
    "\n",
    "Input: s = \"abccccdd\"\n",
    "Output: 7\n",
    "Explanation: One longest palindrome that can be built is \"dccaccd\", whose length is 7.\n",
    "Example 2:\n",
    "\n",
    "Input: s = \"a\"\n",
    "Output: 1\n",
    "Explanation: The longest palindrome that can be built is \"a\", whose length is 1.\n",
    " \n",
    "\n",
    "Constraints:\n",
    "\n",
    "1 <= s.length <= 2000\n",
    "s consists of lowercase and/or uppercase English letters only.\n",
    "Seen this question in a real interview before?\n",
    "1/5\n",
    "Yes\n",
    "No\n",
    "Accepted\n",
    "909.1K\n",
    "Submissions\n",
    "1.6M\n",
    "Acceptance Rate\n",
    "55.5%\n"
   ]
  },
  {
   "cell_type": "code",
   "execution_count": 2,
   "id": "88fcaa33-f071-4a43-91a0-4c949382d617",
   "metadata": {},
   "outputs": [
    {
     "data": {
      "text/plain": [
       "7"
      ]
     },
     "execution_count": 2,
     "metadata": {},
     "output_type": "execute_result"
    }
   ],
   "source": [
    "def longestPalindrome(s):\n",
    "    seen = set()\n",
    "    ans = 0\n",
    "    for ch in s:\n",
    "        if ch in seen:\n",
    "            seen.remove(ch)\n",
    "            ans += 2\n",
    "        else:\n",
    "            seen.add(ch)\n",
    "    if seen:\n",
    "        ans += 1\n",
    "    return ans\n",
    "\n",
    "s = \"abccccdd\"\n",
    "longestPalindrome(s)"
   ]
  }
 ],
 "metadata": {
  "kernelspec": {
   "display_name": "Python 3 (ipykernel)",
   "language": "python",
   "name": "python3"
  },
  "language_info": {
   "codemirror_mode": {
    "name": "ipython",
    "version": 3
   },
   "file_extension": ".py",
   "mimetype": "text/x-python",
   "name": "python",
   "nbconvert_exporter": "python",
   "pygments_lexer": "ipython3",
   "version": "3.12.7"
  }
 },
 "nbformat": 4,
 "nbformat_minor": 5
}
