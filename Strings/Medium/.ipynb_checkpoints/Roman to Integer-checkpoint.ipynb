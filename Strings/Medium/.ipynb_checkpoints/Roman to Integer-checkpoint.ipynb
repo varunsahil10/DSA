{
 "cells": [
  {
   "cell_type": "markdown",
   "id": "8687b5d5-c463-4964-a7c6-2341b2796c8d",
   "metadata": {},
   "source": [
    "### Roman to Integer"
   ]
  },
  {
   "cell_type": "raw",
   "id": "fa281df3-cec6-449f-8ced-895a31d52137",
   "metadata": {},
   "source": [
    "Roman numerals are represented by seven different symbols: I, V, X, L, C, D and M.\n",
    "\n",
    "Symbol       Value\n",
    "I             1\n",
    "V             5\n",
    "X             10\n",
    "L             50\n",
    "C             100\n",
    "D             500\n",
    "M             1000\n",
    "For example, 2 is written as II in Roman numeral, just two ones added together. 12 is written as XII, which is simply X + II. The number 27 is written as XXVII, which is XX + V + II.\n",
    "\n",
    "Roman numerals are usually written largest to smallest from left to right. However, the numeral for four is not IIII. Instead, the number four is written as IV. Because the one is before the five we subtract it making four. The same principle applies to the number nine, which is written as IX. There are six instances where subtraction is used:\n",
    "\n",
    "I can be placed before V (5) and X (10) to make 4 and 9. \n",
    "X can be placed before L (50) and C (100) to make 40 and 90. \n",
    "C can be placed before D (500) and M (1000) to make 400 and 900.\n",
    "Given a roman numeral, convert it to an integer.\n",
    "\n",
    " \n",
    "\n",
    "Example 1:\n",
    "\n",
    "Input: s = \"III\"\n",
    "Output: 3\n",
    "Explanation: III = 3.\n",
    "Example 2:\n",
    "\n",
    "Input: s = \"LVIII\"\n",
    "Output: 58\n",
    "Explanation: L = 50, V= 5, III = 3.\n",
    "Example 3:\n",
    "\n",
    "Input: s = \"MCMXCIV\"\n",
    "Output: 1994\n",
    "Explanation: M = 1000, CM = 900, XC = 90 and IV = 4.\n",
    " \n",
    "\n",
    "Constraints:\n",
    "\n",
    "1 <= s.length <= 15\n",
    "s contains only the characters ('I', 'V', 'X', 'L', 'C', 'D', 'M').\n",
    "It is guaranteed that s is a valid roman numeral in the range [1, 3999].\n"
   ]
  },
  {
   "cell_type": "code",
   "execution_count": 2,
   "id": "59144abb-af1f-43e6-a971-63a47a9d1858",
   "metadata": {},
   "outputs": [
    {
     "data": {
      "text/plain": [
       "1994"
      ]
     },
     "execution_count": 2,
     "metadata": {},
     "output_type": "execute_result"
    }
   ],
   "source": [
    "def romanToInt(s):\n",
    "    roman = {\n",
    "        'I':1,\n",
    "        'V':5,\n",
    "        'X':10,\n",
    "        'L':50,\n",
    "        'C':100,\n",
    "        'D':500,\n",
    "        'M':1000,\n",
    "        'IV':4,\n",
    "        'IX':9,\n",
    "        'CD':400,\n",
    "        'CM':900\n",
    "    }\n",
    "\n",
    "    ans = 0\n",
    "    n = len(s)\n",
    "    i = 0\n",
    "    while i < n:\n",
    "        if (i+1) < n and (roman[s[i]] < roman[s[i+1]]):\n",
    "            ans += roman[s[i+1]] - roman[s[i]]\n",
    "            i += 2\n",
    "        else:\n",
    "            ans += roman[s[i]]\n",
    "            i += 1\n",
    "    return ans\n",
    "\n",
    "s = \"MCMXCIV\"\n",
    "romanToInt(s)"
   ]
  }
 ],
 "metadata": {
  "kernelspec": {
   "display_name": "Python 3 (ipykernel)",
   "language": "python",
   "name": "python3"
  },
  "language_info": {
   "codemirror_mode": {
    "name": "ipython",
    "version": 3
   },
   "file_extension": ".py",
   "mimetype": "text/x-python",
   "name": "python",
   "nbconvert_exporter": "python",
   "pygments_lexer": "ipython3",
   "version": "3.12.7"
  }
 },
 "nbformat": 4,
 "nbformat_minor": 5
}
