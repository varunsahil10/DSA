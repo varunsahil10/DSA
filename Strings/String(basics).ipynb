{
 "cells": [
  {
   "cell_type": "markdown",
   "id": "a1124456-0959-4f74-9a24-cb18f8fd40d0",
   "metadata": {},
   "source": [
    "### Anagram"
   ]
  },
  {
   "cell_type": "raw",
   "id": "c238169d-2894-480a-9cc2-8055f2c24b15",
   "metadata": {},
   "source": [
    "Given two strings s1 and s2 consisting of lowercase characters. The task is to check whether two given strings are an anagram of each other or not. An anagram of a string is another string that contains the same characters, only the order of characters can be different. For example, \"act\" and \"tac\" are an anagram of each other. Strings s1 and s2 can only contain lowercase alphabets.\n",
    "\n",
    "Note: You can assume both the strings s1 & s2 are non-empty.\n",
    "\n",
    "Examples :\n",
    "\n",
    "Input: s1 = \"geeks\", s2 = \"kseeg\"\n",
    "Output: true\n",
    "Explanation: Both the string have same characters with same frequency. So, they are anagrams.\n",
    "Input: s1 = \"allergy\", s2 = \"allergic\"\n",
    "Output: false\n",
    "Explanation: Characters in both the strings are not same, so they are not anagrams.\n",
    "Input: s1 = \"g\", s2 = \"g\"\n",
    "Output: true\n",
    "Explanation: Character in both the strings are same, so they are anagrams.\n",
    "Constraints:\n",
    "1 ≤ s1.size(), s2.size() ≤ 105\n",
    "\n"
   ]
  },
  {
   "cell_type": "code",
   "execution_count": 3,
   "id": "33cff385-500b-4739-b789-13fc9c15cf0a",
   "metadata": {},
   "outputs": [
    {
     "name": "stdin",
     "output_type": "stream",
     "text": [
      " 1\n",
      " abbcc\n",
      " ccbab\n"
     ]
    },
    {
     "name": "stdout",
     "output_type": "stream",
     "text": [
      "true\n",
      "~\n"
     ]
    }
   ],
   "source": [
    "#User function Template for python3\n",
    "\n",
    "\n",
    "class Solution:\n",
    "    \n",
    "    #Function is to check whether two strings are anagram of each other or not.\n",
    "    def areAnagrams(self, s1, s2):\n",
    "        #code here\n",
    "        if len(s1) != len(s2):\n",
    "            return False\n",
    "            \n",
    "        sd1 = dict()\n",
    "        sd2 = dict()\n",
    "        \n",
    "        for i in s1:\n",
    "            if sd1.get(i):\n",
    "                sd1[i] += 1\n",
    "            else:\n",
    "                sd1[i] = 1\n",
    "                \n",
    "        for j in s2:\n",
    "            if sd2.get(j):\n",
    "                sd2[j] += 1\n",
    "            else:\n",
    "                sd2[j] = 1\n",
    "        \n",
    "        if sd1 == sd2:\n",
    "            return True\n",
    "        return False\n",
    "\n",
    "#{ \n",
    " # Driver Code Starts\n",
    "#Initial Template for Python 3\n",
    "\n",
    "if __name__ == '__main__':\n",
    "    t = int(input())\n",
    "    for i in range(t):\n",
    "        a = input().strip()\n",
    "        b = input().strip()\n",
    "        if (Solution().areAnagrams(a, b)):\n",
    "            print(\"true\")\n",
    "        else:\n",
    "            print(\"false\")\n",
    "        print(\"~\")\n",
    "\n",
    "# } Driver Code Ends"
   ]
  }
 ],
 "metadata": {
  "kernelspec": {
   "display_name": "Python 3 (ipykernel)",
   "language": "python",
   "name": "python3"
  },
  "language_info": {
   "codemirror_mode": {
    "name": "ipython",
    "version": 3
   },
   "file_extension": ".py",
   "mimetype": "text/x-python",
   "name": "python",
   "nbconvert_exporter": "python",
   "pygments_lexer": "ipython3",
   "version": "3.12.7"
  }
 },
 "nbformat": 4,
 "nbformat_minor": 5
}
