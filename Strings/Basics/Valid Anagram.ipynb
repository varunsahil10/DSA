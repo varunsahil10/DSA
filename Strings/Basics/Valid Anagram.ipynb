{
 "cells": [
  {
   "cell_type": "markdown",
   "id": "9137ce1e-9771-466b-a8ee-f833b54c0f38",
   "metadata": {},
   "source": [
    "### Valid Anagram"
   ]
  },
  {
   "cell_type": "code",
   "execution_count": 2,
   "id": "c9746e55-d0dd-4571-b05a-f12fd8430678",
   "metadata": {},
   "outputs": [
    {
     "data": {
      "text/plain": [
       "True"
      ]
     },
     "execution_count": 2,
     "metadata": {},
     "output_type": "execute_result"
    }
   ],
   "source": [
    "def isAnagram(s, t):\n",
    "    if len(s) != len(t):\n",
    "        return False\n",
    "    freq = {}\n",
    "    for i in s:\n",
    "        freq[i] = freq.get(i, 0) + 1\n",
    "    for i in t:\n",
    "        val = freq.get(i)\n",
    "        if val:\n",
    "            freq[i] -= 1\n",
    "    for key, val in freq.items():\n",
    "        if val != 0:\n",
    "            return False\n",
    "    return True\n",
    "\n",
    "s = \"anagram\"\n",
    "t = \"nagaram\"\n",
    "isAnagram(s, t)"
   ]
  }
 ],
 "metadata": {
  "kernelspec": {
   "display_name": "Python 3 (ipykernel)",
   "language": "python",
   "name": "python3"
  },
  "language_info": {
   "codemirror_mode": {
    "name": "ipython",
    "version": 3
   },
   "file_extension": ".py",
   "mimetype": "text/x-python",
   "name": "python",
   "nbconvert_exporter": "python",
   "pygments_lexer": "ipython3",
   "version": "3.12.7"
  }
 },
 "nbformat": 4,
 "nbformat_minor": 5
}
