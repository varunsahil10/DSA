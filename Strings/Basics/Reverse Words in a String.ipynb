{
 "cells": [
  {
   "cell_type": "markdown",
   "id": "ea442169-9177-43cb-abca-20c8e52269e6",
   "metadata": {},
   "source": [
    "### Reverse Words in a String"
   ]
  },
  {
   "cell_type": "markdown",
   "id": "7187917e-d4b0-4858-845c-fa8676a3d1c1",
   "metadata": {},
   "source": [
    "1. Built in\n",
    "   - Time: O(N)\n",
    "   - Auxiliary space: O(N)"
   ]
  },
  {
   "cell_type": "code",
   "execution_count": 13,
   "id": "41330020-6000-44ce-8fd0-48a2b1ec31ba",
   "metadata": {},
   "outputs": [
    {
     "data": {
      "text/plain": [
       "'example good a'"
      ]
     },
     "execution_count": 13,
     "metadata": {},
     "output_type": "execute_result"
    }
   ],
   "source": [
    "def reverseWords(s):\n",
    "    ns = s.split()[::-1]\n",
    "    return ' '.join(ns)\n",
    "    \n",
    "s = \"a good   example\"\n",
    "reverseWords(s)"
   ]
  },
  {
   "cell_type": "markdown",
   "id": "ff127d91-509e-4b1c-9999-9f758bcfec10",
   "metadata": {},
   "source": [
    "2. Manual\n",
    "   - Time: O(N)\n",
    "   - Auxiliary space: O(N)"
   ]
  },
  {
   "cell_type": "code",
   "execution_count": 1,
   "id": "52f82c8f-32c9-4a41-9ed9-00400cba7d14",
   "metadata": {},
   "outputs": [
    {
     "data": {
      "text/plain": [
       "'example good a'"
      ]
     },
     "execution_count": 1,
     "metadata": {},
     "output_type": "execute_result"
    }
   ],
   "source": [
    "def reverseWords(s):\n",
    "    def reverse(arr):\n",
    "        s = 0\n",
    "        e = len(arr) - 1\n",
    "        while s < e:\n",
    "            arr[s], arr[e] = arr[e], arr[s]\n",
    "            s += 1\n",
    "            e -= 1\n",
    "\n",
    "\n",
    "    s = list(s)\n",
    "\n",
    "    i = len(s) - 1\n",
    "    word = []\n",
    "    ans = []\n",
    "\n",
    "    while i >= 0:\n",
    "        # ignore spaces if any\n",
    "        while i>=0 and s[i] == ' ':\n",
    "            i -= 1\n",
    "        \n",
    "        if i < 0:\n",
    "            break\n",
    "        \n",
    "        # capture the word\n",
    "        while i >= 0  and s[i] != ' ':\n",
    "            word.append(s[i])\n",
    "            i -= 1\n",
    "\n",
    "        # reverse the word to get the correct word\n",
    "        reverse(word)\n",
    "\n",
    "        if ans:\n",
    "            ans.append(' ')\n",
    "        ans.extend(word)\n",
    "        word = []\n",
    "\n",
    "        # i -= 1\n",
    "    return ''.join(ans)\n",
    "\n",
    "s = \"a good   example\"\n",
    "reverseWords(s)"
   ]
  },
  {
   "cell_type": "markdown",
   "id": "bef66603-b974-4e1f-970b-956936ebeab7",
   "metadata": {},
   "source": [
    "3. Inplace\n",
    "   - Time: O(N)\n",
    "   - Auxiliary space except initial string to list: O(1)"
   ]
  },
  {
   "cell_type": "code",
   "execution_count": 15,
   "id": "c78a4db9-8073-421e-9201-ae6b6b5172d6",
   "metadata": {},
   "outputs": [
    {
     "data": {
      "text/plain": [
       "'example good a'"
      ]
     },
     "execution_count": 15,
     "metadata": {},
     "output_type": "execute_result"
    }
   ],
   "source": [
    "def reverseWords(s):\n",
    "    def remove_spaces(arr):\n",
    "        n = len(arr)\n",
    "        write = 0\n",
    "        read = 0\n",
    "\n",
    "        # remove starting spaces\n",
    "        while read < n and arr[read] == ' ':\n",
    "            read += 1\n",
    "        \n",
    "        # write the actual words\n",
    "        while read < n:\n",
    "            if arr[read] != ' ':\n",
    "                arr[write] = arr[read]\n",
    "                write += 1\n",
    "\n",
    "            # if space encountered add a single space\n",
    "            elif  read > 0 and arr[read] == ' ' and arr[read-1] != ' ':\n",
    "                arr[write] = ' '\n",
    "                write += 1 \n",
    "        \n",
    "            read += 1\n",
    "\n",
    "        if write > 0 and arr[write - 1] == ' ':\n",
    "            write -= 1\n",
    "        return arr[:write]\n",
    "\n",
    "    def reverse(arr, s, e):\n",
    "        while s < e:\n",
    "            arr[s], arr[e] = arr[e], arr[s]\n",
    "            s += 1\n",
    "            e -= 1\n",
    "\n",
    "    s = list(s)\n",
    "    chars = remove_spaces(s)\n",
    "    n = len(chars)\n",
    "    \n",
    "    reverse(chars, 0, n-1)\n",
    "\n",
    "    # reverse word by word\n",
    "    start = 0\n",
    "    end = 0\n",
    "    while end <= n:\n",
    "        if end == n or chars[end] == ' ':\n",
    "            reverse(chars, start, end-1)\n",
    "            start = end + 1\n",
    "        end += 1\n",
    "\n",
    "    return ''.join(chars)\n",
    "\n",
    "s = \"a good   example\"\n",
    "reverseWords(s)"
   ]
  }
 ],
 "metadata": {
  "kernelspec": {
   "display_name": "Python 3 (ipykernel)",
   "language": "python",
   "name": "python3"
  },
  "language_info": {
   "codemirror_mode": {
    "name": "ipython",
    "version": 3
   },
   "file_extension": ".py",
   "mimetype": "text/x-python",
   "name": "python",
   "nbconvert_exporter": "python",
   "pygments_lexer": "ipython3",
   "version": "3.12.7"
  }
 },
 "nbformat": 4,
 "nbformat_minor": 5
}
