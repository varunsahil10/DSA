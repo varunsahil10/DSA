{
 "cells": [
  {
   "cell_type": "markdown",
   "id": "62e35f0d-24c5-47a3-8d4d-92978bbd5f38",
   "metadata": {},
   "source": [
    "### Longest Common Prefix"
   ]
  },
  {
   "cell_type": "code",
   "execution_count": 1,
   "id": "376c677d-556a-4f7a-8f3e-38e02d738f6c",
   "metadata": {},
   "outputs": [
    {
     "data": {
      "text/plain": [
       "'fl'"
      ]
     },
     "execution_count": 1,
     "metadata": {},
     "output_type": "execute_result"
    }
   ],
   "source": [
    "def longestCommonPrefix(strs):\n",
    "    ans = \"\"\n",
    "    n = len(strs)\n",
    "    smallest_len = 201\n",
    "    for i in strs:\n",
    "        smallest_len = min(smallest_len, len(i))\n",
    "    \n",
    "    # only 4 are possible\n",
    "    for j in range(smallest_len):\n",
    "        found = strs[0][j]\n",
    "        for i in range(1, n):\n",
    "            if found != strs[i][j]:\n",
    "                return ans\n",
    "        ans += found\n",
    "    return ans\n",
    "\n",
    "\n",
    "strs = [\"flower\",\"flow\",\"flight\"]\n",
    "longestCommonPrefix(strs)"
   ]
  }
 ],
 "metadata": {
  "kernelspec": {
   "display_name": "Python 3 (ipykernel)",
   "language": "python",
   "name": "python3"
  },
  "language_info": {
   "codemirror_mode": {
    "name": "ipython",
    "version": 3
   },
   "file_extension": ".py",
   "mimetype": "text/x-python",
   "name": "python",
   "nbconvert_exporter": "python",
   "pygments_lexer": "ipython3",
   "version": "3.12.7"
  }
 },
 "nbformat": 4,
 "nbformat_minor": 5
}
