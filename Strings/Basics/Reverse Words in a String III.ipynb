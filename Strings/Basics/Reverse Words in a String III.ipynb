{
 "cells": [
  {
   "cell_type": "markdown",
   "id": "1fba8fc4-1da1-4d57-b3b4-c50ab989b5ec",
   "metadata": {},
   "source": [
    "### Reverse Words in a String III"
   ]
  },
  {
   "cell_type": "markdown",
   "id": "fdedd78e-79ac-4692-a2af-c4e278e9345b",
   "metadata": {},
   "source": [
    "1. Manually in place\n",
    "   - Time: O(N)\n",
    "   - Space: O(1) except for converting string to list"
   ]
  },
  {
   "cell_type": "code",
   "execution_count": 1,
   "id": "8abe7698-ca50-4ccc-ac08-9e11ac0ba1cc",
   "metadata": {},
   "outputs": [
    {
     "data": {
      "text/plain": [
       "\"s'teL ekat edoCteeL tsetnoc\""
      ]
     },
     "execution_count": 1,
     "metadata": {},
     "output_type": "execute_result"
    }
   ],
   "source": [
    "def reverseWords(s):\n",
    "    def reverse(arr, s, e):\n",
    "        while s<e:\n",
    "            arr[s], arr[e] = arr[e], arr[s]\n",
    "            s += 1\n",
    "            e -= 1\n",
    "\n",
    "    l = r = 0\n",
    "    s = list(s)\n",
    "    n = len(s)\n",
    "    while r <= n:\n",
    "        if r == n or s[r] == ' ':\n",
    "            reverse(s, l, r-1)\n",
    "            l = r+1\n",
    "        r += 1        \n",
    "    return ''.join(s)\n",
    "    \n",
    "s = \"Let's take LeetCode contest\"\n",
    "reverseWords(s)"
   ]
  },
  {
   "cell_type": "markdown",
   "id": "a8e3cf6e-f5d5-4668-9c55-f6406a7f1333",
   "metadata": {},
   "source": [
    "2. In built functions\n",
    "   - Time: O(N)\n",
    "   - Space: O(N) except for converting string to list"
   ]
  },
  {
   "cell_type": "code",
   "execution_count": 15,
   "id": "fc704252-d090-499a-935c-42b8899e9d25",
   "metadata": {},
   "outputs": [
    {
     "data": {
      "text/plain": [
       "\"s'teL ekat edoCteeL tsetnoc\""
      ]
     },
     "execution_count": 15,
     "metadata": {},
     "output_type": "execute_result"
    }
   ],
   "source": [
    "def reverseWords(s):\n",
    "    s = s.split()\n",
    "    rev_words = [word[::-1] for word in s]\n",
    "    return ' '.join(rev_words)\n",
    "    \n",
    "s = \"Let's take LeetCode contest\"\n",
    "reverseWords(s)"
   ]
  }
 ],
 "metadata": {
  "kernelspec": {
   "display_name": "Python 3 (ipykernel)",
   "language": "python",
   "name": "python3"
  },
  "language_info": {
   "codemirror_mode": {
    "name": "ipython",
    "version": 3
   },
   "file_extension": ".py",
   "mimetype": "text/x-python",
   "name": "python",
   "nbconvert_exporter": "python",
   "pygments_lexer": "ipython3",
   "version": "3.12.7"
  }
 },
 "nbformat": 4,
 "nbformat_minor": 5
}
