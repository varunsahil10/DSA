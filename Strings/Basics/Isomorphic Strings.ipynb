{
 "cells": [
  {
   "cell_type": "markdown",
   "id": "97b09e22-fede-4401-aa0e-f0d58670039a",
   "metadata": {},
   "source": [
    "### 205. Isomorphic Strings"
   ]
  },
  {
   "cell_type": "raw",
   "id": "e1fc86fc-0641-465b-859a-5c952cd8f0a6",
   "metadata": {},
   "source": [
    "Given two strings s and t, determine if they are isomorphic.\n",
    "\n",
    "Two strings s and t are isomorphic if the characters in s can be replaced to get t.\n",
    "\n",
    "All occurrences of a character must be replaced with another character while preserving the order of characters. No two characters may map to the same character, but a character may map to itself.\n",
    "\n",
    " \n",
    "\n",
    "Example 1:\n",
    "\n",
    "Input: s = \"egg\", t = \"add\"\n",
    "\n",
    "Output: true\n",
    "\n",
    "Explanation:\n",
    "\n",
    "The strings s and t can be made identical by:\n",
    "\n",
    "Mapping 'e' to 'a'.\n",
    "Mapping 'g' to 'd'.\n",
    "Example 2:\n",
    "\n",
    "Input: s = \"foo\", t = \"bar\"\n",
    "\n",
    "Output: false\n",
    "\n",
    "Explanation:\n",
    "\n",
    "The strings s and t can not be made identical as 'o' needs to be mapped to both 'a' and 'r'.\n",
    "\n",
    "Example 3:\n",
    "\n",
    "Input: s = \"paper\", t = \"title\"\n",
    "\n",
    "Output: true\n",
    "\n",
    " \n",
    "\n",
    "Constraints:\n",
    "\n",
    "1 <= s.length <= 5 * 104\n",
    "t.length == s.length\n",
    "s and t consist of any valid ascii character.\n",
    "Seen this question in a real interview before?\n",
    "1/5\n",
    "Yes\n",
    "No\n",
    "Accepted\n",
    "1.7M\n",
    "Submissions\n",
    "3"
   ]
  },
  {
   "cell_type": "code",
   "execution_count": 10,
   "id": "39450f6a-e357-4e22-9cf7-ffa33fb1ae6c",
   "metadata": {},
   "outputs": [
    {
     "data": {
      "text/plain": [
       "True"
      ]
     },
     "execution_count": 10,
     "metadata": {},
     "output_type": "execute_result"
    }
   ],
   "source": [
    "def isIsomorphic(s, t):\n",
    "    ST = {}\n",
    "    TS = {}\n",
    "\n",
    "    for c1, c2 in zip(s,t):\n",
    "        if (c1 in ST and ST[c1] != c2) or (c2 in TS and TS[c2] != c1):\n",
    "            return False\n",
    "        ST[c1] = c2\n",
    "        TS[c2] = c1\n",
    "    return True\n",
    "\n",
    "s = \"egg\"\n",
    "t = \"add\"\n",
    "isIsomorphic(s, t)"
   ]
  }
 ],
 "metadata": {
  "kernelspec": {
   "display_name": "Python 3 (ipykernel)",
   "language": "python",
   "name": "python3"
  },
  "language_info": {
   "codemirror_mode": {
    "name": "ipython",
    "version": 3
   },
   "file_extension": ".py",
   "mimetype": "text/x-python",
   "name": "python",
   "nbconvert_exporter": "python",
   "pygments_lexer": "ipython3",
   "version": "3.12.7"
  }
 },
 "nbformat": 4,
 "nbformat_minor": 5
}
