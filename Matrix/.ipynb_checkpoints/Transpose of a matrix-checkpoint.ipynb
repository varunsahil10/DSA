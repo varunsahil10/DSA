{
 "cells": [
  {
   "cell_type": "code",
   "execution_count": 1,
   "id": "c7b8f09b-04dc-485c-b15e-8aa9b9c71069",
   "metadata": {},
   "outputs": [
    {
     "name": "stdout",
     "output_type": "stream",
     "text": [
      "Modified matrix is\n",
      "1  2  3  4  \n",
      "1  2  3  4  \n",
      "1  2  3  4  \n",
      "1  2  3  4  \n"
     ]
    }
   ],
   "source": [
    "# Python3 Program to find\n",
    "# transpose of a matrix\n",
    "\n",
    "N = 4\n",
    "\n",
    "# Finds transpose of A[][] in-place\n",
    "\n",
    "\n",
    "def transpose(A):\n",
    "\n",
    "\tfor i in range(N):\n",
    "\t\tfor j in range(i+1, N):\n",
    "\t\t\tA[i][j], A[j][i] = A[j][i], A[i][j]\n",
    "\n",
    "\n",
    "# driver code\n",
    "A = [[1, 1, 1, 1],\n",
    "\t[2, 2, 2, 2],\n",
    "\t[3, 3, 3, 3],\n",
    "\t[4, 4, 4, 4]]\n",
    "\n",
    "transpose(A)\n",
    "\n",
    "print(\"Modified matrix is\")\n",
    "for i in range(N):\n",
    "\tfor j in range(N):\n",
    "\t\tprint(A[i][j], \" \", end='')\n",
    "\tprint()\n",
    "\n",
    "# This code is contributed\n",
    "# by Anant Agarwal."
   ]
  },
  {
   "cell_type": "code",
   "execution_count": null,
   "id": "d6d605c0-a27a-4be3-bc0e-0d05a1a865dd",
   "metadata": {},
   "outputs": [],
   "source": []
  }
 ],
 "metadata": {
  "kernelspec": {
   "display_name": "Python 3 (ipykernel)",
   "language": "python",
   "name": "python3"
  },
  "language_info": {
   "codemirror_mode": {
    "name": "ipython",
    "version": 3
   },
   "file_extension": ".py",
   "mimetype": "text/x-python",
   "name": "python",
   "nbconvert_exporter": "python",
   "pygments_lexer": "ipython3",
   "version": "3.12.7"
  }
 },
 "nbformat": 4,
 "nbformat_minor": 5
}
