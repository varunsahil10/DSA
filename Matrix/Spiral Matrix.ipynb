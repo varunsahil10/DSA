{
 "cells": [
  {
   "cell_type": "markdown",
   "id": "0cb7a402-d4f2-4b71-9064-afb0f1452ee5",
   "metadata": {},
   "source": [
    "### Spiral Matrix"
   ]
  },
  {
   "cell_type": "code",
   "execution_count": 2,
   "id": "aa592c1b-15ad-4a7a-b500-c257c5779ff1",
   "metadata": {},
   "outputs": [
    {
     "data": {
      "text/plain": [
       "[1, 2, 3, 4, 8, 12, 11, 10, 9, 5, 6, 7]"
      ]
     },
     "execution_count": 2,
     "metadata": {},
     "output_type": "execute_result"
    }
   ],
   "source": [
    "def spiralOrder(matrix):\n",
    "    n = len(matrix)\n",
    "    m = len(matrix[0])\n",
    "\n",
    "    top = left = 0\n",
    "    bottom = n-1\n",
    "    right = m-1\n",
    "    ans = []\n",
    "\n",
    "    while top <= bottom and left <= right:\n",
    "        for i in range(left, right+1):\n",
    "            ans.append(matrix[top][i])\n",
    "        top += 1\n",
    "\n",
    "        for i in range(top, bottom+1):\n",
    "            ans.append(matrix[i][right])\n",
    "        right -= 1\n",
    "\n",
    "        if top <= bottom:\n",
    "            for i in range(right, left-1, -1):\n",
    "                ans.append(matrix[bottom][i])\n",
    "            bottom -= 1\n",
    "        \n",
    "        if left <= right:\n",
    "            for i in range(bottom, top-1, -1):\n",
    "                ans.append(matrix[i][left])\n",
    "            left += 1\n",
    "    return ans\n",
    "\n",
    "matrix = [[1,2,3,4],[5,6,7,8],[9,10,11,12]]\n",
    "spiralOrder(matrix)"
   ]
  }
 ],
 "metadata": {
  "kernelspec": {
   "display_name": "Python 3 (ipykernel)",
   "language": "python",
   "name": "python3"
  },
  "language_info": {
   "codemirror_mode": {
    "name": "ipython",
    "version": 3
   },
   "file_extension": ".py",
   "mimetype": "text/x-python",
   "name": "python",
   "nbconvert_exporter": "python",
   "pygments_lexer": "ipython3",
   "version": "3.12.7"
  }
 },
 "nbformat": 4,
 "nbformat_minor": 5
}
