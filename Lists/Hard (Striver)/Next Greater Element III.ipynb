{
 "cells": [
  {
   "cell_type": "markdown",
   "id": "57c3b68f-158f-4248-aa73-4dde319e093d",
   "metadata": {},
   "source": [
    "### Next Greater Element III\n",
    "- Time: O(N)\n",
    "- Space: O(1)"
   ]
  },
  {
   "cell_type": "raw",
   "id": "0c75ede5-4535-470a-b903-5c3d5b0f8895",
   "metadata": {},
   "source": [
    "Given a positive integer n, find the smallest integer which has exactly the same digits existing in the integer n and is greater in value than n. If no such positive integer exists, return -1.\n",
    "\n",
    "Note that the returned integer should fit in 32-bit integer, if there is a valid answer but it does not fit in 32-bit integer, return -1.\n",
    "\n",
    " \n",
    "\n",
    "Example 1:\n",
    "\n",
    "Input: n = 12\n",
    "Output: 21\n",
    "Example 2:\n",
    "\n",
    "Input: n = 21\n",
    "Output: -1\n",
    " \n",
    "\n",
    "Constraints:\n",
    "\n",
    "1 <= n <= 2^31 - 1"
   ]
  },
  {
   "cell_type": "code",
   "execution_count": 10,
   "id": "f4eaccdb-faeb-4051-833d-c4b75724a88b",
   "metadata": {},
   "outputs": [
    {
     "data": {
      "text/plain": [
       "214748436"
      ]
     },
     "execution_count": 10,
     "metadata": {},
     "output_type": "execute_result"
    }
   ],
   "source": [
    "def nextGreaterElement(n: int) -> int:\n",
    "    def reverse(arr, s, e):\n",
    "        while s < e:\n",
    "            arr[s], arr[e] = arr[e], arr[s]\n",
    "            s += 1\n",
    "            e -= 1\n",
    "\n",
    "    nums = list(map(int,str(n)))\n",
    "    n = len(nums)\n",
    "    # next permutation\n",
    "    pivot = -1\n",
    "    for i in range(n-2, -1, -1):\n",
    "        if nums[i] < nums[i+1]:\n",
    "            pivot = i\n",
    "            break\n",
    "    \n",
    "    if pivot == -1:\n",
    "        return -1\n",
    "\n",
    "    for i in range(n-1, pivot-1, -1):\n",
    "        if nums[i] >  nums[pivot]:\n",
    "            nums[i], nums[pivot] = nums[pivot], nums[i]\n",
    "            break\n",
    "    reverse(nums, pivot+1, n-1)\n",
    "    number = int(''.join(map(str, nums)))\n",
    "    return number if number < 2**31 else -1\n",
    "\n",
    "n = 214748364\n",
    "nextGreaterElement(n)"
   ]
  }
 ],
 "metadata": {
  "kernelspec": {
   "display_name": "Python 3 (ipykernel)",
   "language": "python",
   "name": "python3"
  },
  "language_info": {
   "codemirror_mode": {
    "name": "ipython",
    "version": 3
   },
   "file_extension": ".py",
   "mimetype": "text/x-python",
   "name": "python",
   "nbconvert_exporter": "python",
   "pygments_lexer": "ipython3",
   "version": "3.12.7"
  }
 },
 "nbformat": 4,
 "nbformat_minor": 5
}
