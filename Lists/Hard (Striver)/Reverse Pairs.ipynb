{
 "cells": [
  {
   "cell_type": "markdown",
   "id": "d3145cc6-1e7a-46ac-ae25-cb2b6613543c",
   "metadata": {},
   "source": [
    "### Reverse Pairs"
   ]
  },
  {
   "cell_type": "raw",
   "id": "cae9df92-71be-4bfe-8afe-ccdbab2f41e5",
   "metadata": {},
   "source": [
    "Given an integer array nums, return the number of reverse pairs in the array.\n",
    "\n",
    "A reverse pair is a pair (i, j) where:\n",
    "\n",
    "0 <= i < j < nums.length and\n",
    "nums[i] > 2 * nums[j].\n",
    " \n",
    "\n",
    "Example 1:\n",
    "\n",
    "Input: nums = [1,3,2,3,1]\n",
    "Output: 2\n",
    "Explanation: The reverse pairs are:\n",
    "(1, 4) --> nums[1] = 3, nums[4] = 1, 3 > 2 * 1\n",
    "(3, 4) --> nums[3] = 3, nums[4] = 1, 3 > 2 * 1\n",
    "Example 2:\n",
    "\n",
    "Input: nums = [2,4,3,5,1]\n",
    "Output: 3\n",
    "Explanation: The reverse pairs are:\n",
    "(1, 4) --> nums[1] = 4, nums[4] = 1, 4 > 2 * 1\n",
    "(2, 4) --> nums[2] = 3, nums[4] = 1, 3 > 2 * 1\n",
    "(3, 4) --> nums[3] = 5, nums[4] = 1, 5 > 2 * 1\n",
    " \n",
    "\n",
    "Constraints:\n",
    "\n",
    "1 <= nums.length <= 5 * 104\n",
    "-231 <= nums[i] <= 231 - 1\n"
   ]
  },
  {
   "cell_type": "code",
   "execution_count": 4,
   "id": "13f4a5f4-e6da-4767-b48a-68938a9f020c",
   "metadata": {},
   "outputs": [
    {
     "data": {
      "text/plain": [
       "3"
      ]
     },
     "execution_count": 4,
     "metadata": {},
     "output_type": "execute_result"
    }
   ],
   "source": [
    "def reversePairs(nums):\n",
    "    def merge(arr, low, mid, high):\n",
    "\n",
    "        i = low\n",
    "        j = mid+1\n",
    "        temp = []\n",
    "\n",
    "        while i<=mid and j<=high:\n",
    "            if arr[i] <= arr[j]:\n",
    "                temp.append(arr[i])\n",
    "                i += 1\n",
    "            else:\n",
    "                temp.append(arr[j])\n",
    "                j += 1\n",
    "        \n",
    "        while i <= mid:\n",
    "            temp.append(arr[i])\n",
    "            i += 1\n",
    "\n",
    "        while j <= high:\n",
    "            temp.append(arr[j])\n",
    "            j += 1\n",
    "\n",
    "        for i in range(low, high+1):\n",
    "            arr[i] = temp[i-low]\n",
    "        \n",
    "    def revpairs(arr, low, mid, high):\n",
    "        j = mid+1\n",
    "        count = 0\n",
    "        for i in range(low, mid+1):\n",
    "            while j <= high and arr[i] > 2*arr[j]:\n",
    "                j += 1\n",
    "            count += j - (mid+1)\n",
    "        return count\n",
    "    \n",
    "    def msort(arr, low, high):\n",
    "        if low >= high:\n",
    "            return 0\n",
    "        \n",
    "        mid = low + (high-low)//2\n",
    "        c = 0\n",
    "        c += msort(arr, low, mid)\n",
    "        c += msort(arr, mid+1, high)\n",
    "        c += revpairs(arr, low, mid, high)\n",
    "        merge(arr, low, mid, high)\n",
    "\n",
    "        return c\n",
    "    \n",
    "\n",
    "    return msort(nums, 0, len(nums)-1)\n",
    "\n",
    "nums = [2,4,3,5,1]\n",
    "reversePairs(nums)"
   ]
  }
 ],
 "metadata": {
  "kernelspec": {
   "display_name": "Python 3 (ipykernel)",
   "language": "python",
   "name": "python3"
  },
  "language_info": {
   "codemirror_mode": {
    "name": "ipython",
    "version": 3
   },
   "file_extension": ".py",
   "mimetype": "text/x-python",
   "name": "python",
   "nbconvert_exporter": "python",
   "pygments_lexer": "ipython3",
   "version": "3.12.7"
  }
 },
 "nbformat": 4,
 "nbformat_minor": 5
}
