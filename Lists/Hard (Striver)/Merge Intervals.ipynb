{
 "cells": [
  {
   "cell_type": "markdown",
   "id": "94712295-abc8-4625-a0ae-c89c144241a0",
   "metadata": {},
   "source": [
    "### Merge Intervals"
   ]
  },
  {
   "cell_type": "raw",
   "id": "c5f480b0-8451-4e9a-a4d2-f128e4a5a665",
   "metadata": {},
   "source": [
    "Given an array of intervals where intervals[i] = [starti, endi], merge all overlapping intervals, and return an array of the non-overlapping intervals that cover all the intervals in the input.\n",
    "\n",
    " \n",
    "\n",
    "Example 1:\n",
    "\n",
    "Input: intervals = [[1,3],[2,6],[8,10],[15,18]]\n",
    "Output: [[1,6],[8,10],[15,18]]\n",
    "Explanation: Since intervals [1,3] and [2,6] overlap, merge them into [1,6].\n",
    "Example 2:\n",
    "\n",
    "Input: intervals = [[1,4],[4,5]]\n",
    "Output: [[1,5]]\n",
    "Explanation: Intervals [1,4] and [4,5] are considered overlapping.\n",
    " \n",
    "\n",
    "Constraints:\n",
    "\n",
    "1 <= intervals.length <= 104\n",
    "intervals[i].length == 2\n",
    "0 <= starti <= endi <= 104\n"
   ]
  },
  {
   "cell_type": "code",
   "execution_count": 5,
   "id": "61066182-0629-4fc5-8daa-155a40c8d1ff",
   "metadata": {},
   "outputs": [
    {
     "data": {
      "text/plain": [
       "[[1, 6], [8, 10], [15, 18]]"
      ]
     },
     "execution_count": 5,
     "metadata": {},
     "output_type": "execute_result"
    }
   ],
   "source": [
    "def merge(intervals):\n",
    "    intervals.sort()\n",
    "    n = len(intervals)\n",
    "    ans = [intervals[0]]\n",
    "    for interval in intervals[1:]:\n",
    "        if interval[0] > ans[-1][1]:\n",
    "            ans.append(interval)\n",
    "        else:\n",
    "            ans[-1][1] = max(ans[-1][1], interval[1])\n",
    "    return ans\n",
    "\n",
    "intervals = [[1,3],[2,6],[8,10],[15,18]]\n",
    "merge(intervals)"
   ]
  }
 ],
 "metadata": {
  "kernelspec": {
   "display_name": "Python 3 (ipykernel)",
   "language": "python",
   "name": "python3"
  },
  "language_info": {
   "codemirror_mode": {
    "name": "ipython",
    "version": 3
   },
   "file_extension": ".py",
   "mimetype": "text/x-python",
   "name": "python",
   "nbconvert_exporter": "python",
   "pygments_lexer": "ipython3",
   "version": "3.12.7"
  }
 },
 "nbformat": 4,
 "nbformat_minor": 5
}
