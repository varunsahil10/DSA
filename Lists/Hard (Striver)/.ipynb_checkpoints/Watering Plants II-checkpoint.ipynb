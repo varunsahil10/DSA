{
 "cells": [
  {
   "cell_type": "markdown",
   "id": "e0777346-62b5-4f15-b974-73e60f39dc35",
   "metadata": {},
   "source": [
    "### Watering Plants II"
   ]
  },
  {
   "cell_type": "raw",
   "id": "f33ca9c0-c410-463b-9eb4-f6d479475316",
   "metadata": {},
   "source": [
    "Alice and Bob want to water n plants in their garden. The plants are arranged in a row and are labeled from 0 to n - 1 from left to right where the ith plant is located at x = i.\n",
    "\n",
    "Each plant needs a specific amount of water. Alice and Bob have a watering can each, initially full. They water the plants in the following way:\n",
    "\n",
    "Alice waters the plants in order from left to right, starting from the 0th plant. Bob waters the plants in order from right to left, starting from the (n - 1)th plant. They begin watering the plants simultaneously.\n",
    "It takes the same amount of time to water each plant regardless of how much water it needs.\n",
    "Alice/Bob must water the plant if they have enough in their can to fully water it. Otherwise, they first refill their can (instantaneously) then water the plant.\n",
    "In case both Alice and Bob reach the same plant, the one with more water currently in his/her watering can should water this plant. If they have the same amount of water, then Alice should water this plant.\n",
    "Given a 0-indexed integer array plants of n integers, where plants[i] is the amount of water the ith plant needs, and two integers capacityA and capacityB representing the capacities of Alice's and Bob's watering cans respectively, return the number of times they have to refill to water all the plants.\n",
    "\n",
    " \n",
    "\n",
    "Example 1:\n",
    "\n",
    "Input: plants = [2,2,3,3], capacityA = 5, capacityB = 5\n",
    "Output: 1\n",
    "Explanation:\n",
    "- Initially, Alice and Bob have 5 units of water each in their watering cans.\n",
    "- Alice waters plant 0, Bob waters plant 3.\n",
    "- Alice and Bob now have 3 units and 2 units of water respectively.\n",
    "- Alice has enough water for plant 1, so she waters it. Bob does not have enough water for plant 2, so he refills his can then waters it.\n",
    "So, the total number of times they have to refill to water all the plants is 0 + 0 + 1 + 0 = 1.\n",
    "Example 2:\n",
    "\n",
    "Input: plants = [2,2,3,3], capacityA = 3, capacityB = 4\n",
    "Output: 2\n",
    "Explanation:\n",
    "- Initially, Alice and Bob have 3 units and 4 units of water in their watering cans respectively.\n",
    "- Alice waters plant 0, Bob waters plant 3.\n",
    "- Alice and Bob now have 1 unit of water each, and need to water plants 1 and 2 respectively.\n",
    "- Since neither of them have enough water for their current plants, they refill their cans and then water the plants.\n",
    "So, the total number of times they have to refill to water all the plants is 0 + 1 + 1 + 0 = 2.\n",
    "Example 3:\n",
    "\n",
    "Input: plants = [5], capacityA = 10, capacityB = 8\n",
    "Output: 0\n",
    "Explanation:\n",
    "- There is only one plant.\n",
    "- Alice's watering can has 10 units of water, whereas Bob's can has 8 units. Since Alice has more water in her can, she waters this plant.\n",
    "So, the total number of times they have to refill is 0.\n",
    " \n",
    "\n",
    "Constraints:\n",
    "\n",
    "n == plants.length\n",
    "1 <= n <= 105\n",
    "1 <= plants[i] <= 106\n",
    "max(plants[i]) <= capacityA, capacityB <= 109\n"
   ]
  },
  {
   "cell_type": "code",
   "execution_count": 4,
   "id": "b879bfeb-95c0-4754-af5c-ab8919e75747",
   "metadata": {},
   "outputs": [
    {
     "data": {
      "text/plain": [
       "2"
      ]
     },
     "execution_count": 4,
     "metadata": {},
     "output_type": "execute_result"
    }
   ],
   "source": [
    "from typing import List\n",
    "\n",
    "def minimumRefill(plants: List[int], capacityA: int, capacityB: int) -> int:\n",
    "    a = 0\n",
    "    b = len(plants) - 1\n",
    "    waterA = capacityA\n",
    "    waterB = capacityB\n",
    "    refill = 0\n",
    "\n",
    "    while a < b:\n",
    "        if waterA < plants[a]:\n",
    "            refill += 1\n",
    "            waterA = capacityA\n",
    "        waterA -= plants[a]\n",
    "        a += 1\n",
    "\n",
    "        if waterB < plants[b]:\n",
    "            refill += 1\n",
    "            waterB = capacityB\n",
    "        waterB -= plants[b]\n",
    "        b -= 1\n",
    "\n",
    "    if a == b:\n",
    "        # The middle plant, choose who waters based on who has more water\n",
    "        if max(waterA, waterB) < plants[a]:\n",
    "            refill += 1\n",
    "        # No need to subtract from waterA/waterB as this is the last step\n",
    "\n",
    "    return refill\n",
    "\n",
    "plants = [1,2,4,4,5]\n",
    "capacityA = 6\n",
    "capacityB = 5\n",
    "minimumRefill(plants, capacityA, capacityB)\n",
    "\n"
   ]
  }
 ],
 "metadata": {
  "kernelspec": {
   "display_name": "Python 3 (ipykernel)",
   "language": "python",
   "name": "python3"
  },
  "language_info": {
   "codemirror_mode": {
    "name": "ipython",
    "version": 3
   },
   "file_extension": ".py",
   "mimetype": "text/x-python",
   "name": "python",
   "nbconvert_exporter": "python",
   "pygments_lexer": "ipython3",
   "version": "3.12.7"
  }
 },
 "nbformat": 4,
 "nbformat_minor": 5
}
