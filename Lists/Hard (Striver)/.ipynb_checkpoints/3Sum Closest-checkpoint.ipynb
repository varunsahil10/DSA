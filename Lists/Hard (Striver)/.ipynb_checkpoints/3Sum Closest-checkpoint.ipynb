{
 "cells": [
  {
   "cell_type": "markdown",
   "id": "df3777c1-6f13-4ae2-8979-eeba5971a891",
   "metadata": {},
   "source": [
    "### 3Sum Closest"
   ]
  },
  {
   "cell_type": "raw",
   "id": "fabadab0-8436-41c5-b842-ee09555e4fed",
   "metadata": {},
   "source": [
    "Given an integer array nums of length n and an integer target, find three integers in nums such that the sum is closest to target.\n",
    "\n",
    "Return the sum of the three integers.\n",
    "\n",
    "You may assume that each input would have exactly one solution.\n",
    "\n",
    " \n",
    "\n",
    "Example 1:\n",
    "\n",
    "Input: nums = [-1,2,1,-4], target = 1\n",
    "Output: 2\n",
    "Explanation: The sum that is closest to the target is 2. (-1 + 2 + 1 = 2).\n",
    "Example 2:\n",
    "\n",
    "Input: nums = [0,0,0], target = 1\n",
    "Output: 0\n",
    "Explanation: The sum that is closest to the target is 0. (0 + 0 + 0 = 0).\n",
    " \n",
    "\n",
    "Constraints:\n",
    "\n",
    "3 <= nums.length <= 500\n",
    "-1000 <= nums[i] <= 1000\n",
    "-104 <= target <= 104\n"
   ]
  },
  {
   "cell_type": "code",
   "execution_count": 2,
   "id": "861e1b07-5d46-4a42-8179-bc83e68a6f44",
   "metadata": {},
   "outputs": [
    {
     "data": {
      "text/plain": [
       "2"
      ]
     },
     "execution_count": 2,
     "metadata": {},
     "output_type": "execute_result"
    }
   ],
   "source": [
    "def threeSumClosest(nums, target):\n",
    "    n = len(nums)\n",
    "    closest_sum = float(\"-inf\")\n",
    "    min_diff = float(\"inf\")\n",
    "    nums.sort()\n",
    "\n",
    "    for i in range(n):\n",
    "        j = i+1\n",
    "        k = n-1\n",
    "        while j < k:\n",
    "            sum = nums[i] + nums[j] + nums[k]\n",
    "            if sum < target:\n",
    "                j += 1\n",
    "            elif sum > target:\n",
    "                k -= 1\n",
    "            else:\n",
    "                return sum\n",
    "            \n",
    "            if min_diff > abs(target - sum):\n",
    "                min_diff = abs(target - sum)\n",
    "                closest_sum = sum\n",
    "    return closest_sum\n",
    "\n",
    "nums = [-1,2,1,-4]\n",
    "target = 1\n",
    "threeSumClosest(nums, target)"
   ]
  }
 ],
 "metadata": {
  "kernelspec": {
   "display_name": "Python 3 (ipykernel)",
   "language": "python",
   "name": "python3"
  },
  "language_info": {
   "codemirror_mode": {
    "name": "ipython",
    "version": 3
   },
   "file_extension": ".py",
   "mimetype": "text/x-python",
   "name": "python",
   "nbconvert_exporter": "python",
   "pygments_lexer": "ipython3",
   "version": "3.12.7"
  }
 },
 "nbformat": 4,
 "nbformat_minor": 5
}
