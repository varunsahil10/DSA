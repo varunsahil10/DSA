{
 "cells": [
  {
   "cell_type": "markdown",
   "id": "aa11b0a8-c778-4026-ac7e-0d6711fe2ee3",
   "metadata": {},
   "source": [
    "### Count Subarrays with Given XOR"
   ]
  },
  {
   "cell_type": "raw",
   "id": "c895e456-566f-41ce-a326-5c4f73957a6a",
   "metadata": {},
   "source": [
    "Given an array of integers ‘ARR’ and an integer ‘X’, you are supposed to find the number of subarrays of 'ARR' which have bitwise XOR of the elements equal to 'X'.\n",
    "\n",
    "Note:\n",
    "An array ‘B’ is a subarray of an array ‘A’ if ‘B’ that can be obtained by deletion of, several elements(possibly none) from the start of ‘A’ and several elements(possibly none) from the end of ‘A’. \n",
    "Detailed explanation ( Input/output format, Notes, Images )\n",
    "Constraints :\n",
    "1 <= T <= 10\n",
    "3 <= N <= 5 * 10 ^ 4\n",
    "0 <= X <= 10 ^ 9\n",
    "0 <= ARR[i] <= 10 ^ 9\n",
    "\n",
    "Where ‘T’ denotes the number of test cases, ‘N’ denotes the number of elements in the array, ‘X’ denotes the required subarray XOR and ARR[i] denotes the 'i-th' element of the given array.\n",
    "\n",
    "Time Limit: 1 sec\n",
    "Sample Input 1 :\n",
    "2\n",
    "5 8\n",
    "5 3 8 3 10\n",
    "3 7\n",
    "5 2 9\n",
    "Sample Output 1 :\n",
    "2\n",
    "1\n",
    "Explanation of Sample Input 1 :\n",
    "In the first test case, the subarray from index 1 to index 3 i.e. {3,8,3} and the subarray from index 2 to index 2 i.e. {8} have bitwise XOR equal to 8.\n",
    "\n",
    "In the second test case, the subarray from index 0 to index 1 i.e. {5,2} has bitwise XOR equal to 7.\n",
    "Sample Input 2 :\n",
    "2\n",
    "6 11\n",
    "10 1 0 3 4 7\n",
    "5 4\n",
    "4 3 1 2 4\n",
    "Sample Output 2 :\n",
    "3\n",
    "4\n"
   ]
  },
  {
   "cell_type": "code",
   "execution_count": 2,
   "id": "860cfa9d-9d0a-4fd2-bcc6-593a5d70dab0",
   "metadata": {},
   "outputs": [
    {
     "data": {
      "text/plain": [
       "4"
      ]
     },
     "execution_count": 2,
     "metadata": {},
     "output_type": "execute_result"
    }
   ],
   "source": [
    "def subarraysXor(arr, k):\n",
    "    # Write your code here\n",
    "    # Return an integer\n",
    "    prexor = {0:1}\n",
    "    xor_till_now = 0\n",
    "    count = 0\n",
    "    n = len(arr)\n",
    "\n",
    "    for i in range(n):\n",
    "        xor_till_now ^= arr[i]\n",
    "\n",
    "        find = xor_till_now ^ k\n",
    "\n",
    "        val = prexor.get(find)\n",
    "        if val:\n",
    "            count += val\n",
    "        \n",
    "        if xor_till_now in prexor:\n",
    "            prexor[xor_till_now] += 1\n",
    "        else:\n",
    "            prexor[xor_till_now] = 1\n",
    "    return count\n",
    "\n",
    "arr = [4,2,2,6,4]\n",
    "k=6\n",
    "subarraysXor(arr, k)"
   ]
  }
 ],
 "metadata": {
  "kernelspec": {
   "display_name": "Python 3 (ipykernel)",
   "language": "python",
   "name": "python3"
  },
  "language_info": {
   "codemirror_mode": {
    "name": "ipython",
    "version": 3
   },
   "file_extension": ".py",
   "mimetype": "text/x-python",
   "name": "python",
   "nbconvert_exporter": "python",
   "pygments_lexer": "ipython3",
   "version": "3.12.7"
  }
 },
 "nbformat": 4,
 "nbformat_minor": 5
}
