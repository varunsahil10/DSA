{
 "cells": [
  {
   "cell_type": "markdown",
   "id": "f4ea09de-2524-41b9-a0f5-eb9ff638ec7c",
   "metadata": {},
   "source": [
    "### 3 Sum"
   ]
  },
  {
   "cell_type": "markdown",
   "id": "41212da7-40b0-47ea-8691-d9ae5e399ca6",
   "metadata": {},
   "source": [
    "1. Better\n",
    "   - Time: O(N^2)\n",
    "   - Space: O(N)"
   ]
  },
  {
   "cell_type": "code",
   "execution_count": 17,
   "id": "3b3edd48-8a68-4203-b8a6-4c2cf4f6e19d",
   "metadata": {},
   "outputs": [
    {
     "data": {
      "text/plain": [
       "[(-1, 0, 1), (-1, -1, 2)]"
      ]
     },
     "execution_count": 17,
     "metadata": {},
     "output_type": "execute_result"
    }
   ],
   "source": [
    "def threeSum(nums):\n",
    "    n = len(nums)\n",
    "    ans = set()\n",
    "    for i in range(n-2):\n",
    "        s = set()\n",
    "        for j in range(i+1, n):\n",
    "            desired = -(nums[i] + nums[j])\n",
    "            if desired in s:\n",
    "                triplet = [nums[i], nums[j], desired]\n",
    "                triplet.sort()\n",
    "                ans.add(tuple(triplet))\n",
    "            s.add(nums[j])\n",
    "    return list(ans)\n",
    "\n",
    "nums = [-1,0,1,2,-1,-4]\n",
    "threeSum(nums)"
   ]
  },
  {
   "cell_type": "code",
   "execution_count": null,
   "id": "127a09d3-860a-4ad6-b781-8c919177c08e",
   "metadata": {},
   "outputs": [],
   "source": []
  }
 ],
 "metadata": {
  "kernelspec": {
   "display_name": "Python 3 (ipykernel)",
   "language": "python",
   "name": "python3"
  },
  "language_info": {
   "codemirror_mode": {
    "name": "ipython",
    "version": 3
   },
   "file_extension": ".py",
   "mimetype": "text/x-python",
   "name": "python",
   "nbconvert_exporter": "python",
   "pygments_lexer": "ipython3",
   "version": "3.12.7"
  }
 },
 "nbformat": 4,
 "nbformat_minor": 5
}
