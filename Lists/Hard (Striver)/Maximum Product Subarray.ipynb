{
 "cells": [
  {
   "cell_type": "markdown",
   "id": "798abac8-c156-4ec1-b5db-2c298c94e9e2",
   "metadata": {},
   "source": [
    "### Maximum Product Subarray"
   ]
  },
  {
   "cell_type": "code",
   "execution_count": 2,
   "id": "26beac7f-f048-498b-81f2-44e2678b3196",
   "metadata": {},
   "outputs": [
    {
     "data": {
      "text/plain": [
       "6"
      ]
     },
     "execution_count": 2,
     "metadata": {},
     "output_type": "execute_result"
    }
   ],
   "source": [
    "def maxProduct(nums):\n",
    "    pre = 1\n",
    "    suff = 1\n",
    "    ans = float(\"-inf\")\n",
    "    n = len(nums)\n",
    "    for i in range(n):\n",
    "        if pre == 0:\n",
    "            pre = 1\n",
    "        if suff == 0:\n",
    "            suff = 1\n",
    "        pre *= nums[i]\n",
    "        suff *= nums[n-1 - i]\n",
    "        ans = max(ans, max(pre, suff))\n",
    "    return ans\n",
    "\n",
    "nums = [2,3,-2,4]\n",
    "maxProduct(nums)"
   ]
  }
 ],
 "metadata": {
  "kernelspec": {
   "display_name": "Python 3 (ipykernel)",
   "language": "python",
   "name": "python3"
  },
  "language_info": {
   "codemirror_mode": {
    "name": "ipython",
    "version": 3
   },
   "file_extension": ".py",
   "mimetype": "text/x-python",
   "name": "python",
   "nbconvert_exporter": "python",
   "pygments_lexer": "ipython3",
   "version": "3.12.7"
  }
 },
 "nbformat": 4,
 "nbformat_minor": 5
}
