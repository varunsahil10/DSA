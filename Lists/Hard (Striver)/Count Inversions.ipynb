{
 "cells": [
  {
   "cell_type": "markdown",
   "id": "4466e74d-4bf9-4469-a335-6bbbb90c8645",
   "metadata": {},
   "source": [
    "### Count Inversions"
   ]
  },
  {
   "cell_type": "raw",
   "id": "d93e2e19-d6d8-4e00-b5dd-c20a1c718c69",
   "metadata": {},
   "source": [
    "For a given integer array/list 'ARR' of size 'N' containing all distinct values, find the total number of 'Inversions' that may exist.\n",
    "\n",
    "An inversion is defined for a pair of integers in the array/list when the following two conditions are met.\n",
    "\n",
    "A pair ('ARR[i]', 'ARR[j]') is said to be an inversion when:\n",
    "\n",
    "1. 'ARR[i] > 'ARR[j]' \n",
    "2. 'i' < 'j'\n",
    "\n",
    "Where 'i' and 'j' denote the indices ranging from [0, 'N').\n",
    "Detailed explanation ( Input/output format, Notes, Images )\n",
    "Constraints :\n",
    "1 <= N <= 10^5 \n",
    "1 <= ARR[i] <= 10^9\n",
    "\n",
    "Where 'ARR[i]' denotes the array element at 'ith' index.\n",
    "\n",
    "Time Limit: 1 sec\n",
    "Sample Input 1 :\n",
    "3\n",
    "3 2 1\n",
    "Sample Output 1 :\n",
    "3\n",
    "Explanation of Sample Output 1:\n",
    "We have a total of 3 pairs which satisfy the condition of inversion. (3, 2), (2, 1) and (3, 1).\n",
    "Sample Input 2 :\n",
    "5\n",
    "2 5 1 3 4\n",
    "Sample Output 2 :\n",
    "4\n",
    "Explanation of Sample Output 1:\n",
    "We have a total of 4 pairs which satisfy the condition of inversion. (2, 1), (5, 1), (5, 3) and (5, 4).\n",
    "\n",
    "\n",
    "Hints:\n",
    "1. Start with the brute force approach.\n",
    "2. Use a modified merge sort.\n",
    "3. Iterate through the elements in sorted order and use a Fenwick tree to track the inversions.\n"
   ]
  },
  {
   "cell_type": "code",
   "execution_count": 2,
   "id": "066dd101-7ce5-4da7-b581-94a1f3c6b8d6",
   "metadata": {},
   "outputs": [
    {
     "data": {
      "text/plain": [
       "4"
      ]
     },
     "execution_count": 2,
     "metadata": {},
     "output_type": "execute_result"
    }
   ],
   "source": [
    "def getInversions(arr):\n",
    "    # write your code here !!\n",
    "    def merge(arr, low, mid, high):\n",
    "        left = arr[low:mid+1]\n",
    "        right = arr[mid+1:high+1]\n",
    "\n",
    "        m = mid - low + 1\n",
    "        n = high - mid\n",
    "\n",
    "        i = j = 0\n",
    "        k = low\n",
    "        count = 0\n",
    "        while i<m and j<n:\n",
    "            if left[i] <= right[j]:\n",
    "                arr[k] = left[i]\n",
    "                i += 1\n",
    "            else:\n",
    "                arr[k] = right[j]\n",
    "                count += m-i\n",
    "                j += 1\n",
    "            k += 1\n",
    "        \n",
    "        while i<m:\n",
    "            arr[k] = left[i]\n",
    "            i += 1\n",
    "            k += 1\n",
    "        \n",
    "        while j<n:\n",
    "            arr[k] = right[j]\n",
    "            j += 1\n",
    "            k += 1\n",
    "        return count\n",
    "\n",
    "    def mergeSort(arr, low, high):\n",
    "        \n",
    "        c = 0\n",
    "        if low >=  high:\n",
    "            return c\n",
    "\n",
    "        mid = low + (high - low)//2\n",
    "        c += mergeSort(arr, low, mid)\n",
    "        c += mergeSort(arr, mid+1, high)\n",
    "        c += merge(arr, low, mid, high)\n",
    "        return c\n",
    "\n",
    "\n",
    "    return mergeSort(arr, 0, len(arr)-1)\n",
    "\n",
    "\n",
    "arr = [2, 5, 1, 3, 4]\n",
    "getInversions(arr)"
   ]
  }
 ],
 "metadata": {
  "kernelspec": {
   "display_name": "Python 3 (ipykernel)",
   "language": "python",
   "name": "python3"
  },
  "language_info": {
   "codemirror_mode": {
    "name": "ipython",
    "version": 3
   },
   "file_extension": ".py",
   "mimetype": "text/x-python",
   "name": "python",
   "nbconvert_exporter": "python",
   "pygments_lexer": "ipython3",
   "version": "3.12.7"
  }
 },
 "nbformat": 4,
 "nbformat_minor": 5
}
