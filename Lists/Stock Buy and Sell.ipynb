{
 "cells": [
  {
   "cell_type": "markdown",
   "id": "7c75a788-0bec-41ad-aa26-40cc6ca26e14",
   "metadata": {},
   "source": [
    "### Stock buy and sell"
   ]
  },
  {
   "cell_type": "raw",
   "id": "8e108474-aa4b-4094-889b-482a45081d0a",
   "metadata": {},
   "source": [
    "Given an array arr[] denoting the cost of stock on each day, the task is to find the maximum total profit if we can buy and sell the stocks any number of times.\n",
    "\n",
    "\n",
    "Note: We can only sell a stock which we have bought earlier and we cannot hold multiple stocks on any day.\n",
    "\n",
    "Examples:\n",
    "\n",
    "Input: arr[] = [100, 180, 260, 310, 40, 535, 695]\n",
    "Output: 865\n",
    "Explanation: Buy the stock on day 0 and sell it on day 3 => 310 – 100 = 210 Buy the stock on day 4 and sell it on day 6 => 695 – 40 = 655 Maximum Profit  = 210 + 655 = 865\n",
    "Input: arr[] = [4, 2, 2, 2, 4]\n",
    "Output: 2\n",
    "Explanation: Buy the stock on day 3 and sell it on day 4 => 4 – 2 = 2\n",
    "Input: arr[] = [4, 2]\n",
    "Output: 0\n",
    "Explanation: Don't Buy the stock.\n",
    "Constraints:\n",
    "2 ≤ arr.size() ≤ 106\n",
    "0 ≤ arr[i] ≤ 106\n",
    "\n"
   ]
  },
  {
   "cell_type": "code",
   "execution_count": 10,
   "id": "f60a8041-ea76-4938-82f5-f2f235e31c68",
   "metadata": {},
   "outputs": [
    {
     "name": "stdin",
     "output_type": "stream",
     "text": [
      " 1\n",
      " 23 45 65 41 22 55 66 99 88 100 1\n"
     ]
    },
    {
     "name": "stdout",
     "output_type": "stream",
     "text": [
      "131\n",
      "~\n"
     ]
    }
   ],
   "source": [
    "#{ \n",
    " # Driver Code Starts\n",
    "#Initial Template for Python 3\n",
    "\n",
    "# } Driver Code Ends\n",
    "\n",
    "#User function template for Python\n",
    "\n",
    "class Solution:\n",
    "    #Function to find the days of buying and selling stock for max profit.\n",
    "    def stockBuySell(self, arr):\n",
    "        n = len(arr)\n",
    "        profit = 0\n",
    "        for i in range(1, n):\n",
    "            if arr[i] > arr[i-1]:\n",
    "                profit += arr[i] - arr[i-1]\n",
    "        return profit\n",
    "            \n",
    "\n",
    "#{ \n",
    " # Driver Code Starts.\n",
    "#Initial Template for Python 3\n",
    "\n",
    "if __name__ == \"__main__\":\n",
    "    t = int(input())\n",
    "    while t > 0:\n",
    "        arr = list(map(int, input().split()))\n",
    "        ob = Solution()\n",
    "        res = ob.stockBuySell(arr)\n",
    "        print(res)\n",
    "        print(\"~\")\n",
    "        t -= 1\n",
    "\n",
    "\n",
    "# } Driver Code Ends"
   ]
  },
  {
   "cell_type": "code",
   "execution_count": null,
   "id": "0979dff5-8aff-4aa4-8b0d-1e4d458ea3a0",
   "metadata": {},
   "outputs": [],
   "source": []
  }
 ],
 "metadata": {
  "kernelspec": {
   "display_name": "Python 3 (ipykernel)",
   "language": "python",
   "name": "python3"
  },
  "language_info": {
   "codemirror_mode": {
    "name": "ipython",
    "version": 3
   },
   "file_extension": ".py",
   "mimetype": "text/x-python",
   "name": "python",
   "nbconvert_exporter": "python",
   "pygments_lexer": "ipython3",
   "version": "3.12.7"
  }
 },
 "nbformat": 4,
 "nbformat_minor": 5
}
