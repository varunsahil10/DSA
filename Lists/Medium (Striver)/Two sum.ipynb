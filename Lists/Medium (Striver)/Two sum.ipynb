{
 "cells": [
  {
   "cell_type": "markdown",
   "id": "f54a6405-9a12-4085-afbd-946bb4eb4e9e",
   "metadata": {},
   "source": [
    "### Two sum"
   ]
  },
  {
   "cell_type": "markdown",
   "id": "2a7efe29-2544-44a7-8a86-7beed86d883b",
   "metadata": {},
   "source": [
    "1. Naive"
   ]
  },
  {
   "cell_type": "code",
   "execution_count": 5,
   "id": "63e6c1c8-3870-4e93-930e-204a29dc74bb",
   "metadata": {},
   "outputs": [
    {
     "data": {
      "text/plain": [
       "[0, 1]"
      ]
     },
     "execution_count": 5,
     "metadata": {},
     "output_type": "execute_result"
    }
   ],
   "source": [
    "class Solution:\n",
    "    def twoSum(self, nums: list[int], target: int) -> list[int]:\n",
    "        n = len(nums)\n",
    "        ans = []\n",
    "        for i in range(n):\n",
    "            for j in range(i+1, n):\n",
    "                if nums[i] + nums[j] == target:\n",
    "                    ans = [i,j]\n",
    "        return ans\n",
    "\n",
    "nums = [2,7,11,15]\n",
    "target = 9\n",
    "Solution().twoSum(nums, target)"
   ]
  },
  {
   "cell_type": "markdown",
   "id": "e3490ec8-8855-47c9-9bcc-aed6fee4f646",
   "metadata": {},
   "source": [
    "2. Better (using hashmap)"
   ]
  },
  {
   "cell_type": "code",
   "execution_count": 10,
   "id": "16fb1cf3-4fb2-44dd-ba31-223461bdb3ab",
   "metadata": {},
   "outputs": [
    {
     "data": {
      "text/plain": [
       "[1, 0]"
      ]
     },
     "execution_count": 10,
     "metadata": {},
     "output_type": "execute_result"
    }
   ],
   "source": [
    "class Solution:\n",
    "    def twoSum(self, nums: list[int], target: int) -> list[int]:\n",
    "        n = len(nums)\n",
    "        H = {}\n",
    "        for i in range(n):\n",
    "            val = target - nums[i]\n",
    "            if val in H:\n",
    "                if H.get(val) != i:\n",
    "                    return [i, H.get(val)]\n",
    "            else:\n",
    "                H[nums[i]] = i\n",
    "\n",
    "nums = [2,7,11,15]\n",
    "target = 9\n",
    "Solution().twoSum(nums, target)"
   ]
  },
  {
   "cell_type": "markdown",
   "id": "850ae6dd-e409-471e-b2a4-600aef5c9ab6",
   "metadata": {},
   "source": [
    "3. Without extra space"
   ]
  },
  {
   "cell_type": "code",
   "execution_count": 13,
   "id": "0fa6527c-b567-401c-9703-ec5fbac9bfb2",
   "metadata": {},
   "outputs": [
    {
     "name": "stdout",
     "output_type": "stream",
     "text": [
      "This is the answer for variant 1: YES\n"
     ]
    }
   ],
   "source": [
    "def two_sum(n, arr, target):\n",
    "    arr.sort()\n",
    "    left, right = 0, n - 1\n",
    "    while left < right:\n",
    "        current_sum = arr[left] + arr[right]\n",
    "        if current_sum == target:\n",
    "            return \"YES\"\n",
    "        elif current_sum < target:\n",
    "            left += 1\n",
    "        else:\n",
    "            right -= 1\n",
    "    return \"NO\"\n",
    "\n",
    "# Example usage\n",
    "n = 5\n",
    "arr = [2, 6, 5, 8, 11]\n",
    "target = 14\n",
    "ans = two_sum(n, arr, target)\n",
    "print(\"This is the answer for variant 1:\", ans)\n"
   ]
  }
 ],
 "metadata": {
  "kernelspec": {
   "display_name": "Python 3 (ipykernel)",
   "language": "python",
   "name": "python3"
  },
  "language_info": {
   "codemirror_mode": {
    "name": "ipython",
    "version": 3
   },
   "file_extension": ".py",
   "mimetype": "text/x-python",
   "name": "python",
   "nbconvert_exporter": "python",
   "pygments_lexer": "ipython3",
   "version": "3.12.7"
  }
 },
 "nbformat": 4,
 "nbformat_minor": 5
}
