{
 "cells": [
  {
   "cell_type": "markdown",
   "id": "62bf7eca-e6d4-4b6b-bb07-35f9d4da968f",
   "metadata": {},
   "source": [
    "### Leaders in an array"
   ]
  },
  {
   "cell_type": "raw",
   "id": "b9496916-efad-4511-ad3c-897948a9cc59",
   "metadata": {},
   "source": [
    "Given a sequence of numbers. Find all leaders in sequence. An element is a leader if it is strictly greater than all the elements on its right side.\n",
    "\n",
    "Note:\n",
    "1. Rightmost element is always a leader.\n",
    "\n",
    "2. The order of elements in the return sequence must be the same as the given sequence\n",
    "Example:\n",
    "The given sequence is 13, 14, 3, 8, 2 .\n",
    "\n",
    "13 Not a leader because on the right side 14 is greater than 13.\n",
    "\n",
    "14 lt is a leader because no one greater element in the right side.\n",
    "\n",
    "3 Not a leader because on the right side 8 are greater than 3.\n",
    "\n",
    "8 It is a leader because no one greater element on the right side.\n",
    "\n",
    "2 It is a leader because it is the rightmost element in a sequence.\n",
    "\n",
    "Hence there are 3 leaders in the above sequence which are 14, 8, 2.\n",
    "Detailed explanation ( Input/output format, Notes, Images )\n",
    "Constraints:\n",
    "1 <= T <= 50\n",
    "1 <= N <= 10^4\n",
    "-10^9 <= ELEMENTS[i] <= 10^9\n",
    "\n",
    "Where ‘ELEMENTS[i]’ denotes an element at position ‘i’ in the sequence.\n",
    "\n",
    "Time limit: 1 sec\n",
    "Sample Input 1:\n",
    "2\n",
    "6\n",
    "6 7 4 2 5 3\n",
    "4\n",
    "11 10 9 8\n",
    "Sample Output 1:\n",
    "7 5 3\n",
    "11 10 9 8\n",
    "Explanation of Sample Output 1:\n",
    "In test case 1,\n",
    "\n",
    "6 Not a leader because on the right side 7 is greater than 6.\n",
    "\n",
    "7 lt is a leader because no one greater element in the right side.\n",
    "\n",
    "4 Not a leader because on the right side 5 are greater than 4.\n",
    "\n",
    "2 Not a leader because on the right side 5, 3 are greater than 2.\n",
    "\n",
    "5 lt is a leader because no one greater element in the right side.\n",
    "\n",
    "3 It is a leader because it is a rightmost element in a sequence.\n",
    "\n",
    "Hence there are 3 leaders in sequence 7, 5, 3. \n",
    "\n",
    "In test case 2,\n",
    "\n",
    "Given sequence is in descending order, so all elements are leaders\n",
    "Sample Input 2:\n",
    "2\n",
    "6\n",
    "5 10 11 12 -1 -2\n",
    "4\n",
    "10 -11 -3 -2\n",
    "Sample Output 2:\n",
    "12 -1 -2\n",
    "10 -2\n",
    "Explanation of Sample Output 2:\n",
    "In test case 1,\n",
    "\n",
    "5 Not a leader because on the right side 10 is greater than 5.\n",
    "\n",
    "10 Not a leader because on the right side 11 is greater than 10.\n",
    "\n",
    "11 Not a leader because on the right side 12 are greater than 11.\n",
    "\n",
    "12 lt is a leader because no one greater element in the right side.\n",
    "\n",
    "-1 lt is a leader because no one greater element in the right side.\n",
    "\n",
    "-2 It is a leader because it is a rightmost element in a sequence.\n",
    "\n",
    "Hence there are 3 leaders in sequence 12, -1, -2. \n",
    "\n",
    "In test case 2,\n",
    "\n",
    "10 lt is a leader because no one greater element in the right side.\n",
    "\n",
    "-11 Not a leader because on the right side -3 are greater than -11.\n",
    "\n",
    "-3 Not a leader because on the right side -2 are greater than -3.\n",
    "\n",
    "-2 It is a leader because it is a rightmost element in a sequence.\n",
    "\n",
    "Hence there are 2 leaders in sequence 10, -2. \n"
   ]
  },
  {
   "cell_type": "code",
   "execution_count": 6,
   "id": "801c4285-f46a-4339-bb8a-1f1e1a1ce27e",
   "metadata": {},
   "outputs": [
    {
     "name": "stdin",
     "output_type": "stream",
     "text": [
      " 2\n",
      " 6\n",
      " 6 7 4 2 5 3\n"
     ]
    },
    {
     "name": "stdout",
     "output_type": "stream",
     "text": [
      "7 5 3 \n"
     ]
    },
    {
     "name": "stdin",
     "output_type": "stream",
     "text": [
      " 4\n",
      " 11 10 9 8\n"
     ]
    },
    {
     "name": "stdout",
     "output_type": "stream",
     "text": [
      "11 10 9 8 \n"
     ]
    }
   ],
   "source": [
    "from os import *\n",
    "from sys import *\n",
    "from collections import *\n",
    "from math import *\n",
    "\n",
    "def findLeaders(arr, n):\n",
    "    # Write your code here.\n",
    "    maxa = float(\"-inf\")\n",
    "    ans = []\n",
    "    for i in range(n-1, -1, -1):\n",
    "        if arr[i] > maxa:\n",
    "            ans.append(arr[i])\n",
    "            maxa = arr[i]\n",
    "    return ans[::-1]\n",
    "\n",
    "# Taking input using fast I/O.\n",
    "def takeInput():\n",
    "    n = int(input())\n",
    "    elements = list(map(int, input().strip().split(\" \")))\n",
    "\n",
    "    return n, elements\n",
    "\n",
    "# Main.\n",
    "t = int(input())\n",
    "while t:\n",
    "    n, elements = takeInput()\n",
    "    answer = findLeaders(elements, n)\n",
    "    for ans in answer:\n",
    "        print(ans, end=\" \")\n",
    "    print()\n",
    "    t = t-1\n",
    "\n"
   ]
  }
 ],
 "metadata": {
  "kernelspec": {
   "display_name": "Python 3 (ipykernel)",
   "language": "python",
   "name": "python3"
  },
  "language_info": {
   "codemirror_mode": {
    "name": "ipython",
    "version": 3
   },
   "file_extension": ".py",
   "mimetype": "text/x-python",
   "name": "python",
   "nbconvert_exporter": "python",
   "pygments_lexer": "ipython3",
   "version": "3.12.7"
  }
 },
 "nbformat": 4,
 "nbformat_minor": 5
}
