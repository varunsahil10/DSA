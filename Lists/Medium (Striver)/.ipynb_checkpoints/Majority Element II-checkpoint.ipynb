{
 "cells": [
  {
   "cell_type": "markdown",
   "id": "80df372e-bd90-4599-a9c3-26ac0d6ec6a5",
   "metadata": {},
   "source": [
    "### Majority Element II"
   ]
  },
  {
   "cell_type": "raw",
   "id": "e9e302a9-ab2d-4b59-b06e-47146ea73241",
   "metadata": {},
   "source": [
    "Given an integer array of size n, find all elements that appear more than ⌊ n/3 ⌋ times.\n",
    "\n",
    " \n",
    "\n",
    "Example 1:\n",
    "\n",
    "Input: nums = [3,2,3]\n",
    "Output: [3]\n",
    "Example 2:\n",
    "\n",
    "Input: nums = [1]\n",
    "Output: [1]\n",
    "Example 3:\n",
    "\n",
    "Input: nums = [1,2]\n",
    "Output: [1,2]\n",
    " \n",
    "\n",
    "Constraints:\n",
    "\n",
    "1 <= nums.length <= 5 * 104\n",
    "-109 <= nums[i] <= 109\n",
    " \n",
    "\n",
    "Follow up: Could you solve the problem in linear time and in O(1) space?\n",
    "\n"
   ]
  },
  {
   "cell_type": "code",
   "execution_count": 16,
   "id": "c3693e51-6d5b-41e4-943d-2a246bda166c",
   "metadata": {},
   "outputs": [
    {
     "data": {
      "text/plain": [
       "[1, 2]"
      ]
     },
     "execution_count": 16,
     "metadata": {},
     "output_type": "execute_result"
    }
   ],
   "source": [
    "def majorityElement(nums):\n",
    "    n = len(nums)\n",
    "    ele1 = ele2 = float(\"-inf\")\n",
    "    cnt1 = cnt2 = 0\n",
    "\n",
    "    for num in nums:\n",
    "        if cnt1 == 0 and num != ele2:\n",
    "            ele1 = num\n",
    "            cnt1 += 1\n",
    "        elif cnt2 == 0 and num != ele1:\n",
    "            ele2 = num\n",
    "            cnt2 += 1\n",
    "        elif num == ele1:\n",
    "            cnt1 += 1\n",
    "        elif num == ele2:\n",
    "            cnt2 += 1\n",
    "        else:\n",
    "            cnt1 -= 1\n",
    "            cnt2 -= 1\n",
    "    \n",
    "    cnt1 = cnt2 = 0\n",
    "    \n",
    "    for num in nums:\n",
    "        if num == ele1:\n",
    "            cnt1 += 1\n",
    "        elif num == ele2:\n",
    "            cnt2 += 1\n",
    "    \n",
    "    ans = []\n",
    "    if cnt1 > n//3:\n",
    "        ans.append(ele1)\n",
    "    if cnt2 > n//3:\n",
    "        ans.append(ele2)\n",
    "    ans.sort()\n",
    "    return ans\n",
    "    \n",
    "nums =  [1] * 10000 + [2] * 10000 +[3] * 9000\n",
    "\n",
    "majorityElement(nums)\n"
   ]
  }
 ],
 "metadata": {
  "kernelspec": {
   "display_name": "Python 3 (ipykernel)",
   "language": "python",
   "name": "python3"
  },
  "language_info": {
   "codemirror_mode": {
    "name": "ipython",
    "version": 3
   },
   "file_extension": ".py",
   "mimetype": "text/x-python",
   "name": "python",
   "nbconvert_exporter": "python",
   "pygments_lexer": "ipython3",
   "version": "3.12.7"
  }
 },
 "nbformat": 4,
 "nbformat_minor": 5
}
