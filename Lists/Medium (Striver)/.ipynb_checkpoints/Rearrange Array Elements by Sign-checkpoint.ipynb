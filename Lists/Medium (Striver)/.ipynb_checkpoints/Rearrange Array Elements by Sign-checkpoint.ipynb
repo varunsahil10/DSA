{
 "cells": [
  {
   "cell_type": "markdown",
   "id": "24e1f15a-9f8b-4d62-bcbe-c47a7d17adaa",
   "metadata": {},
   "source": [
    "### Rearrange Array Elements by Sign"
   ]
  },
  {
   "cell_type": "raw",
   "id": "e522e5d8-d05c-40f4-aa08-98a22b708e0d",
   "metadata": {},
   "source": [
    "You are given a 0-indexed integer array nums of even length consisting of an equal number of positive and negative integers.\n",
    "\n",
    "You should return the array of nums such that the the array follows the given conditions:\n",
    "\n",
    "Every consecutive pair of integers have opposite signs.\n",
    "For all integers with the same sign, the order in which they were present in nums is preserved.\n",
    "The rearranged array begins with a positive integer.\n",
    "Return the modified array after rearranging the elements to satisfy the aforementioned conditions.\n",
    "\n",
    " \n",
    "\n",
    "Example 1:\n",
    "\n",
    "Input: nums = [3,1,-2,-5,2,-4]\n",
    "Output: [3,-2,1,-5,2,-4]\n",
    "Explanation:\n",
    "The positive integers in nums are [3,1,2]. The negative integers are [-2,-5,-4].\n",
    "The only possible way to rearrange them such that they satisfy all conditions is [3,-2,1,-5,2,-4].\n",
    "Other ways such as [1,-2,2,-5,3,-4], [3,1,2,-2,-5,-4], [-2,3,-5,1,-4,2] are incorrect because they do not satisfy one or more conditions.  \n",
    "Example 2:\n",
    "\n",
    "Input: nums = [-1,1]\n",
    "Output: [1,-1]\n",
    "Explanation:\n",
    "1 is the only positive integer and -1 the only negative integer in nums.\n",
    "So nums is rearranged to [1,-1].\n",
    " \n",
    "\n",
    "Constraints:\n",
    "\n",
    "2 <= nums.length <= 2 * 105\n",
    "nums.length is even\n",
    "1 <= |nums[i]| <= 105\n",
    "nums consists of equal number of positive and negative integers.\n",
    " \n",
    "\n",
    "It is not required to do the modifications in-place.\n"
   ]
  },
  {
   "cell_type": "code",
   "execution_count": 2,
   "id": "9b8cdc66-0fc6-4d7d-9cf0-6609e069d9a4",
   "metadata": {},
   "outputs": [
    {
     "data": {
      "text/plain": [
       "[3, -2, 1, -5, 2, -4]"
      ]
     },
     "execution_count": 2,
     "metadata": {},
     "output_type": "execute_result"
    }
   ],
   "source": [
    "class Solution:\n",
    "    def rearrangeArray(self, nums: list[int]) -> list[int]:\n",
    "        n = len(nums)\n",
    "        ans = [0] * n\n",
    "        pos = 0\n",
    "        neg = 1\n",
    "\n",
    "        for i in range(n):\n",
    "            if nums[i] < 0:\n",
    "                ans[neg] = nums[i]\n",
    "                neg += 2\n",
    "            else:\n",
    "                ans[pos] = nums[i]\n",
    "                pos += 2\n",
    "        return ans    \n",
    "\n",
    "nums = [3,1,-2,-5,2,-4]\n",
    "Solution().rearrangeArray(nums)"
   ]
  }
 ],
 "metadata": {
  "kernelspec": {
   "display_name": "Python 3 (ipykernel)",
   "language": "python",
   "name": "python3"
  },
  "language_info": {
   "codemirror_mode": {
    "name": "ipython",
    "version": 3
   },
   "file_extension": ".py",
   "mimetype": "text/x-python",
   "name": "python",
   "nbconvert_exporter": "python",
   "pygments_lexer": "ipython3",
   "version": "3.12.7"
  }
 },
 "nbformat": 4,
 "nbformat_minor": 5
}
