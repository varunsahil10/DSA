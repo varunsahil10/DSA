{
 "cells": [
  {
   "cell_type": "markdown",
   "id": "f617ce59-8deb-42af-9adb-9d4ffb532e9f",
   "metadata": {},
   "source": [
    "### Subarray Sum Equals K"
   ]
  },
  {
   "cell_type": "raw",
   "id": "0de61f6b-1771-45e5-b1f5-58b4f1789651",
   "metadata": {},
   "source": [
    "Given an array of integers nums and an integer k, return the total number of subarrays whose sum equals to k.\n",
    "\n",
    "A subarray is a contiguous non-empty sequence of elements within an array.\n",
    "\n",
    " \n",
    "\n",
    "Example 1:\n",
    "\n",
    "Input: nums = [1,1,1], k = 2\n",
    "Output: 2\n",
    "Example 2:\n",
    "\n",
    "Input: nums = [1,2,3], k = 3\n",
    "Output: 2\n",
    " \n",
    "\n",
    "Constraints:\n",
    "\n",
    "1 <= nums.length <= 2 * 104\n",
    "-1000 <= nums[i] <= 1000\n",
    "-107 <= k <= 107\n"
   ]
  },
  {
   "cell_type": "code",
   "execution_count": 4,
   "id": "2ddd742c-7b67-46e0-98aa-428e2129379d",
   "metadata": {},
   "outputs": [
    {
     "data": {
      "text/plain": [
       "8"
      ]
     },
     "execution_count": 4,
     "metadata": {},
     "output_type": "execute_result"
    }
   ],
   "source": [
    "def subarraySum(nums, k):\n",
    "    n = len(nums)\n",
    "    ps = {0:1}\n",
    "    count = 0\n",
    "    sum = 0\n",
    "    for i in range(n):\n",
    "        sum += nums[i]\n",
    "        desired = sum - k\n",
    "        des_count = ps.get(desired)\n",
    "        if des_count:\n",
    "            count += des_count\n",
    "        if ps.get(sum):\n",
    "            ps[sum] += 1\n",
    "        else:\n",
    "            ps[sum] = 1\n",
    "    return count\n",
    "\n",
    "nums = [1,2,3,-3,1,1,1,4,2,-3]\n",
    "k = 3\n",
    "subarraySum(nums, k)"
   ]
  }
 ],
 "metadata": {
  "kernelspec": {
   "display_name": "Python 3 (ipykernel)",
   "language": "python",
   "name": "python3"
  },
  "language_info": {
   "codemirror_mode": {
    "name": "ipython",
    "version": 3
   },
   "file_extension": ".py",
   "mimetype": "text/x-python",
   "name": "python",
   "nbconvert_exporter": "python",
   "pygments_lexer": "ipython3",
   "version": "3.12.7"
  }
 },
 "nbformat": 4,
 "nbformat_minor": 5
}
