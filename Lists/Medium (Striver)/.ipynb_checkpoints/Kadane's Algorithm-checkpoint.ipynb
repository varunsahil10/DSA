{
 "cells": [
  {
   "cell_type": "markdown",
   "id": "85146bfe-0b91-466f-a896-916d1f7f136d",
   "metadata": {},
   "source": [
    "### Kadane's Algorithm\n",
    "Find the subarray having the largest sum and return the sum\n"
   ]
  },
  {
   "cell_type": "code",
   "execution_count": 1,
   "id": "d21264b5-1f3f-4fa5-b5d8-e7239b4729ab",
   "metadata": {},
   "outputs": [
    {
     "data": {
      "text/plain": [
       "6"
      ]
     },
     "execution_count": 1,
     "metadata": {},
     "output_type": "execute_result"
    }
   ],
   "source": [
    "class Solution:\n",
    "    def maxSubArray(self, nums: list[int]) -> int:\n",
    "        sum = 0\n",
    "        n = len(nums)\n",
    "        ans = -10001\n",
    "\n",
    "        for i in range(n):\n",
    "            sum += nums[i]\n",
    "            ans = max(ans, sum)\n",
    "            if sum < 0:\n",
    "                sum = 0\n",
    "        return ans\n",
    "            \n",
    "arr = [-2,1,-3,4,-1,2,1,-5,4]\n",
    "Solution().maxSubArray(arr)"
   ]
  },
  {
   "cell_type": "markdown",
   "id": "e7a01af8-7605-410d-8d0c-3699dd84d174",
   "metadata": {},
   "source": [
    "Length of such array"
   ]
  },
  {
   "cell_type": "code",
   "execution_count": 20,
   "id": "c3822156-87f7-4dd8-a75f-788080e9d1ab",
   "metadata": {},
   "outputs": [
    {
     "name": "stdout",
     "output_type": "stream",
     "text": [
      "max sum: 132\n",
      "index: (10, 28)\n",
      "ele: (1, 5)\n"
     ]
    }
   ],
   "source": [
    "class Solution:\n",
    "    def maxSubArray(self, nums: list[int]) -> int:\n",
    "        sum = 0\n",
    "        n = len(nums)\n",
    "        ans = -10001\n",
    "        start = end = -1\n",
    "        \n",
    "        for i in range(n):\n",
    "            if sum == 0:\n",
    "                start = i\n",
    "            \n",
    "            sum += nums[i]\n",
    "            \n",
    "            if sum > ans:\n",
    "                ans = sum\n",
    "                end = i\n",
    "                \n",
    "            if sum < 0:\n",
    "                sum = 0\n",
    "        print(f\"max sum: {ans}\")\n",
    "        print(f\"index: {start, end}\")\n",
    "        print(f\"ele: {arr[start], arr[end]}\")\n",
    "            \n",
    "arr = [-2,1,-3,4,-1,2,1,-5,4]\n",
    "arr = [-10, -3, -2, -1, -5, 2, 3, -2, 4, -100, 1, 2, 3, -1, 2, 100, -50, -2, 70, -5, -3, 4, 6, -2, 3, -1, -2, 2, 5, -10]\n",
    "\n",
    "Solution().maxSubArray(arr)"
   ]
  }
 ],
 "metadata": {
  "kernelspec": {
   "display_name": "Python 3 (ipykernel)",
   "language": "python",
   "name": "python3"
  },
  "language_info": {
   "codemirror_mode": {
    "name": "ipython",
    "version": 3
   },
   "file_extension": ".py",
   "mimetype": "text/x-python",
   "name": "python",
   "nbconvert_exporter": "python",
   "pygments_lexer": "ipython3",
   "version": "3.12.7"
  }
 },
 "nbformat": 4,
 "nbformat_minor": 5
}
