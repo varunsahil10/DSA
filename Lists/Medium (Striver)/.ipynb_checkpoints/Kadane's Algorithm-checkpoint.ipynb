{
 "cells": [
  {
   "cell_type": "markdown",
   "id": "85146bfe-0b91-466f-a896-916d1f7f136d",
   "metadata": {},
   "source": [
    "### Kadane's Algorithm\n",
    "Find the subarray having the largest sum and return the sum\n"
   ]
  },
  {
   "cell_type": "code",
   "execution_count": 1,
   "id": "d21264b5-1f3f-4fa5-b5d8-e7239b4729ab",
   "metadata": {},
   "outputs": [
    {
     "data": {
      "text/plain": [
       "6"
      ]
     },
     "execution_count": 1,
     "metadata": {},
     "output_type": "execute_result"
    }
   ],
   "source": [
    "class Solution:\n",
    "    def maxSubArray(self, nums: list[int]) -> int:\n",
    "        sum = 0\n",
    "        n = len(nums)\n",
    "        ans = -10001\n",
    "\n",
    "        for i in range(n):\n",
    "            sum += nums[i]\n",
    "            ans = max(ans, sum)\n",
    "            if sum < 0:\n",
    "                sum = 0\n",
    "        return ans\n",
    "            \n",
    "arr = [-2,1,-3,4,-1,2,1,-5,4]\n",
    "Solution().maxSubArray(arr)"
   ]
  }
 ],
 "metadata": {
  "kernelspec": {
   "display_name": "Python 3 (ipykernel)",
   "language": "python",
   "name": "python3"
  },
  "language_info": {
   "codemirror_mode": {
    "name": "ipython",
    "version": 3
   },
   "file_extension": ".py",
   "mimetype": "text/x-python",
   "name": "python",
   "nbconvert_exporter": "python",
   "pygments_lexer": "ipython3",
   "version": "3.12.7"
  }
 },
 "nbformat": 4,
 "nbformat_minor": 5
}
