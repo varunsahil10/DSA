{
 "cells": [
  {
   "cell_type": "markdown",
   "id": "818462a0-c741-4cc0-8f13-bcc7179a62e2",
   "metadata": {},
   "source": [
    "### Best Time to Buy and Sell Stock"
   ]
  },
  {
   "cell_type": "raw",
   "id": "e2712ef0-c135-4b3e-b5bb-c1824abc1227",
   "metadata": {},
   "source": [
    "You are given an array prices where prices[i] is the price of a given stock on the ith day.\n",
    "\n",
    "You want to maximize your profit by choosing a single day to buy one stock and choosing a different day in the future to sell that stock.\n",
    "\n",
    "Return the maximum profit you can achieve from this transaction. If you cannot achieve any profit, return 0.\n",
    "\n",
    " \n",
    "\n",
    "Example 1:\n",
    "\n",
    "Input: prices = [7,1,5,3,6,4]\n",
    "Output: 5\n",
    "Explanation: Buy on day 2 (price = 1) and sell on day 5 (price = 6), profit = 6-1 = 5.\n",
    "Note that buying on day 2 and selling on day 1 is not allowed because you must buy before you sell.\n",
    "Example 2:\n",
    "\n",
    "Input: prices = [7,6,4,3,1]\n",
    "Output: 0\n",
    "Explanation: In this case, no transactions are done and the max profit = 0.\n",
    " \n",
    "\n",
    "Constraints:\n",
    "\n",
    "1 <= prices.length <= 105\n",
    "0 <= prices[i] <= 104\n"
   ]
  },
  {
   "cell_type": "markdown",
   "id": "2dcf4a0e-5145-4071-a05c-0683c6deea61",
   "metadata": {},
   "source": [
    "1. Inefficient\n",
    "- Time: O(n)\n",
    "- Space: O(n)"
   ]
  },
  {
   "cell_type": "code",
   "execution_count": 4,
   "id": "a8557181-f010-4a1d-9b96-0ac58b87ccf0",
   "metadata": {},
   "outputs": [
    {
     "name": "stdout",
     "output_type": "stream",
     "text": [
      "[7, 1, 1, 1, 1, 1]\n",
      "[7, 6, 6, 6, 6, 4]\n"
     ]
    },
    {
     "data": {
      "text/plain": [
       "5"
      ]
     },
     "execution_count": 4,
     "metadata": {},
     "output_type": "execute_result"
    }
   ],
   "source": [
    "class Solution:\n",
    "    def maxProfit(self, arr: list[int]) -> int:\n",
    "        n = len(arr)\n",
    "        prefix_min = [0]*n\n",
    "        suffix_max = [0]*n\n",
    "\n",
    "        prefix_min[0] = arr[0]\n",
    "        for i in range(1,n):\n",
    "            prefix_min[i] = min(prefix_min[i-1], arr[i])\n",
    "        print(prefix_min)\n",
    "\n",
    "        suffix_max[n-1] = arr[n-1]\n",
    "        for i in range(n-2, -1, -1):\n",
    "            suffix_max[i] = max(suffix_max[i+1], arr[i])\n",
    "        print(suffix_max)\n",
    "\n",
    "        ans = 0\n",
    "        for i in range(n):\n",
    "            ans = max(ans, suffix_max[i] - prefix_min[i])\n",
    "\n",
    "        return ans\n",
    "\n",
    "arr = [7,1,5,3,6,4]\n",
    "Solution().maxProfit(arr)"
   ]
  },
  {
   "cell_type": "markdown",
   "id": "564989ba-c1e5-4543-9e90-55b56ab33b45",
   "metadata": {},
   "source": [
    "2. Efficient\n",
    "- Time: O(n)\n",
    "- Space: O(1)"
   ]
  },
  {
   "cell_type": "code",
   "execution_count": 8,
   "id": "38e154cc-7696-4259-a861-437e333c86b0",
   "metadata": {},
   "outputs": [
    {
     "data": {
      "text/plain": [
       "5"
      ]
     },
     "execution_count": 8,
     "metadata": {},
     "output_type": "execute_result"
    }
   ],
   "source": [
    "class Solution:\n",
    "    def maxProfit(self, arr: list[int]) -> int:\n",
    "        n = len(arr)\n",
    "        min_left = arr[0]\n",
    "        ans = 0\n",
    "        for i in range(n):\n",
    "            min_left = min(min_left, arr[i])\n",
    "            ans = max(ans, arr[i] - min_left)\n",
    "\n",
    "        return ans\n",
    "\n",
    "arr = [7,1,5,3,6,4]\n",
    "Solution().maxProfit(arr)"
   ]
  }
 ],
 "metadata": {
  "kernelspec": {
   "display_name": "Python 3 (ipykernel)",
   "language": "python",
   "name": "python3"
  },
  "language_info": {
   "codemirror_mode": {
    "name": "ipython",
    "version": 3
   },
   "file_extension": ".py",
   "mimetype": "text/x-python",
   "name": "python",
   "nbconvert_exporter": "python",
   "pygments_lexer": "ipython3",
   "version": "3.12.7"
  }
 },
 "nbformat": 4,
 "nbformat_minor": 5
}
