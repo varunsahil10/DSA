{
 "cells": [
  {
   "cell_type": "markdown",
   "id": "40b67d13-ad9e-43b1-bcc7-4deda1948d1a",
   "metadata": {},
   "source": [
    "### Longest Consecutive Sequence"
   ]
  },
  {
   "cell_type": "raw",
   "id": "4971a317-49cd-46fc-a5fc-08c0e8c38bdb",
   "metadata": {},
   "source": [
    "Given an unsorted array of integers nums, return the length of the longest consecutive elements sequence.\n",
    "\n",
    "You must write an algorithm that runs in O(n) time.\n",
    "\n",
    " \n",
    "\n",
    "Example 1:\n",
    "\n",
    "Input: nums = [100,4,200,1,3,2]\n",
    "Output: 4\n",
    "Explanation: The longest consecutive elements sequence is [1, 2, 3, 4]. Therefore its length is 4.\n",
    "Example 2:\n",
    "\n",
    "Input: nums = [0,3,7,2,5,8,4,6,0,1]\n",
    "Output: 9\n",
    "Example 3:\n",
    "\n",
    "Input: nums = [1,0,1,2]\n",
    "Output: 3\n",
    " \n",
    "\n",
    "Constraints:\n",
    "\n",
    "0 <= nums.length <= 105\n",
    "-109 <= nums[i] <= 109\n"
   ]
  },
  {
   "cell_type": "markdown",
   "id": "8c0fee45-432c-4004-b2c2-b5e0cf5731e3",
   "metadata": {},
   "source": [
    "1. Brute force\n",
    "   - Time: O(n^2)\n",
    "   - Space: O(1)"
   ]
  },
  {
   "cell_type": "code",
   "execution_count": 4,
   "id": "325d92d6-f79f-4866-a62b-214ffe9df635",
   "metadata": {},
   "outputs": [
    {
     "data": {
      "text/plain": [
       "13"
      ]
     },
     "execution_count": 4,
     "metadata": {},
     "output_type": "execute_result"
    }
   ],
   "source": [
    "def lcs(arr):\n",
    "    n = len(arr)\n",
    "    ans = 1\n",
    "    for i in range(n):\n",
    "        x = arr[i]\n",
    "        count = 1\n",
    "        while x+1 in arr:\n",
    "            x += 1\n",
    "            count += 1\n",
    "        ans = max(ans, count)\n",
    "    return ans\n",
    "\n",
    "nums = [\n",
    "    100, 4, 200, 1, 3, 2,              # A basic sequence: 1-4\n",
    "    10**9, 10**9 - 1, 10**9 - 2,       # High numbers in decreasing order\n",
    "    -100000, -100001, -100002,         # Negative decreasing sequence\n",
    "    500, 501, 503, 504, 502,           # Out-of-order but consecutive\n",
    "    600, 602, 601, 599, 598, 603,      # Another sequence mixed up\n",
    "    800, 801, 802, 804, 805, 806, 803, # Scrambled long chain\n",
    "    1_000_000, 2_000_000,              # Large isolated numbers\n",
    "    0, -1, -2, -3, 5, 6, 7, 8, 9       # Expands 1-4 into a longer chain\n",
    "]\n",
    "lcs(nums)"
   ]
  },
  {
   "cell_type": "code",
   "execution_count": null,
   "id": "e95ad407-5456-46cf-b629-fd423d380644",
   "metadata": {},
   "outputs": [],
   "source": []
  }
 ],
 "metadata": {
  "kernelspec": {
   "display_name": "Python 3 (ipykernel)",
   "language": "python",
   "name": "python3"
  },
  "language_info": {
   "codemirror_mode": {
    "name": "ipython",
    "version": 3
   },
   "file_extension": ".py",
   "mimetype": "text/x-python",
   "name": "python",
   "nbconvert_exporter": "python",
   "pygments_lexer": "ipython3",
   "version": "3.12.7"
  }
 },
 "nbformat": 4,
 "nbformat_minor": 5
}
