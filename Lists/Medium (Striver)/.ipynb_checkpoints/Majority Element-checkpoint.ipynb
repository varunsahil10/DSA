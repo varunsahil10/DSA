{
 "cells": [
  {
   "cell_type": "markdown",
   "id": "03b28706-b86a-4f29-9e23-62006bf2c288",
   "metadata": {},
   "source": [
    "### Majority Element\n",
    "Given an array nums of size n, return the majority element.\n",
    "\n",
    "The majority element is the element that appears more than ⌊n / 2⌋ times. You may assume that the majority element always exists in the array.\n",
    "\n"
   ]
  },
  {
   "cell_type": "markdown",
   "id": "ffee0296-b9c0-42c1-8d92-477b5c81e76f",
   "metadata": {},
   "source": [
    "- Moore's Voting Algorithm"
   ]
  },
  {
   "cell_type": "code",
   "execution_count": 3,
   "id": "9ea1e0ff-29d9-4699-b041-f96cda941893",
   "metadata": {},
   "outputs": [
    {
     "data": {
      "text/plain": [
       "2"
      ]
     },
     "execution_count": 3,
     "metadata": {},
     "output_type": "execute_result"
    }
   ],
   "source": [
    "class Solution:\n",
    "    def majorityElement(self, nums: list[int]) -> int:\n",
    "        n = len(nums)\n",
    "        ele = count = 0\n",
    "\n",
    "        for i in range(n):\n",
    "            if count == 0:\n",
    "                ele = nums[i]\n",
    "                count = 1\n",
    "            elif nums [i] == ele:\n",
    "                count += 1\n",
    "            else:\n",
    "                count -= 1\n",
    "\n",
    "        return ele\n",
    "\n",
    "nums = [2,2,1,1,1,2,2]\n",
    "Solution().majorityElement(nums)"
   ]
  }
 ],
 "metadata": {
  "kernelspec": {
   "display_name": "Python 3 (ipykernel)",
   "language": "python",
   "name": "python3"
  },
  "language_info": {
   "codemirror_mode": {
    "name": "ipython",
    "version": 3
   },
   "file_extension": ".py",
   "mimetype": "text/x-python",
   "name": "python",
   "nbconvert_exporter": "python",
   "pygments_lexer": "ipython3",
   "version": "3.12.7"
  }
 },
 "nbformat": 4,
 "nbformat_minor": 5
}
