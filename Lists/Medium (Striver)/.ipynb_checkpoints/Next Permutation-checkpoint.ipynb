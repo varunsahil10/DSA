{
 "cells": [
  {
   "cell_type": "markdown",
   "id": "89cdc48a-1ada-4b22-93a7-d95a3b54ae7e",
   "metadata": {},
   "source": [
    "### Next Permutation"
   ]
  },
  {
   "cell_type": "raw",
   "id": "20cfb72a-ea3b-4f79-a5eb-b8d1bfd0a830",
   "metadata": {},
   "source": [
    "A permutation of an array of integers is an arrangement of its members into a sequence or linear order.\n",
    "\n",
    "For example, for arr = [1,2,3], the following are all the permutations of arr: [1,2,3], [1,3,2], [2, 1, 3], [2, 3, 1], [3,1,2], [3,2,1].\n",
    "The next permutation of an array of integers is the next lexicographically greater permutation of its integer. More formally, if all the permutations of the array are sorted in one container according to their lexicographical order, then the next permutation of that array is the permutation that follows it in the sorted container. If such arrangement is not possible, the array must be rearranged as the lowest possible order (i.e., sorted in ascending order).\n",
    "\n",
    "For example, the next permutation of arr = [1,2,3] is [1,3,2].\n",
    "Similarly, the next permutation of arr = [2,3,1] is [3,1,2].\n",
    "While the next permutation of arr = [3,2,1] is [1,2,3] because [3,2,1] does not have a lexicographical larger rearrangement.\n",
    "Given an array of integers nums, find the next permutation of nums.\n",
    "\n",
    "The replacement must be in place and use only constant extra memory.\n",
    "\n",
    " \n",
    "\n",
    "Example 1:\n",
    "\n",
    "Input: nums = [1,2,3]\n",
    "Output: [1,3,2]\n",
    "Example 2:\n",
    "\n",
    "Input: nums = [3,2,1]\n",
    "Output: [1,2,3]\n",
    "Example 3:\n",
    "\n",
    "Input: nums = [1,1,5]\n",
    "Output: [1,5,1]\n",
    " \n",
    "\n",
    "Constraints:\n",
    "\n",
    "1 <= nums.length <= 100\n",
    "0 <= nums[i] <= 100\n"
   ]
  },
  {
   "cell_type": "code",
   "execution_count": 10,
   "id": "cbedaa0b-dd79-405e-9610-f937cc781a61",
   "metadata": {},
   "outputs": [
    {
     "data": {
      "text/plain": [
       "[3, 1, 1, 3, 2, 2, 4, 5]"
      ]
     },
     "execution_count": 10,
     "metadata": {},
     "output_type": "execute_result"
    }
   ],
   "source": [
    "class Solution:\n",
    "    def reverse(self, arr, s, e):\n",
    "        while s<e:\n",
    "            arr[s], arr[e] = arr[e], arr[s]\n",
    "            s += 1\n",
    "            e -= 1\n",
    "        \n",
    "    def nextPermutation(self, nums: list[int]) -> None:\n",
    "        \"\"\"\n",
    "        Do not return anything, modify nums in-place instead.\n",
    "        \"\"\"\n",
    "        n = len(nums)\n",
    "        pivot = -1\n",
    "        for i in range(n - 2, -1, -1):\n",
    "            if nums[i] < nums[i + 1]:\n",
    "                pivot = i\n",
    "                break\n",
    "\n",
    "        if pivot == -1:\n",
    "            self.reverse(nums, 0, n-1)\n",
    "\n",
    "        else:\n",
    "            for i in range(n - 1, pivot, -1):\n",
    "                if nums[i] > nums[pivot]:\n",
    "                    nums[i], nums[pivot] = nums[pivot], nums[i]\n",
    "                    break\n",
    "            self.reverse(nums, pivot+1, n-1)\n",
    "\n",
    "\n",
    "nums = [3,1,1,2,5,4,3,2]\n",
    "Solution().nextPermutation(nums)\n",
    "nums"
   ]
  }
 ],
 "metadata": {
  "kernelspec": {
   "display_name": "Python 3 (ipykernel)",
   "language": "python",
   "name": "python3"
  },
  "language_info": {
   "codemirror_mode": {
    "name": "ipython",
    "version": 3
   },
   "file_extension": ".py",
   "mimetype": "text/x-python",
   "name": "python",
   "nbconvert_exporter": "python",
   "pygments_lexer": "ipython3",
   "version": "3.12.7"
  }
 },
 "nbformat": 4,
 "nbformat_minor": 5
}
