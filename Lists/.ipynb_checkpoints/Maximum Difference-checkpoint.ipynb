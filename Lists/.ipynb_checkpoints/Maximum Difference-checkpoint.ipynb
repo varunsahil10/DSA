{
 "cells": [
  {
   "cell_type": "markdown",
   "id": "34875391-a09f-4c21-a094-0643a30402b8",
   "metadata": {},
   "source": [
    "### Maximum Difference "
   ]
  },
  {
   "cell_type": "markdown",
   "id": "b9311be5-e4b2-49af-b875-94265192b671",
   "metadata": {},
   "source": [
    "Naive"
   ]
  },
  {
   "cell_type": "code",
   "execution_count": null,
   "id": "54fe0217-b026-40e0-81e0-66bcce946ba0",
   "metadata": {},
   "outputs": [
    {
     "name": "stdout",
     "output_type": "stream",
     "text": [
      "8\n"
     ]
    }
   ],
   "source": [
    "# Maximum Difference\n",
    "# Naive\n",
    "\n",
    "def maxdiff(arr,n) :\n",
    "    res = arr[1] - arr[0]\n",
    "    for i in range(0, n-1) :\n",
    "        for j in range(i+1, n) :\n",
    "            res = max(res,arr[j]-arr[i])\n",
    "            \n",
    "    return res\n",
    "    \n",
    "arr = [2,3,10,6,4,8,1]\n",
    "n = len(arr)\n",
    "print(maxdiff(arr,n))"
   ]
  },
  {
   "cell_type": "markdown",
   "id": "1e4d2ac4-d37d-472b-accc-47204d1fba5e",
   "metadata": {},
   "source": [
    "2. Efficient"
   ]
  },
  {
   "cell_type": "code",
   "execution_count": null,
   "id": "aa4e869b-c43d-4625-a436-fae6b70d309d",
   "metadata": {},
   "outputs": [
    {
     "name": "stdout",
     "output_type": "stream",
     "text": [
      "8\n"
     ]
    }
   ],
   "source": [
    "# Maximum Difference\n",
    "# Efiicient\n",
    "\n",
    "def maxdiff(arr,n) :\n",
    "    res = arr[1] - arr[0]\n",
    "    minval = arr[0]\n",
    "    for j in range(1, n) :\n",
    "        res = max(res,arr[j] - minval)\n",
    "        minval = min(arr[j],minval)\n",
    "            \n",
    "    return res\n",
    "    \n",
    "arr = [2,3,10,6,4,8,1]\n",
    "n = len(arr)\n",
    "print(maxdiff(arr,n))"
   ]
  }
 ],
 "metadata": {
  "kernelspec": {
   "display_name": "Python 3 (ipykernel)",
   "language": "python",
   "name": "python3"
  },
  "language_info": {
   "codemirror_mode": {
    "name": "ipython",
    "version": 3
   },
   "file_extension": ".py",
   "mimetype": "text/x-python",
   "name": "python",
   "nbconvert_exporter": "python",
   "pygments_lexer": "ipython3",
   "version": "3.12.7"
  }
 },
 "nbformat": 4,
 "nbformat_minor": 5
}
