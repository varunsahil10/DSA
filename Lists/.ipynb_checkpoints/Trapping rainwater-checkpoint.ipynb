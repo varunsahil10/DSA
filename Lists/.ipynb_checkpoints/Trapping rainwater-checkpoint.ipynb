{
 "cells": [
  {
   "cell_type": "markdown",
   "id": "c7f3d22b-4f2f-45a1-8461-93c05c86a97a",
   "metadata": {},
   "source": [
    "### Trapping rainwater"
   ]
  },
  {
   "cell_type": "code",
   "execution_count": null,
   "id": "65e4fb1b-59ab-45db-8b1a-32cba4a92b6a",
   "metadata": {},
   "outputs": [],
   "source": []
  }
 ],
 "metadata": {
  "kernelspec": {
   "display_name": "Python 3 (ipykernel)",
   "language": "python",
   "name": "python3"
  },
  "language_info": {
   "codemirror_mode": {
    "name": "ipython",
    "version": 3
   },
   "file_extension": ".py",
   "mimetype": "text/x-python",
   "name": "python",
   "nbconvert_exporter": "python",
   "pygments_lexer": "ipython3",
   "version": "3.12.7"
  }
 },
 "nbformat": 4,
 "nbformat_minor": 5
}
