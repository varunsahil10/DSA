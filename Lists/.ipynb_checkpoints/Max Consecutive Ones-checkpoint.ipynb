{
 "cells": [
  {
   "cell_type": "markdown",
   "id": "db4df1cc-d7b2-4559-bae3-c6505e882011",
   "metadata": {},
   "source": [
    "### Max Consecutive Ones"
   ]
  },
  {
   "cell_type": "markdown",
   "id": "c79a6085-31c6-4adf-aae5-6b3b65d524a7",
   "metadata": {},
   "source": [
    "1. Naive"
   ]
  },
  {
   "cell_type": "code",
   "execution_count": 3,
   "id": "3327c8d6-40e8-4bfb-8059-e3c952436d17",
   "metadata": {},
   "outputs": [
    {
     "data": {
      "text/plain": [
       "3"
      ]
     },
     "execution_count": 3,
     "metadata": {},
     "output_type": "execute_result"
    }
   ],
   "source": [
    "class Solution:\n",
    "    def findMaxConsecutiveOnes(self, nums: list[int]) -> int:\n",
    "        n = len(nums)\n",
    "        ans = 0\n",
    "        for i in range(n):\n",
    "            curr = 0\n",
    "            for j in range(i, n):\n",
    "                if nums[j] == 0:\n",
    "                    break\n",
    "                else:\n",
    "                    curr += 1\n",
    "            ans = max(ans, curr)\n",
    "        return ans\n",
    "\n",
    "arr = [1,1,0,1,1,1]\n",
    "Solution().findMaxConsecutiveOnes(arr)"
   ]
  },
  {
   "cell_type": "code",
   "execution_count": null,
   "id": "b5291e4c-3f15-4890-9720-bbc512cd92b4",
   "metadata": {},
   "outputs": [],
   "source": []
  }
 ],
 "metadata": {
  "kernelspec": {
   "display_name": "Python 3 (ipykernel)",
   "language": "python",
   "name": "python3"
  },
  "language_info": {
   "codemirror_mode": {
    "name": "ipython",
    "version": 3
   },
   "file_extension": ".py",
   "mimetype": "text/x-python",
   "name": "python",
   "nbconvert_exporter": "python",
   "pygments_lexer": "ipython3",
   "version": "3.12.7"
  }
 },
 "nbformat": 4,
 "nbformat_minor": 5
}
