{
 "cells": [
  {
   "cell_type": "markdown",
   "id": "83e54bb9-0fee-440a-b7f0-bb4cc7bc88be",
   "metadata": {},
   "source": [
    "### Left rotate by d"
   ]
  },
  {
   "cell_type": "code",
   "execution_count": 4,
   "id": "483bbd78-bf15-48bc-8b49-3febc9f002bd",
   "metadata": {},
   "outputs": [
    {
     "name": "stdout",
     "output_type": "stream",
     "text": [
      "[40, 50, 10, 20, 30]\n"
     ]
    }
   ],
   "source": [
    "def reverse(l,b,e):\n",
    "    while b<e:\n",
    "        l[b],l[e]=l[e],l[b]\n",
    "        b=b+1\n",
    "        e=e-1\n",
    "\n",
    "\n",
    "def leftRotate(l,d):\n",
    "    n=len(l)\n",
    "    reverse(l,0,d-1)\n",
    "    reverse(l,d,n-1)\n",
    "    reverse(l,0,n-1)\n",
    "\n",
    "\n",
    "l=[10,20,30,40,50]\n",
    "d=3\n",
    "leftRotate(l, d)\n",
    "print(l)\n",
    "\n"
   ]
  }
 ],
 "metadata": {
  "kernelspec": {
   "display_name": "Python 3 (ipykernel)",
   "language": "python",
   "name": "python3"
  },
  "language_info": {
   "codemirror_mode": {
    "name": "ipython",
    "version": 3
   },
   "file_extension": ".py",
   "mimetype": "text/x-python",
   "name": "python",
   "nbconvert_exporter": "python",
   "pygments_lexer": "ipython3",
   "version": "3.12.7"
  }
 },
 "nbformat": 4,
 "nbformat_minor": 5
}
