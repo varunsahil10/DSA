{
 "cells": [
  {
   "cell_type": "markdown",
   "id": "9378ed01-f220-4131-ad1e-8c1f6acbc896",
   "metadata": {},
   "source": [
    "### Check if the given array is rotated and sorted"
   ]
  },
  {
   "cell_type": "markdown",
   "id": "88268e66-13df-4f5b-8106-320ce08f775b",
   "metadata": {},
   "source": [
    "1. Efficient approach"
   ]
  },
  {
   "cell_type": "raw",
   "id": "aae86b7b-da4e-4325-845c-ecf8844f7a68",
   "metadata": {},
   "source": [
    "Given an array arr[] of N distinct integers, check if this array is Sorted (non-increasing or non-decreasing) and Rotated counter-clockwise. Note that input array may be sorted in either increasing or decreasing order, then rotated.\n",
    "A sorted array is not considered as sorted and rotated, i.e., there should be at least one rotation.\n",
    "\n",
    "Example 1:\n",
    "\n",
    "Input:\n",
    "N = 4\n",
    "arr[] = {3,4,1,2}\n",
    "Output: Yes\n",
    "Explanation: The array is sorted \n",
    "(1, 2, 3, 4) and rotated twice \n",
    "(3, 4, 1, 2).\n",
    "Example 2:\n",
    "\n",
    "Input:\n",
    "N = 3\n",
    "arr[] = {1,2,3}\n",
    "Output: No\n",
    "Explanation: The array is sorted \n",
    "(1, 2, 3) is not rotated.\n",
    "Your Task:\n",
    "The task is to complete the function checkRotatedAndSorted() which returns true if an array is sorted and rotated clockwise otherwise false.\n",
    "\n",
    "Expected Time Complexity: O(N).\n",
    "Expected Auxiliary Space: O(1).\n",
    "\n",
    "Constraints:\n",
    "1 <= N <= 10^6\n",
    "1 <= A[i] <= 10^6\n",
    "\n"
   ]
  },
  {
   "cell_type": "code",
   "execution_count": 8,
   "id": "6fbd0734-e974-4928-96b2-ff04f9c82b74",
   "metadata": {},
   "outputs": [
    {
     "name": "stdin",
     "output_type": "stream",
     "text": [
      " 2\n",
      " 5\n",
      " 5 6 7 1 2\n"
     ]
    },
    {
     "name": "stdout",
     "output_type": "stream",
     "text": [
      "Yes\n",
      "~\n"
     ]
    },
    {
     "name": "stdin",
     "output_type": "stream",
     "text": [
      " 5\n",
      " 5 3 8 7 6\n"
     ]
    },
    {
     "name": "stdout",
     "output_type": "stream",
     "text": [
      "Yes\n",
      "~\n"
     ]
    }
   ],
   "source": [
    "#User function Template for python3\n",
    "import math\n",
    "class Solution:\n",
    "    ##Complete this function\n",
    "    #Function to check if array is sorted and rotated.\n",
    "    def checkRotatedAndSorted(self,arr,n):\n",
    "        #code here\n",
    "        min_val = math.inf\n",
    "        min_index = 0\n",
    "        for i in range(n):\n",
    "            if arr[i] < min_val:\n",
    "                min_val = arr[i]\n",
    "                min_index = i\n",
    "        \n",
    "        #check increasing on right\n",
    "        for i in range(min_index, n-1):\n",
    "            if arr[i] > arr[i+1]:\n",
    "                return False\n",
    "        \n",
    "        #check decreasing on left\n",
    "        for i in range(min_index-1):\n",
    "            if arr[i] > arr[i+1]:\n",
    "                return False\n",
    "        \n",
    "        if arr[0] < arr[n-1]:\n",
    "            return False\n",
    "        return True\n",
    "\n",
    "\n",
    "#{ \n",
    " # Driver Code Starts\n",
    "import atexit\n",
    "\n",
    "import atexit\n",
    "import io\n",
    "import sys\n",
    "\n",
    "if __name__ == '__main__':\n",
    "    test_cases = int(input())\n",
    "    for cases in range(test_cases) :\n",
    "        n = int(input())\n",
    "        a = list(map(int,input().strip().split()))\n",
    "        ob=Solution()\n",
    "        if ob.checkRotatedAndSorted(a,n) or ob.checkRotatedAndSorted(a[::-1],n):\n",
    "            print(\"Yes\")\n",
    "        else:\n",
    "            print(\"No\")\n",
    "\n",
    "        print(\"~\")\n",
    "# } Driver Code Ends"
   ]
  },
  {
   "cell_type": "code",
   "execution_count": null,
   "id": "9ab11bc9-ac52-46ab-af40-e9daf0f6202e",
   "metadata": {},
   "outputs": [],
   "source": []
  }
 ],
 "metadata": {
  "kernelspec": {
   "display_name": "Python 3 (ipykernel)",
   "language": "python",
   "name": "python3"
  },
  "language_info": {
   "codemirror_mode": {
    "name": "ipython",
    "version": 3
   },
   "file_extension": ".py",
   "mimetype": "text/x-python",
   "name": "python",
   "nbconvert_exporter": "python",
   "pygments_lexer": "ipython3",
   "version": "3.12.7"
  }
 },
 "nbformat": 4,
 "nbformat_minor": 5
}
