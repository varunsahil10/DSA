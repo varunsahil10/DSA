{
 "cells": [
  {
   "cell_type": "markdown",
   "id": "02fdf86b-7314-45e3-ad98-69d1764a292b",
   "metadata": {},
   "source": [
    "### Find Immediate Smaller Than X"
   ]
  },
  {
   "cell_type": "code",
   "execution_count": 2,
   "id": "95539526-151d-4b33-9c3b-32614ec7ccb2",
   "metadata": {},
   "outputs": [
    {
     "name": "stdin",
     "output_type": "stream",
     "text": [
      " 1\n",
      " 5\n",
      " 4 67 13 12 15\n",
      " 16\n"
     ]
    },
    {
     "name": "stdout",
     "output_type": "stream",
     "text": [
      "15\n",
      "~\n"
     ]
    }
   ],
   "source": [
    "#User function Template for python3\n",
    "\n",
    "class Solution:\n",
    "    def immediateSmaller(self,arr,n,x):\n",
    "        #return required ans\n",
    "        val = -1\n",
    "        #code here\n",
    "        for i in arr:\n",
    "            if i < x and i > val:\n",
    "                val = i\n",
    "        \n",
    "        return val\n",
    "\n",
    "\n",
    "#{ \n",
    " # Driver Code Starts\n",
    "#Initial Template for Python 3\n",
    "\n",
    "if __name__ =='__main__':\n",
    "    tcs=int(input())\n",
    "    \n",
    "    for _ in range(tcs):\n",
    "        n=int(input())\n",
    "        arr=[int(e) for e in input().split()]\n",
    "        x=int(input())\n",
    "        ob=Solution()\n",
    "        ans=ob.immediateSmaller(arr,n,x)\n",
    "        print(ans)\n",
    "        print(\"~\")\n",
    "# } Driver Code Ends"
   ]
  },
  {
   "cell_type": "markdown",
   "id": "d1918d35-7277-4466-b379-3a9ab7f31b82",
   "metadata": {},
   "source": [
    "### Who has the majority?"
   ]
  },
  {
   "cell_type": "code",
   "execution_count": 1,
   "id": "94d79e9f-415b-4015-8438-57b8dc0cad21",
   "metadata": {},
   "outputs": [
    {
     "name": "stdin",
     "output_type": "stream",
     "text": [
      " 1\n",
      " 11\n",
      " 1 1 2 2 3 3 4 4 4 4 5\n",
      " 4 5\n"
     ]
    },
    {
     "name": "stdout",
     "output_type": "stream",
     "text": [
      "4\n",
      "~\n"
     ]
    }
   ],
   "source": [
    "#User function Template for python3\n",
    "\n",
    "class Solution:\n",
    "    #Function to find element with more appearances between two elements in an array.    \n",
    "    def majorityWins(self, arr, n, x, y):\n",
    "        # code here\n",
    "        count_x = count_y = 0\n",
    "        for i in arr:\n",
    "            if x == i:\n",
    "                count_x += 1\n",
    "            if y == i:\n",
    "                count_y += 1\n",
    "                \n",
    "        if count_x > count_y:\n",
    "            return x\n",
    "        elif count_x == count_y:\n",
    "            if x < y:\n",
    "                return x\n",
    "            else:\n",
    "                return y\n",
    "        else:\n",
    "            return y\n",
    "    \n",
    "\n",
    "\n",
    "#{ \n",
    " # Driver Code Starts\n",
    "\n",
    "if __name__ == '__main__':\n",
    "    T=int(input())\n",
    "    while(T>0):\n",
    "        n=int(input())\n",
    "        arr=[int(x) for x in input().strip().split()]\n",
    "        \n",
    "        x,y=map(int,input().strip().split())\n",
    "        \n",
    "        print(Solution().majorityWins(arr,n,x,y))\n",
    "        T-=1\n",
    "\n",
    "        print(\"~\")\n",
    "# } Driver Code Ends"
   ]
  },
  {
   "cell_type": "markdown",
   "id": "b3724692-ca50-4439-a345-b7d791e636e6",
   "metadata": {},
   "source": [
    "### Is Array Sorted"
   ]
  },
  {
   "cell_type": "code",
   "execution_count": 4,
   "id": "5b4c3a45-5106-424e-afed-88ae71d7c28a",
   "metadata": {},
   "outputs": [
    {
     "name": "stdin",
     "output_type": "stream",
     "text": [
      " 1\n",
      " 5\n",
      " 1 1 2 2 3\n"
     ]
    },
    {
     "name": "stdout",
     "output_type": "stream",
     "text": [
      "1\n",
      "~\n"
     ]
    }
   ],
   "source": [
    "#User function Template for python3\n",
    "\n",
    "class Solution:\n",
    "    def isSorted(self,arr,n):\n",
    "        #code here\n",
    "        if n == 0 or n == 1:\n",
    "            return 1\n",
    "        \n",
    "        increasing = True\n",
    "        decreasing = True\n",
    "        \n",
    "        for i in range(1,n):\n",
    "            #check increasing\n",
    "            if arr[i] < arr[i-1]:\n",
    "                increasing = False\n",
    "            if arr[i] > arr[i-1]:\n",
    "                decreasing = False\n",
    "                \n",
    "        if increasing or decreasing:\n",
    "            return 1\n",
    "        else:\n",
    "            return 0\n",
    "        \n",
    "\n",
    "\n",
    "#{ \n",
    " # Driver Code Starts\n",
    "#Initial Template for Python 3\n",
    "\n",
    "#contributed by RavinderSinghPB\n",
    "\n",
    "if __name__ =='__main__':\n",
    "    tcs=int(input())\n",
    "    \n",
    "    for _ in range(tcs):\n",
    "        n=int(input())\n",
    "        arr=[int(x) for x in input().split()]\n",
    "        \n",
    "        print(Solution().isSorted(arr,n))\n",
    "        print(\"~\")\n",
    "# } Driver Code Ends"
   ]
  },
  {
   "cell_type": "markdown",
   "id": "cb8fcfef-d67e-4b5f-a23d-dbe7bbd903ee",
   "metadata": {},
   "source": [
    "### Rotate Array"
   ]
  },
  {
   "cell_type": "markdown",
   "id": "7fd25d7a-3be5-4c86-8c20-2f614665ba6b",
   "metadata": {},
   "source": [
    "Left rotate array (optimized):\n",
    "Time: O(2n)\n",
    "Space: O(1)"
   ]
  },
  {
   "cell_type": "code",
   "execution_count": 9,
   "id": "8815ba9f-ac7a-40d2-a436-ae6336f81269",
   "metadata": {},
   "outputs": [
    {
     "name": "stdin",
     "output_type": "stream",
     "text": [
      " 2\n",
      " 10\n",
      " 1235654965\n"
     ]
    },
    {
     "name": "stdout",
     "output_type": "stream",
     "text": [
      "10 \n",
      "~\n"
     ]
    },
    {
     "name": "stdin",
     "output_type": "stream",
     "text": [
      " 1 2 3 4 5 6 7 8 9 10 11 12 13 14 15 16 17 18 19 20\n",
      " 29\n"
     ]
    },
    {
     "name": "stdout",
     "output_type": "stream",
     "text": [
      "10 11 12 13 14 15 16 17 18 19 20 1 2 3 4 5 6 7 8 9 \n",
      "~\n"
     ]
    }
   ],
   "source": [
    "#User function Template for python3\n",
    "\n",
    "class Solution:\n",
    "    #Function to rotate an array by d elements in counter-clockwise direction. \n",
    "    def rotateArr(self, arr, d):\n",
    "        #Your code here\n",
    "        n = len(arr)\n",
    "        if n == 0 or n == 1:\n",
    "            return\n",
    "        \n",
    "        d %= n\n",
    "        \n",
    "        self.reverse(arr,d,n)\n",
    "        self.reverse(arr,0,d)\n",
    "        self.reverse(arr,0,n)\n",
    "\n",
    "    def reverse(self,arr,start,end):\n",
    "        s = start\n",
    "        e = end - 1\n",
    "        while(s<e):\n",
    "            arr[s], arr[e] = arr[e], arr[s]\n",
    "            s += 1\n",
    "            e -= 1\n",
    "            \n",
    "#{ \n",
    " # Driver Code Starts\n",
    "#Initial Template for Python 3\n",
    "\n",
    "import math\n",
    "\n",
    "\n",
    "def main():\n",
    "    T = int(input())\n",
    "\n",
    "    while (T > 0):\n",
    "        A = [int(x) for x in input().strip().split()]\n",
    "        nd = [int(x) for x in input().strip().split()]\n",
    "        D = nd[0]\n",
    "        ob = Solution()\n",
    "        ob.rotateArr(A, D)\n",
    "\n",
    "        for i in A:\n",
    "            print(i, end=\" \")\n",
    "\n",
    "        print()\n",
    "\n",
    "        T -= 1\n",
    "\n",
    "        print(\"~\")\n",
    "\n",
    "\n",
    "if __name__ == \"__main__\":\n",
    "    main()\n",
    "\n",
    "# } Driver Code Ends"
   ]
  },
  {
   "cell_type": "markdown",
   "id": "bae85112-b9d9-411a-bbb7-87f47f2d343b",
   "metadata": {},
   "source": [
    "Left rotate: not in place\n",
    "Time: O(n)\n",
    "Space: O(n)"
   ]
  },
  {
   "cell_type": "code",
   "execution_count": 18,
   "id": "6ac427e4-d4e0-439f-818d-adf70386f408",
   "metadata": {},
   "outputs": [
    {
     "name": "stdin",
     "output_type": "stream",
     "text": [
      " 1\n",
      " 1 2 3 4 5 6\n",
      " 10\n"
     ]
    },
    {
     "name": "stdout",
     "output_type": "stream",
     "text": [
      "5 6 1 2 3 4 \n",
      "~\n"
     ]
    }
   ],
   "source": [
    "#User function Template for python3\n",
    "\n",
    "class Solution:\n",
    "    #Function to rotate an array by d elements in counter-clockwise direction. \n",
    "    def rotateArr(self, arr, d):\n",
    "        #Your code here\n",
    "        n = len(arr)\n",
    "        if n == 0 or n == 1:\n",
    "            return\n",
    "        \n",
    "        d %= n\n",
    "        \n",
    "        temp = arr[:d]\n",
    "        for i in range(d,n):\n",
    "            arr[i-d] = arr[i]\n",
    "            \n",
    "        for i in range(d):\n",
    "            arr[n-d+i] = temp[i]\n",
    "\n",
    "    def reverse(self,arr,start,end):\n",
    "        s = start\n",
    "        e = end - 1\n",
    "        while(s<e):\n",
    "            arr[s], arr[e] = arr[e], arr[s]\n",
    "            s += 1\n",
    "            e -= 1\n",
    "            \n",
    "#{ \n",
    " # Driver Code Starts\n",
    "#Initial Template for Python 3\n",
    "\n",
    "import math\n",
    "\n",
    "\n",
    "def main():\n",
    "    T = int(input())\n",
    "\n",
    "    while (T > 0):\n",
    "        A = [int(x) for x in input().strip().split()]\n",
    "        nd = [int(x) for x in input().strip().split()]\n",
    "        D = nd[0]\n",
    "        ob = Solution()\n",
    "        ob.rotateArr(A, D)\n",
    "\n",
    "        for i in A:\n",
    "            print(i, end=\" \")\n",
    "\n",
    "        print()\n",
    "\n",
    "        T -= 1\n",
    "\n",
    "        print(\"~\")\n",
    "\n",
    "\n",
    "if __name__ == \"__main__\":\n",
    "    main()\n",
    "\n",
    "# } Driver Code Ends"
   ]
  },
  {
   "cell_type": "code",
   "execution_count": 24,
   "id": "9a0a273d-e1c9-4a52-82ea-2df12c91bf4d",
   "metadata": {},
   "outputs": [
    {
     "name": "stdout",
     "output_type": "stream",
     "text": [
      "3\n"
     ]
    }
   ],
   "source": [
    "def findodd(arr) :\n",
    "    \n",
    "    res = 0 \n",
    "    \n",
    "    for i in arr :\n",
    "        res = res ^ i \n",
    "        \n",
    "    return res\n",
    "    \n",
    "    \n",
    "if __name__ == \"__main__\" :\n",
    "    arr = [4,3,4,4,4,5,5,3,3,3,3]\n",
    "    print(findodd(arr))"
   ]
  },
  {
   "cell_type": "code",
   "execution_count": 63,
   "id": "af4d82f1-c632-428d-9c46-7f502050287c",
   "metadata": {},
   "outputs": [
    {
     "name": "stdout",
     "output_type": "stream",
     "text": [
      "12\n"
     ]
    }
   ],
   "source": [
    "a = ['Learn', 'Quiz', 'Practice', 'Contribute'] \n",
    "b = a \n",
    "c = a[:] \n",
    "\n",
    "b[0] = 'Code'\n",
    "c[1] = 'Mcq'\n",
    "\n",
    "count = 0\n",
    "for c in (a, b, c):\n",
    "\tif c[0] == 'Code': \n",
    "\t\tcount += 1\n",
    "\tif c[1] == 'Mcq': \n",
    "\t\tcount += 10\n",
    "print (count)"
   ]
  },
  {
   "cell_type": "code",
   "execution_count": null,
   "id": "f32d1471-44c6-40a5-98d2-95492dbc6c28",
   "metadata": {},
   "outputs": [],
   "source": []
  }
 ],
 "metadata": {
  "kernelspec": {
   "display_name": "Python 3 (ipykernel)",
   "language": "python",
   "name": "python3"
  },
  "language_info": {
   "codemirror_mode": {
    "name": "ipython",
    "version": 3
   },
   "file_extension": ".py",
   "mimetype": "text/x-python",
   "name": "python",
   "nbconvert_exporter": "python",
   "pygments_lexer": "ipython3",
   "version": "3.12.7"
  }
 },
 "nbformat": 4,
 "nbformat_minor": 5
}
