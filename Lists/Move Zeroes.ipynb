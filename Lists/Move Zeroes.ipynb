{
 "cells": [
  {
   "cell_type": "raw",
   "id": "10c452b8-8765-4a30-a528-f9c4d3e6eb5f",
   "metadata": {},
   "source": [
    "Given an integer array nums, move all 0's to the end of it while maintaining the relative order of the non-zero elements.\n",
    "\n",
    "Note that you must do this in-place without making a copy of the array.\n",
    "\n",
    " \n",
    "\n",
    "Example 1:\n",
    "\n",
    "Input: nums = [0,1,0,3,12]\n",
    "Output: [1,3,12,0,0]\n",
    "Example 2:\n",
    "\n",
    "Input: nums = [0]\n",
    "Output: [0]\n",
    " \n",
    "\n",
    "Constraints:\n",
    "\n",
    "1 <= nums.length <= 104\n",
    "-231 <= nums[i] <= 231 - 1\n",
    " \n",
    "\n",
    "Follow up: Could you minimize the total number of operations done?\n"
   ]
  },
  {
   "cell_type": "raw",
   "id": "53fc2f45-daef-4395-82ef-26d38905feaa",
   "metadata": {},
   "source": [
    "Time: O(n^2)\n",
    "Space: O(1)"
   ]
  },
  {
   "cell_type": "code",
   "execution_count": 5,
   "id": "4ed83313-c473-4e2c-9a4a-9f5d0ecb894f",
   "metadata": {},
   "outputs": [
    {
     "data": {
      "text/plain": [
       "[1, 3, 12, 0, 0]"
      ]
     },
     "execution_count": 5,
     "metadata": {},
     "output_type": "execute_result"
    }
   ],
   "source": [
    "class Solution:\n",
    "    def moveZeroes(self, nums: list[int]) -> None:\n",
    "        \"\"\"\n",
    "        Do not return anything, modify nums in-place instead.\n",
    "        \"\"\"\n",
    "        n = len(nums)\n",
    "        for i in range(n-1):\n",
    "            swapped = False\n",
    "            for j in range(n-1 - i):\n",
    "                if nums[j] == 0:\n",
    "                    nums[j], nums[j+1] = nums[j+1], nums[j]\n",
    "                    swapped = True\n",
    "            if not swapped:\n",
    "                return\n",
    "\n",
    "arr = [0,1,0,3,12]\n",
    "Solution().moveZeroes(arr)\n",
    "arr"
   ]
  },
  {
   "cell_type": "markdown",
   "id": "062668e9-dc30-438a-97be-7b74aa34e767",
   "metadata": {},
   "source": [
    "### Time: O(n^2)\n",
    "### Space: O(1)"
   ]
  },
  {
   "cell_type": "code",
   "execution_count": 13,
   "id": "f5dde342-e5e2-4f32-8976-2ad2bf0cc09b",
   "metadata": {},
   "outputs": [
    {
     "data": {
      "text/plain": [
       "[1, 3, 12, 0, 0]"
      ]
     },
     "execution_count": 13,
     "metadata": {},
     "output_type": "execute_result"
    }
   ],
   "source": [
    "class Solution:\n",
    "    def moveZeroes(self, nums: list[int]) -> None:\n",
    "        \"\"\"\n",
    "        Do not return anything, modify nums in-place instead.\n",
    "        \"\"\"\n",
    "        z = 0\n",
    "        for i in range(len(nums)):\n",
    "            if nums[i] != 0:\n",
    "                nums[z], nums[i] = nums[i], nums[z]\n",
    "                z += 1\n",
    "\n",
    "arr = [0,1,0,3,12]\n",
    "Solution().moveZeroes(arr)\n",
    "arr"
   ]
  },
  {
   "cell_type": "code",
   "execution_count": null,
   "id": "c79ddb73-4162-4ebf-a433-daf331e01896",
   "metadata": {},
   "outputs": [],
   "source": []
  }
 ],
 "metadata": {
  "kernelspec": {
   "display_name": "Python 3 (ipykernel)",
   "language": "python",
   "name": "python3"
  },
  "language_info": {
   "codemirror_mode": {
    "name": "ipython",
    "version": 3
   },
   "file_extension": ".py",
   "mimetype": "text/x-python",
   "name": "python",
   "nbconvert_exporter": "python",
   "pygments_lexer": "ipython3",
   "version": "3.12.7"
  }
 },
 "nbformat": 4,
 "nbformat_minor": 5
}
