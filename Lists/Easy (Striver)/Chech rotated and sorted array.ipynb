{
 "cells": [
  {
   "cell_type": "markdown",
   "id": "9378ed01-f220-4131-ad1e-8c1f6acbc896",
   "metadata": {},
   "source": [
    "### Check if the given array is rotated and sorted"
   ]
  },
  {
   "cell_type": "markdown",
   "id": "88268e66-13df-4f5b-8106-320ce08f775b",
   "metadata": {},
   "source": [
    "1. Efficient approach"
   ]
  },
  {
   "cell_type": "raw",
   "id": "aae86b7b-da4e-4325-845c-ecf8844f7a68",
   "metadata": {},
   "source": [
    "Given an array arr[] of N distinct integers, check if this array is Sorted (non-increasing or non-decreasing) and Rotated counter-clockwise. Note that input array may be sorted in either increasing or decreasing order, then rotated.\n",
    "A sorted array is not considered as sorted and rotated, i.e., there should be at least one rotation.\n",
    "\n",
    "Example 1:\n",
    "\n",
    "Input:\n",
    "N = 4\n",
    "arr[] = {3,4,1,2}\n",
    "Output: Yes\n",
    "Explanation: The array is sorted \n",
    "(1, 2, 3, 4) and rotated twice \n",
    "(3, 4, 1, 2).\n",
    "Example 2:\n",
    "\n",
    "Input:\n",
    "N = 3\n",
    "arr[] = {1,2,3}\n",
    "Output: No\n",
    "Explanation: The array is sorted \n",
    "(1, 2, 3) is not rotated.\n",
    "Your Task:\n",
    "The task is to complete the function checkRotatedAndSorted() which returns true if an array is sorted and rotated clockwise otherwise false.\n",
    "\n",
    "Expected Time Complexity: O(N).\n",
    "Expected Auxiliary Space: O(1).\n",
    "\n",
    "Constraints:\n",
    "1 <= N <= 10^6\n",
    "1 <= A[i] <= 10^6\n",
    "\n"
   ]
  },
  {
   "cell_type": "code",
   "execution_count": 8,
   "id": "6fbd0734-e974-4928-96b2-ff04f9c82b74",
   "metadata": {},
   "outputs": [
    {
     "name": "stdin",
     "output_type": "stream",
     "text": [
      " 2\n",
      " 5\n",
      " 5 6 7 1 2\n"
     ]
    },
    {
     "name": "stdout",
     "output_type": "stream",
     "text": [
      "Yes\n",
      "~\n"
     ]
    },
    {
     "name": "stdin",
     "output_type": "stream",
     "text": [
      " 5\n",
      " 5 3 8 7 6\n"
     ]
    },
    {
     "name": "stdout",
     "output_type": "stream",
     "text": [
      "Yes\n",
      "~\n"
     ]
    }
   ],
   "source": [
    "#User function Template for python3\n",
    "import math\n",
    "class Solution:\n",
    "    ##Complete this function\n",
    "    #Function to check if array is sorted and rotated.\n",
    "    def checkRotatedAndSorted(self,arr,n):\n",
    "        #code here\n",
    "        min_val = math.inf\n",
    "        min_index = 0\n",
    "        for i in range(n):\n",
    "            if arr[i] < min_val:\n",
    "                min_val = arr[i]\n",
    "                min_index = i\n",
    "        \n",
    "        #check increasing on right\n",
    "        for i in range(min_index, n-1):\n",
    "            if arr[i] > arr[i+1]:\n",
    "                return False\n",
    "        \n",
    "        #check decreasing on left\n",
    "        for i in range(min_index-1):\n",
    "            if arr[i] > arr[i+1]:\n",
    "                return False\n",
    "        \n",
    "        if arr[0] < arr[n-1]:\n",
    "            return False\n",
    "        return True\n",
    "\n",
    "\n",
    "#{ \n",
    " # Driver Code Starts\n",
    "import atexit\n",
    "\n",
    "import atexit\n",
    "import io\n",
    "import sys\n",
    "\n",
    "if __name__ == '__main__':\n",
    "    test_cases = int(input())\n",
    "    for cases in range(test_cases) :\n",
    "        n = int(input())\n",
    "        a = list(map(int,input().strip().split()))\n",
    "        ob=Solution()\n",
    "        if ob.checkRotatedAndSorted(a,n) or ob.checkRotatedAndSorted(a[::-1],n):\n",
    "            print(\"Yes\")\n",
    "        else:\n",
    "            print(\"No\")\n",
    "\n",
    "        print(\"~\")\n",
    "# } Driver Code Ends"
   ]
  },
  {
   "cell_type": "raw",
   "id": "80155af6-dec0-429e-a86b-54bcafdae579",
   "metadata": {},
   "source": [
    "1752. Check if Array Is Sorted and Rotated\n",
    "\n",
    "Given an array nums, return true if the array was originally sorted in non-decreasing order, then rotated some number of positions (including zero). Otherwise, return false.\n",
    "\n",
    "There may be duplicates in the original array.\n",
    "\n",
    "Note: An array A rotated by x positions results in an array B of the same length such that B[i] == A[(i+x) % A.length] for every valid index i.\n",
    "\n",
    " \n",
    "\n",
    "Example 1:\n",
    "\n",
    "Input: nums = [3,4,5,1,2]\n",
    "Output: true\n",
    "Explanation: [1,2,3,4,5] is the original sorted array.\n",
    "You can rotate the array by x = 3 positions to begin on the element of value 3: [3,4,5,1,2].\n",
    "Example 2:\n",
    "\n",
    "Input: nums = [2,1,3,4]\n",
    "Output: false\n",
    "Explanation: There is no sorted array once rotated that can make nums.\n",
    "Example 3:\n",
    "\n",
    "Input: nums = [1,2,3]\n",
    "Output: true\n",
    "Explanation: [1,2,3] is the original sorted array.\n",
    "You can rotate the array by x = 0 positions (i.e. no rotation) to make nums.\n",
    " \n",
    " \n",
    "\n",
    " \n",
    "\n",
    " \n",
    "\n",
    "Constraints:\n",
    "\n",
    "1 <= nums.length <= 100\n",
    "1 <= nums[i] <= 100"
   ]
  },
  {
   "cell_type": "code",
   "execution_count": 17,
   "id": "9ab11bc9-ac52-46ab-af40-e9daf0f6202e",
   "metadata": {},
   "outputs": [
    {
     "data": {
      "text/plain": [
       "False"
      ]
     },
     "execution_count": 17,
     "metadata": {},
     "output_type": "execute_result"
    }
   ],
   "source": [
    "class Solution(object):\n",
    "    def check(self, nums):\n",
    "        \"\"\"\n",
    "        :type nums: List[int]\n",
    "        :rtype: bool\n",
    "        \"\"\"\n",
    "        n = len(nums)\n",
    "        pivot = -1\n",
    "        for i in range(n-1):\n",
    "            if nums[i] > nums[i+1]:\n",
    "                pivot = i+1\n",
    "                break\n",
    "        \n",
    "        # if pivot check for leftwards decreasing \n",
    "        # and rightwards incresing\n",
    "        if pivot > -1:\n",
    "            #check right\n",
    "            for i in range(pivot, n-1):\n",
    "                if nums[i] > nums[i+1]:\n",
    "                    return False\n",
    "            \n",
    "            #check left\n",
    "            for i in range(0, pivot-1):\n",
    "                if nums[i] > nums[i+1]:\n",
    "                    return False\n",
    "\n",
    "        #else directly check for the condition\n",
    "        if nums[0] < nums[n-1]:\n",
    "            if pivot == -1:\n",
    "                return True\n",
    "            return False\n",
    "\n",
    "        return True \n",
    "\n",
    "obj = Solution()\n",
    "arr = [3,4,5,1,2,3]\n",
    "arr = [3,2,1]\n",
    "arr = [3,4,5,1,2,3,4]\n",
    "obj.check(arr) or obj.check(arr[::-1])"
   ]
  },
  {
   "cell_type": "markdown",
   "id": "1ac483f4-8117-43b9-a115-2a7fbd19f5cd",
   "metadata": {},
   "source": [
    "### Optimized and short"
   ]
  },
  {
   "cell_type": "code",
   "execution_count": 25,
   "id": "191649e7-cc5a-42e6-8609-0010d18a3c9c",
   "metadata": {},
   "outputs": [
    {
     "data": {
      "text/plain": [
       "True"
      ]
     },
     "execution_count": 25,
     "metadata": {},
     "output_type": "execute_result"
    }
   ],
   "source": [
    "class Solution:\n",
    "    def check(self, nums) -> bool:\n",
    "        count = 0\n",
    "        n = len(nums)\n",
    "        \n",
    "        for i in range(n):\n",
    "            if nums[i] > nums[(i + 1) % n]:\n",
    "                count += 1\n",
    "            if count > 1:\n",
    "                return False\n",
    "        \n",
    "        return True\n",
    "obj = Solution()\n",
    "arr = [3,4,5,1,2,3]\n",
    "arr = [3,2,1]\n",
    "# arr = [3,4,5,1,2,3,4]\n",
    "obj.check(arr) or obj.check(arr[::-1])"
   ]
  },
  {
   "cell_type": "code",
   "execution_count": null,
   "id": "7fdc9838-cb51-4df3-b066-04fbd010ee88",
   "metadata": {},
   "outputs": [],
   "source": []
  }
 ],
 "metadata": {
  "kernelspec": {
   "display_name": "Python 3 (ipykernel)",
   "language": "python",
   "name": "python3"
  },
  "language_info": {
   "codemirror_mode": {
    "name": "ipython",
    "version": 3
   },
   "file_extension": ".py",
   "mimetype": "text/x-python",
   "name": "python",
   "nbconvert_exporter": "python",
   "pygments_lexer": "ipython3",
   "version": "3.12.7"
  }
 },
 "nbformat": 4,
 "nbformat_minor": 5
}
