{
 "cells": [
  {
   "cell_type": "markdown",
   "id": "34875391-a09f-4c21-a094-0643a30402b8",
   "metadata": {},
   "source": [
    "### Maximum Difference "
   ]
  },
  {
   "cell_type": "markdown",
   "id": "b9311be5-e4b2-49af-b875-94265192b671",
   "metadata": {},
   "source": [
    "Naive"
   ]
  },
  {
   "cell_type": "code",
   "execution_count": null,
   "id": "54fe0217-b026-40e0-81e0-66bcce946ba0",
   "metadata": {},
   "outputs": [
    {
     "name": "stdout",
     "output_type": "stream",
     "text": [
      "8\n"
     ]
    }
   ],
   "source": [
    "# Maximum Difference\n",
    "# Naive\n",
    "\n",
    "def maxdiff(arr,n) :\n",
    "    res = arr[1] - arr[0]\n",
    "    for i in range(0, n-1) :\n",
    "        for j in range(i+1, n) :\n",
    "            res = max(res,arr[j]-arr[i])\n",
    "            \n",
    "    return res\n",
    "    \n",
    "arr = [2,3,10,6,4,8,1]\n",
    "n = len(arr)\n",
    "print(maxdiff(arr,n))"
   ]
  },
  {
   "cell_type": "markdown",
   "id": "1e4d2ac4-d37d-472b-accc-47204d1fba5e",
   "metadata": {},
   "source": [
    "2. Efficient"
   ]
  },
  {
   "cell_type": "code",
   "execution_count": null,
   "id": "aa4e869b-c43d-4625-a436-fae6b70d309d",
   "metadata": {},
   "outputs": [
    {
     "name": "stdout",
     "output_type": "stream",
     "text": [
      "8\n"
     ]
    }
   ],
   "source": [
    "# Maximum Difference\n",
    "# Efiicient\n",
    "\n",
    "def maxdiff(arr,n) :\n",
    "    res = arr[1] - arr[0]\n",
    "    minval = arr[0]\n",
    "    for j in range(1, n) :\n",
    "        res = max(res,arr[j] - minval)\n",
    "        minval = min(arr[j],minval)\n",
    "            \n",
    "    return res\n",
    "    \n",
    "arr = [2,3,10,6,4,8,1]\n",
    "n = len(arr)\n",
    "print(maxdiff(arr,n))"
   ]
  },
  {
   "cell_type": "markdown",
   "id": "fb4d6e85-0978-41ab-a9ab-ccee0d494de1",
   "metadata": {},
   "source": [
    "### Maximum index difference"
   ]
  },
  {
   "cell_type": "raw",
   "id": "9d10a5ce-eba7-4800-a3e8-7b2b1fdf3fd3",
   "metadata": {},
   "source": [
    "Given an array arr of positive integers. The task is to return the maximum of j - i subjected to the constraint of arr[i] < arr[j] and i < j.\n",
    "\n",
    "Examples:\n",
    "\n",
    "Input: arr[] = [1, 10]\n",
    "Output: 1\n",
    "Explanation: arr[0] < arr[1] so (j-i) is 1-0 = 1.\n",
    "Input: arr[] = [34, 8, 10, 3, 2, 80, 30, 33, 1]\n",
    "Output: 6\n",
    "Explanation: In the given array arr[1] < arr[7] satisfying the required condition(arr[i] < arr[j]) thus giving the maximum difference of j - i which is 6(7-1).\n",
    "Expected Time Complexity: O(n)\n",
    "Expected Auxiliary Space: O(n)\n",
    "\n",
    "Constraints:\n",
    "1 ≤ arr.size ≤ 106\n",
    "0 ≤ arr[i] ≤ 109\n",
    "\n"
   ]
  },
  {
   "cell_type": "markdown",
   "id": "92278c83-fe58-42a9-aa8a-6265f0171551",
   "metadata": {},
   "source": [
    "1. Naive"
   ]
  },
  {
   "cell_type": "code",
   "execution_count": 23,
   "id": "64afd064-3b3f-479f-aa19-56bbc75ced1a",
   "metadata": {},
   "outputs": [
    {
     "name": "stdin",
     "output_type": "stream",
     "text": [
      " 2\n",
      " 34 5 23 21 22 66 97 85 1 2 34\n"
     ]
    },
    {
     "name": "stdout",
     "output_type": "stream",
     "text": [
      "10\n",
      "~\n"
     ]
    },
    {
     "name": "stdin",
     "output_type": "stream",
     "text": [
      " 34 5 23 21 22 66 97 85 1 2 3\n"
     ]
    },
    {
     "name": "stdout",
     "output_type": "stream",
     "text": [
      "7\n",
      "~\n"
     ]
    }
   ],
   "source": [
    "#User function Template for python3\n",
    "class Solution:\n",
    "    def maxIndexDiff(self, arr):\n",
    "        # code here\n",
    "        n = len(arr)\n",
    "        ans = 0\n",
    "        for i in range(n-1):\n",
    "            for j in range(1, n):\n",
    "                if arr[i] <= arr[j]:\n",
    "                    ans = max(j-i, ans)\n",
    "        return ans\n",
    "            \n",
    "\n",
    "\n",
    "#{ \n",
    " # Driver Code Starts\n",
    "#Initial Template for Python 3\n",
    "\n",
    "import math\n",
    "\n",
    "\n",
    "def main():\n",
    "    T = int(input())\n",
    "    while (T > 0):\n",
    "        arr = [int(x) for x in input().strip().split()]\n",
    "        ob = Solution()\n",
    "        print(ob.maxIndexDiff(arr))\n",
    "        T -= 1\n",
    "        print(\"~\")\n",
    "\n",
    "\n",
    "if __name__ == \"__main__\":\n",
    "    main()\n",
    "\n",
    "# } Driver Code Ends"
   ]
  },
  {
   "cell_type": "markdown",
   "id": "c2915261-e4d4-4770-ac04-210d3811e321",
   "metadata": {},
   "source": [
    "2. Efficient"
   ]
  }
 ],
 "metadata": {
  "kernelspec": {
   "display_name": "Python 3 (ipykernel)",
   "language": "python",
   "name": "python3"
  },
  "language_info": {
   "codemirror_mode": {
    "name": "ipython",
    "version": 3
   },
   "file_extension": ".py",
   "mimetype": "text/x-python",
   "name": "python",
   "nbconvert_exporter": "python",
   "pygments_lexer": "ipython3",
   "version": "3.12.7"
  }
 },
 "nbformat": 4,
 "nbformat_minor": 5
}
