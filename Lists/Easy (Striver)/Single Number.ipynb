{
 "cells": [
  {
   "cell_type": "markdown",
   "id": "5d46ae9c-a088-4959-b16d-31e2ccc23365",
   "metadata": {},
   "source": [
    "### Single Number"
   ]
  },
  {
   "cell_type": "raw",
   "id": "dc561dc7-119c-4e0e-bf1d-d772e212606f",
   "metadata": {},
   "source": [
    "Given a non-empty array of integers nums, every element appears twice except for one. Find that single one.\n",
    "\n",
    "You must implement a solution with a linear runtime complexity and use only constant extra space.\n",
    "\n",
    " \n",
    "\n",
    "Example 1:\n",
    "\n",
    "Input: nums = [2,2,1]\n",
    "\n",
    "Output: 1\n",
    "\n",
    "Example 2:\n",
    "\n",
    "Input: nums = [4,1,2,1,2]\n",
    "\n",
    "Output: 4\n",
    "\n",
    "Example 3:\n",
    "\n",
    "Input: nums = [1]\n",
    "\n",
    "Output: 1\n",
    "\n",
    " \n",
    "\n",
    "Constraints:\n",
    "\n",
    "1 <= nums.length <= 3 * 104\n",
    "-3 * 104 <= nums[i] <= 3 * 104\n",
    "Each element in the array appears twice except for one element which appears only once."
   ]
  },
  {
   "cell_type": "code",
   "execution_count": 3,
   "id": "2e62551c-32cf-4278-9a80-267d8caf8c48",
   "metadata": {},
   "outputs": [
    {
     "data": {
      "text/plain": [
       "4"
      ]
     },
     "execution_count": 3,
     "metadata": {},
     "output_type": "execute_result"
    }
   ],
   "source": [
    "class Solution:\n",
    "    def singleNumber(self, nums: list[int]) -> int:\n",
    "        n = len(nums)\n",
    "        ans = dict()\n",
    "        for i in nums:\n",
    "            if ans.get(i):\n",
    "                ans[i] += 1\n",
    "            else:\n",
    "                ans[i] = 1\n",
    "        for k, v in ans.items():\n",
    "            if v == 1:\n",
    "                return k\n",
    "\n",
    "arr = [4,1,2,1,2]\n",
    "Solution().singleNumber(arr)"
   ]
  },
  {
   "cell_type": "code",
   "execution_count": 8,
   "id": "6fe481f9-b044-43e7-ae99-8693bd320329",
   "metadata": {},
   "outputs": [
    {
     "data": {
      "text/plain": [
       "4"
      ]
     },
     "execution_count": 8,
     "metadata": {},
     "output_type": "execute_result"
    }
   ],
   "source": [
    "class Solution:\n",
    "    def singleNumber(self, nums: list[int]) -> int:\n",
    "        n = len(nums)\n",
    "        ans = 0\n",
    "        for i in nums:\n",
    "            ans ^= i\n",
    "        return ans\n",
    "\n",
    "arr = [4,1,2,1,2]\n",
    "Solution().singleNumber(arr)"
   ]
  }
 ],
 "metadata": {
  "kernelspec": {
   "display_name": "Python 3 (ipykernel)",
   "language": "python",
   "name": "python3"
  },
  "language_info": {
   "codemirror_mode": {
    "name": "ipython",
    "version": 3
   },
   "file_extension": ".py",
   "mimetype": "text/x-python",
   "name": "python",
   "nbconvert_exporter": "python",
   "pygments_lexer": "ipython3",
   "version": "3.12.7"
  }
 },
 "nbformat": 4,
 "nbformat_minor": 5
}
