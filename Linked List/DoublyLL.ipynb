{
 "cells": [
  {
   "cell_type": "markdown",
   "id": "647a8628-4e02-479e-b0d1-9146f4d4a435",
   "metadata": {},
   "source": [
    "### Doubly linked list Insertion at given position"
   ]
  },
  {
   "cell_type": "raw",
   "id": "c0921c5a-2fd2-4295-9611-f55d461f7ef6",
   "metadata": {},
   "source": [
    "Given a doubly-linked list, a position p, and an integer x. The task is to add a new node with value x at the position just after pth node in the doubly linked list and return the head of the updated list.\n",
    "\n",
    "Examples:\n",
    "\n",
    "Input: LinkedList: 2<->4<->5, p = 2, x = 6 \n",
    "Output: 2<->4<->5<->6\n",
    "Explanation: p = 2, and x = 6. So, 6 is inserted after p, i.e, at position 2 (0-based indexing).\n",
    "Input: LinkedList: 1<->2<->3<->4, p = 0, x = 44\n",
    "Output: 1<->44<->2<->3<->4\n",
    "Explanation: p = 0, and x = 44 . So, 44 is inserted after p, i.e, at position 0 (0-based indexing).\n",
    "Constraints:\n",
    "0 <= p < size of doubly linked list <= 106\n",
    "1 <= x <= 106\n",
    "\n"
   ]
  },
  {
   "cell_type": "code",
   "execution_count": 12,
   "id": "600bb598-5354-4491-82ba-ef58b53e85d8",
   "metadata": {},
   "outputs": [
    {
     "name": "stdout",
     "output_type": "stream",
     "text": [
      "Original Linked List: 1 2 4 \n",
      "Inserting Node with data 3at position 5: Position is out of bounds.\n",
      "1 2 4 \n"
     ]
    }
   ],
   "source": [
    "# Python Program to insert a node at a given position\n",
    "\n",
    "class Node:\n",
    "    def __init__(self, new_data):\n",
    "        self.data = new_data\n",
    "        self.next = None\n",
    "        self.prev = None\n",
    "\n",
    "def insert_at_position(head, pos, new_data):\n",
    "  \n",
    "    # Create a new node\n",
    "    new_node = Node(new_data)\n",
    "\n",
    "    # Insertion at the beginning\n",
    "    if pos == 1:\n",
    "        new_node.next = head\n",
    "\n",
    "        # If the linked list is not empty, set the prev of head to new node\n",
    "        if head is not None:\n",
    "            head.prev = new_node\n",
    "\n",
    "        # Set the new node as the head of the linked list\n",
    "        head = new_node\n",
    "        return head\n",
    "\n",
    "    curr = head\n",
    "    \n",
    "    # Traverse the list to find the node before the insertion point\n",
    "    for _ in range(1, pos - 1):\n",
    "        curr = curr.next\n",
    "        if curr is None:\n",
    "            print(\"Position is out of bounds.\")\n",
    "            return head\n",
    "        \n",
    "\n",
    "\n",
    "    # Set the prev of new node to curr\n",
    "    new_node.prev = curr\n",
    "\n",
    "    # Set the next of new node to next of curr\n",
    "    new_node.next = curr.next\n",
    "\n",
    "    # Update the next of current node to new node\n",
    "    curr.next = new_node\n",
    "\n",
    "    # If the new node is not the last node, update prev of next node to new node\n",
    "    if new_node.next is not None:\n",
    "        new_node.next.prev = new_node\n",
    "\n",
    "    return head\n",
    "\n",
    "def print_list(head):\n",
    "    curr = head\n",
    "    while curr is not None:\n",
    "        print(curr.data, end=\" \")\n",
    "        curr = curr.next\n",
    "    print()\n",
    "\n",
    "if __name__ == \"__main__\":\n",
    "  \n",
    "    # Create a hardcoded doubly linked list:\n",
    "    # 1 <-> 2 <-> 4\n",
    "    head = Node(1)\n",
    "    head.next = Node(2)\n",
    "    head.next.prev = head\n",
    "    head.next.next = Node(4)\n",
    "    head.next.next.prev = head.next\n",
    "\n",
    "    # Print the original list\n",
    "    print(\"Original Linked List: \", end=\"\")\n",
    "    print_list(head)\n",
    "\n",
    "    # Insert new node with data 3 at position 3\n",
    "    data = 3\n",
    "    pos = 5\n",
    "    print(f\"Inserting Node with data {data}at position {pos}: \", end=\"\")\n",
    "    \n",
    "    head = insert_at_position(head, pos, data)\n",
    "\n",
    "    # Print the updated list\n",
    "    print_list(head)"
   ]
  },
  {
   "cell_type": "code",
   "execution_count": null,
   "id": "744498fc-ab4f-4fc4-ab06-21605ad7556f",
   "metadata": {},
   "outputs": [],
   "source": []
  }
 ],
 "metadata": {
  "kernelspec": {
   "display_name": "Python 3 (ipykernel)",
   "language": "python",
   "name": "python3"
  },
  "language_info": {
   "codemirror_mode": {
    "name": "ipython",
    "version": 3
   },
   "file_extension": ".py",
   "mimetype": "text/x-python",
   "name": "python",
   "nbconvert_exporter": "python",
   "pygments_lexer": "ipython3",
   "version": "3.12.7"
  }
 },
 "nbformat": 4,
 "nbformat_minor": 5
}
