{
 "cells": [
  {
   "cell_type": "code",
   "execution_count": null,
   "id": "51a2d9a3-0939-4bc6-8926-c4ae9305a43a",
   "metadata": {},
   "outputs": [],
   "source": []
  }
 ],
 "metadata": {
  "kernelspec": {
   "display_name": "",
   "name": ""
  },
  "language_info": {
   "name": ""
  }
 },
 "nbformat": 4,
 "nbformat_minor": 5
}
