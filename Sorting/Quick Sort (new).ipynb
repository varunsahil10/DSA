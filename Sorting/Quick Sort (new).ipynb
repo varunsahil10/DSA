{
 "cells": [
  {
   "cell_type": "markdown",
   "id": "27ae512b-0f58-42dc-a03f-8b5330e9a2a7",
   "metadata": {},
   "source": [
    "### Quick Sort"
   ]
  },
  {
   "cell_type": "code",
   "execution_count": 11,
   "id": "afec74d9-2990-4941-a0a6-85e1761615b4",
   "metadata": {},
   "outputs": [
    {
     "name": "stdout",
     "output_type": "stream",
     "text": [
      "Before pointer swap [9, 3, 7, 1, 8, 2]\n",
      "Before pivot swap [9, 3, 7, 1, 8, 2]\n",
      "After pivot swap [2, 3, 7, 1, 8, 9]\n",
      "5\n",
      "Before pointer swap [2, 3, 7, 1, 8, 9]\n",
      "After pointer swap [2, 1, 7, 3, 8, 9]\n",
      "Before pointer swap [2, 1, 7, 3, 8, 9]\n",
      "Before pivot swap [2, 1, 7, 3, 8, 9]\n",
      "After pivot swap [1, 2, 7, 3, 8, 9]\n",
      "1\n",
      "Before pointer swap [1, 2, 7, 3, 8, 9]\n",
      "Before pivot swap [1, 2, 7, 3, 8, 9]\n",
      "After pivot swap [1, 2, 3, 7, 8, 9]\n",
      "3\n",
      "[1, 2, 3, 7, 8, 9]\n"
     ]
    }
   ],
   "source": [
    "# Quick sort\n",
    "'''\n",
    "find the partition index such that element to the left are smaller or \n",
    "equal and elements to the right are greater than the pivot element.\n",
    "Divide the array in two halves and repeat for left and right side of\n",
    "the partition element.\n",
    "'''\n",
    "\n",
    "def partition(arr, low, high):\n",
    "    i = low\n",
    "    j = high\n",
    "    pivot = arr[low]\n",
    "\n",
    "    while i < j:\n",
    "        while arr[i] <= pivot and i < high: # comparision at the last index\n",
    "            i += 1\n",
    "        while arr[j] > pivot and j > low:\n",
    "            j -= 1\n",
    "        print(f\"Before pointer swap {arr}\")\n",
    "        if i < j:\n",
    "            arr[i], arr[j] = arr[j], arr[i]\n",
    "            print(f\"After pointer swap {arr}\")\n",
    "    print(f\"Before pivot swap {arr}\")\n",
    "    arr[low], arr[j] = arr[j], arr[low]\n",
    "    print(f\"After pivot swap {arr}\")\n",
    "    print(j)\n",
    "    return j\n",
    "    \n",
    "def quickSort(arr, low, high):\n",
    "    if low < high:\n",
    "        pIndex = partition(arr, low, high)\n",
    "        quickSort(arr, low, pIndex - 1)\n",
    "        quickSort(arr, pIndex + 1, high)\n",
    "\n",
    "arr = [9, 3, 7, 1, 8, 2]\n",
    "n = len(arr)\n",
    "quickSort(arr, 0, n-1)\n",
    "print(arr)"
   ]
  },
  {
   "cell_type": "markdown",
   "id": "79571128-bc26-409a-abb7-7d511fe4baf9",
   "metadata": {},
   "source": [
    "| Case        | Time Complexity | Space Complexity | Reason                                            |\n",
    "| ----------- | --------------- | ---------------- | ------------------------------------------------- |\n",
    "| **Best**    | O(N log N)      | O(log N)         | Balanced partitions                               |\n",
    "| **Average** | O(N log N)      | O(log N)         | Random pivot splits                               |\n",
    "| **Worst**   | O(N²)           | O(N)             | Always unbalanced (e.g. sorted input + bad pivot) |\n"
   ]
  }
 ],
 "metadata": {
  "kernelspec": {
   "display_name": "Python 3 (ipykernel)",
   "language": "python",
   "name": "python3"
  },
  "language_info": {
   "codemirror_mode": {
    "name": "ipython",
    "version": 3
   },
   "file_extension": ".py",
   "mimetype": "text/x-python",
   "name": "python",
   "nbconvert_exporter": "python",
   "pygments_lexer": "ipython3",
   "version": "3.13.8"
  }
 },
 "nbformat": 4,
 "nbformat_minor": 5
}
