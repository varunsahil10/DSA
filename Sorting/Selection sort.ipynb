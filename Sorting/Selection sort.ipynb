{
 "cells": [
  {
   "cell_type": "markdown",
   "id": "9e6bbb74-cc11-45a3-bf10-7a9f87a93a01",
   "metadata": {},
   "source": [
    "### Selection Sort"
   ]
  },
  {
   "cell_type": "code",
   "execution_count": 9,
   "id": "18c5993f-5388-473f-85e8-43880af0df77",
   "metadata": {},
   "outputs": [
    {
     "name": "stdout",
     "output_type": "stream",
     "text": [
      "[23, 34, 54, 69, 71, 86]\n"
     ]
    }
   ],
   "source": [
    "# smallest element at the right place on every iteration\n",
    "def selection_sort(arr: list[int]):\n",
    "    n = len(arr)\n",
    "\n",
    "    for i in range(n):\n",
    "        minIndex = i # assuming current element to be the smallest\n",
    "        for j in range(i+1, n):\n",
    "            if arr[j] < arr[minIndex]:\n",
    "                minIndex = j\n",
    "        arr[i], arr[minIndex] = arr[minIndex], arr[i]\n",
    "\n",
    "arr = [34, 23, 69, 71, 54, 86]\n",
    "selection_sort(arr)\n",
    "print(arr)"
   ]
  },
  {
   "cell_type": "raw",
   "id": "b2c88055-e6a2-4e1f-9b75-b3040cd8223e",
   "metadata": {},
   "source": [
    "Time complexity: O(n^2)\n",
    "space complexity: O(1)"
   ]
  }
 ],
 "metadata": {
  "kernelspec": {
   "display_name": "Python 3 (ipykernel)",
   "language": "python",
   "name": "python3"
  },
  "language_info": {
   "codemirror_mode": {
    "name": "ipython",
    "version": 3
   },
   "file_extension": ".py",
   "mimetype": "text/x-python",
   "name": "python",
   "nbconvert_exporter": "python",
   "pygments_lexer": "ipython3",
   "version": "3.13.8"
  }
 },
 "nbformat": 4,
 "nbformat_minor": 5
}
