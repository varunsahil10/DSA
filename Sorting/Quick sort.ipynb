{
 "cells": [
  {
   "cell_type": "markdown",
   "id": "b0454e99-ef6b-4eb9-9739-01524076562c",
   "metadata": {
    "jp-MarkdownHeadingCollapsed": true
   },
   "source": [
    "### Partition an array"
   ]
  },
  {
   "cell_type": "code",
   "execution_count": 8,
   "id": "32c66c69-57fd-442d-b9ae-966a2f70c375",
   "metadata": {},
   "outputs": [
    {
     "name": "stdout",
     "output_type": "stream",
     "text": [
      "[6, 5, 2, 3, 7, 9, 11, 12, 14, 10]\n"
     ]
    }
   ],
   "source": [
    "def partition(arr, pivot):\n",
    "    n = len(arr)\n",
    "    arr[pivot], arr[n-1] = arr[n-1], arr[pivot]\n",
    "    temp = []\n",
    "    for i in range(n):\n",
    "        if arr[i] <= arr[n-1]:\n",
    "            temp.append(arr[i])\n",
    "    for j in range(n):\n",
    "        if arr[j] > arr[n-1]:\n",
    "            temp.append(arr[j])\n",
    "    for k in range(n):\n",
    "        arr[k] = temp[k]\n",
    "\n",
    "arr = [9, 7, 5, 11, 12, 2, 14, 3, 10, 6]\n",
    "pivot = 1\n",
    "partition(arr, pivot)\n",
    "print(arr)"
   ]
  },
  {
   "cell_type": "markdown",
   "id": "d1d83e6f-5ebf-493a-86d6-b4045f078924",
   "metadata": {},
   "source": [
    "### Lomuto Partition"
   ]
  },
  {
   "cell_type": "code",
   "execution_count": 57,
   "id": "4f197165-cc94-4b06-9a84-dd20dbfdaa4b",
   "metadata": {},
   "outputs": [
    {
     "name": "stdout",
     "output_type": "stream",
     "text": [
      "10 30 40 50 70 70 90 80\n"
     ]
    }
   ],
   "source": [
    "def partition(arr,low,high):\n",
    "    pivot = arr[high]\n",
    "    i = low-1\n",
    "    for j in range(low,high):\n",
    "        if arr[j] < pivot:\n",
    "            i += 1\n",
    "            arr[i], arr[j] = arr[j], arr[i]\n",
    "    arr[i+1], arr[high] = arr[high], arr[i+1]\n",
    "    return i+1\n",
    "arr = [10,80,30,90,40,70,50,70]\n",
    "low = 0\n",
    "high = len(arr)-1\n",
    "partition(arr,low,high)\n",
    "print(*arr)"
   ]
  },
  {
   "cell_type": "markdown",
   "id": "d7ea0be9-22b4-4cdb-907c-9380565061fe",
   "metadata": {},
   "source": [
    "### Quick sort using Lomuto partition"
   ]
  },
  {
   "cell_type": "code",
   "execution_count": 61,
   "id": "df08d3fc-5e03-4d3f-9512-9e39801b85f2",
   "metadata": {},
   "outputs": [
    {
     "name": "stdout",
     "output_type": "stream",
     "text": [
      "10 30 40 50 70 70 80 90\n"
     ]
    }
   ],
   "source": [
    "def qSortLomuto(arr,low,high):\n",
    "    if low < high:\n",
    "        p = partition(arr,low,high)\n",
    "        qSortLomuto(arr,low,p-1)\n",
    "        qSortLomuto(arr,p+1,high)\n",
    "arr = [10,80,30,90,40,70,50,70]\n",
    "low = 0\n",
    "high = len(arr)-1\n",
    "qSortLomuto(arr,low,high)\n",
    "print(*arr)"
   ]
  },
  {
   "cell_type": "markdown",
   "id": "5955d3ec-ef26-4880-88b4-19a668005847",
   "metadata": {},
   "source": [
    "### Hoare's Partition"
   ]
  },
  {
   "cell_type": "code",
   "execution_count": 63,
   "id": "2206beb6-9155-42a3-93dd-162c44d2139c",
   "metadata": {},
   "outputs": [
    {
     "name": "stdout",
     "output_type": "stream",
     "text": [
      "70 30 50 40 90 80\n"
     ]
    }
   ],
   "source": [
    "def hoarse(arr,low,high):\n",
    "    i = low-1\n",
    "    j = high+1\n",
    "    pivot = arr[low]\n",
    "\n",
    "    while True:\n",
    "        i += 1\n",
    "        while arr[i] < pivot:\n",
    "            i += 1\n",
    "        j -= 1\n",
    "        while arr[j] > pivot:\n",
    "            j -= 1\n",
    "\n",
    "        if i >= j:\n",
    "            return j\n",
    "\n",
    "        arr[i], arr[j] = arr[j], arr[i]\n",
    "\n",
    "arr = [80,30,90,40,50,70]\n",
    "low = 0\n",
    "high = len(arr)-1\n",
    "hoarse(arr,low,high)\n",
    "print(*arr)"
   ]
  },
  {
   "cell_type": "code",
   "execution_count": 28,
   "id": "11a6848c-74b3-45ff-a2df-9f05c3220aa1",
   "metadata": {},
   "outputs": [
    {
     "name": "stdout",
     "output_type": "stream",
     "text": [
      "50 30 40 90 80 70\n"
     ]
    }
   ],
   "source": [
    "def hoarePartition(arr,l,h):\n",
    "    pivot=arr[l]\n",
    "    i=l-1\n",
    "    j=h+l\n",
    "    while True:\n",
    "        i=i+1\n",
    "        while arr[i]<pivot:\n",
    "            i=i+1\n",
    "        j=j-1\n",
    "        while arr[j]>pivot:\n",
    "            j=j-1\n",
    "        if i>=j:\n",
    "            return j\n",
    "        arr[i],arr[j]=arr[j],arr[i]\n",
    "\n",
    "arr = [80,30,90,40,50,70]\n",
    "low = 0\n",
    "high = len(arr)-1\n",
    "hoarePartition(arr,low,high)\n",
    "print(*arr)"
   ]
  },
  {
   "cell_type": "markdown",
   "id": "54b293e9-2b3c-4ffe-9318-4d0ca5265744",
   "metadata": {},
   "source": [
    "### Striver"
   ]
  },
  {
   "cell_type": "code",
   "execution_count": 69,
   "id": "ea7ff6bb-ebf1-4192-9321-40c606a5b502",
   "metadata": {},
   "outputs": [
    {
     "name": "stdout",
     "output_type": "stream",
     "text": [
      "1 2 3 4 5 6 9\n"
     ]
    }
   ],
   "source": [
    "def partition(arr,low,high):\n",
    "    pivot = arr[low]\n",
    "    i = low\n",
    "    j = high\n",
    "\n",
    "    while i<j:\n",
    "        while arr[i] <= pivot and i<high:\n",
    "            i += 1\n",
    "        while arr[j] > pivot and j > low:\n",
    "            j -= 1\n",
    "        if i < j:\n",
    "            arr[i], arr[j] = arr[j], arr[i]\n",
    "    arr[low], arr[j] = arr[j], arr[low]\n",
    "    return j\n",
    "\n",
    "def qSort(arr,low,high):\n",
    "    if low >= high:\n",
    "        return\n",
    "    p = partition(arr,low,high)\n",
    "    qSort(arr,low,p-1)\n",
    "    qSort(arr,p+1,high)\n",
    "\n",
    "arr = [4,6,2,5,9,1,3]\n",
    "s = 0\n",
    "e = len(arr)-1\n",
    "qSort(arr,s,e)\n",
    "print(*arr)\n"
   ]
  }
 ],
 "metadata": {
  "kernelspec": {
   "display_name": "Python 3 (ipykernel)",
   "language": "python",
   "name": "python3"
  },
  "language_info": {
   "codemirror_mode": {
    "name": "ipython",
    "version": 3
   },
   "file_extension": ".py",
   "mimetype": "text/x-python",
   "name": "python",
   "nbconvert_exporter": "python",
   "pygments_lexer": "ipython3",
   "version": "3.12.7"
  }
 },
 "nbformat": 4,
 "nbformat_minor": 5
}
