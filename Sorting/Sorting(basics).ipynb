{
 "cells": [
  {
   "cell_type": "code",
   "execution_count": null,
   "id": "8877d260-59c7-45e3-bb98-4fad9adf01e2",
   "metadata": {},
   "outputs": [],
   "source": []
  }
 ],
 "metadata": {
  "kernelspec": {
   "display_name": "",
   "name": ""
  },
  "language_info": {
   "name": ""
  }
 },
 "nbformat": 4,
 "nbformat_minor": 5
}
