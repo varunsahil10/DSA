{
 "cells": [
  {
   "cell_type": "markdown",
   "id": "b5d94610-9662-498a-89b0-84a96b5a78d2",
   "metadata": {},
   "source": [
    "### Selection sort"
   ]
  },
  {
   "cell_type": "code",
   "execution_count": 3,
   "id": "7ea79e4e-1826-460a-a0a4-c225c8bddb93",
   "metadata": {},
   "outputs": [
    {
     "name": "stdin",
     "output_type": "stream",
     "text": [
      " 1\n",
      " 4 3 2 1\n"
     ]
    },
    {
     "name": "stdout",
     "output_type": "stream",
     "text": [
      "1 2 3 4 \n",
      "~\n"
     ]
    }
   ],
   "source": [
    "#User function Template for python3\n",
    "\n",
    "class Solution: \n",
    "    def selectionSort(self, arr):\n",
    "        #code here\n",
    "        n = len(arr)\n",
    "        for i in range(n-1):\n",
    "            minIndex = i\n",
    "            for j in range(i+1, n):\n",
    "                if arr[j] < arr[minIndex]:\n",
    "                    minIndex = j\n",
    "            arr[minIndex], arr[i] = arr[i], arr[minIndex]\n",
    "\n",
    "\n",
    "#{ \n",
    " # Driver Code Starts\n",
    "class IntArray:\n",
    "\n",
    "    def __init__(self) -> None:\n",
    "        pass\n",
    "\n",
    "    def Input(self, n):\n",
    "        arr = [int(i) for i in input().strip().split()]  #array input\n",
    "        return arr\n",
    "\n",
    "    def Print(self, arr):\n",
    "        for i in arr:\n",
    "            print(i, end=\" \")\n",
    "        print()\n",
    "\n",
    "\n",
    "if __name__ == \"__main__\":\n",
    "    t = int(input())\n",
    "    for _ in range(t):\n",
    "\n",
    "        arr = [int(i) for i in input().split()]\n",
    "\n",
    "        obj = Solution()\n",
    "        obj.selectionSort(arr)\n",
    "\n",
    "        IntArray().Print(arr)\n",
    "        print(\"~\")\n",
    "\n",
    "# } Driver Code Ends"
   ]
  }
 ],
 "metadata": {
  "kernelspec": {
   "display_name": "Python 3 (ipykernel)",
   "language": "python",
   "name": "python3"
  },
  "language_info": {
   "codemirror_mode": {
    "name": "ipython",
    "version": 3
   },
   "file_extension": ".py",
   "mimetype": "text/x-python",
   "name": "python",
   "nbconvert_exporter": "python",
   "pygments_lexer": "ipython3",
   "version": "3.12.7"
  }
 },
 "nbformat": 4,
 "nbformat_minor": 5
}
