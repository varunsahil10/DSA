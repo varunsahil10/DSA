{
 "cells": [
  {
   "cell_type": "markdown",
   "id": "b5d94610-9662-498a-89b0-84a96b5a78d2",
   "metadata": {
    "jp-MarkdownHeadingCollapsed": true
   },
   "source": [
    "### Selection sort"
   ]
  },
  {
   "cell_type": "code",
   "execution_count": 3,
   "id": "7ea79e4e-1826-460a-a0a4-c225c8bddb93",
   "metadata": {},
   "outputs": [
    {
     "name": "stdin",
     "output_type": "stream",
     "text": [
      " 1\n",
      " 4 3 2 1\n"
     ]
    },
    {
     "name": "stdout",
     "output_type": "stream",
     "text": [
      "1 2 3 4 \n",
      "~\n"
     ]
    }
   ],
   "source": [
    "#User function Template for python3\n",
    "\n",
    "class Solution: \n",
    "    def selectionSort(self, arr):\n",
    "        #code here\n",
    "        n = len(arr)\n",
    "        for i in range(n-1):\n",
    "            minIndex = i\n",
    "            for j in range(i+1, n):\n",
    "                if arr[j] < arr[minIndex]:\n",
    "                    minIndex = j\n",
    "            arr[minIndex], arr[i] = arr[i], arr[minIndex]\n",
    "\n",
    "\n",
    "#{ \n",
    " # Driver Code Starts\n",
    "class IntArray:\n",
    "\n",
    "    def __init__(self) -> None:\n",
    "        pass\n",
    "\n",
    "    def Input(self, n):\n",
    "        arr = [int(i) for i in input().strip().split()]  #array input\n",
    "        return arr\n",
    "\n",
    "    def Print(self, arr):\n",
    "        for i in arr:\n",
    "            print(i, end=\" \")\n",
    "        print()\n",
    "\n",
    "\n",
    "if __name__ == \"__main__\":\n",
    "    t = int(input())\n",
    "    for _ in range(t):\n",
    "\n",
    "        arr = [int(i) for i in input().split()]\n",
    "\n",
    "        obj = Solution()\n",
    "        obj.selectionSort(arr)\n",
    "\n",
    "        IntArray().Print(arr)\n",
    "        print(\"~\")\n",
    "\n",
    "# } Driver Code Ends"
   ]
  },
  {
   "cell_type": "markdown",
   "id": "6e09915c-3c56-411d-aee1-f926da5f3f26",
   "metadata": {},
   "source": [
    "### Bubble Sort"
   ]
  },
  {
   "cell_type": "code",
   "execution_count": 9,
   "id": "2c7bce64-40b8-41cb-bb0f-971f4487d18e",
   "metadata": {},
   "outputs": [
    {
     "name": "stdin",
     "output_type": "stream",
     "text": [
      " 1\n",
      " 4 3 2 1\n"
     ]
    },
    {
     "name": "stdout",
     "output_type": "stream",
     "text": [
      "1 2 3 4 \n"
     ]
    }
   ],
   "source": [
    "#User function Template for python3\n",
    "\n",
    "class Solution:\n",
    "    #Function to sort the array using bubble sort algorithm.\n",
    "    def bubbleSort(self,arr):\n",
    "        # code here\n",
    "        n = len(arr)\n",
    "        for i in range(n-1):\n",
    "            swapped = False\n",
    "            for j in range(n-i-1):\n",
    "                if arr[j] > arr[j+1]:\n",
    "                    arr[j], arr[j+1] = arr[j+1], arr[j]\n",
    "                    swapped = True\n",
    "            if not swapped:\n",
    "                return\n",
    "\n",
    "\n",
    "#{ \n",
    " # Driver Code Starts\n",
    "#Initial Template for Python 3\n",
    "\n",
    "if __name__ == '__main__':\n",
    "    t = int(input())\n",
    "    for i in range(t):\n",
    "\n",
    "        arr = list(map(int, input().strip().split()))\n",
    "        ob = Solution()\n",
    "        ob.bubbleSort(arr)\n",
    "        for i in arr:\n",
    "            print(i, end=' ')\n",
    "        print()\n",
    "\n",
    "# } Driver Code Ends"
   ]
  },
  {
   "cell_type": "markdown",
   "id": "910e0c23-76a6-41de-a689-5e6322553140",
   "metadata": {},
   "source": [
    "### Insertion sort"
   ]
  },
  {
   "cell_type": "code",
   "execution_count": 3,
   "id": "7f8819a8-9cfc-403f-899d-0b9e18b3ba14",
   "metadata": {},
   "outputs": [
    {
     "name": "stdin",
     "output_type": "stream",
     "text": [
      " 1\n",
      " 4 3 2 1\n"
     ]
    },
    {
     "name": "stdout",
     "output_type": "stream",
     "text": [
      "1 2 3 4\n",
      "~\n"
     ]
    }
   ],
   "source": [
    "#{ \n",
    " # Driver Code Starts\n",
    "#Initial Template for Python 3\n",
    "\n",
    "# } Driver Code Ends\n",
    "\n",
    "# Please change the array in-place\n",
    "class Solution:\n",
    "    def insertionSort(self, arr):\n",
    "        #code here\n",
    "        n = len(arr)\n",
    "        \n",
    "        for i in range(1,n):\n",
    "            temp = arr[i]\n",
    "            j = i-1\n",
    "            while j >= 0 and arr[j] > temp:\n",
    "                #shift right\n",
    "                arr[j+1] = arr[j]\n",
    "                j -= 1\n",
    "            \n",
    "            arr[j+1] = temp\n",
    "        \n",
    "\n",
    "#{ \n",
    " # Driver Code Starts.\n",
    "#Initial Template for Python 3\n",
    "\n",
    "if __name__ == \"__main__\":\n",
    "    t = int(input())\n",
    "    while t > 0:\n",
    "        arr = list(map(int, input().split()))\n",
    "        ob = Solution()\n",
    "        ob.insertionSort(arr)\n",
    "        print(*arr)\n",
    "        print(\"~\")\n",
    "        t -= 1\n",
    "\n",
    "\n",
    "# } Driver Code Ends"
   ]
  },
  {
   "cell_type": "markdown",
   "id": "6a1afa35-9e6b-473e-82d7-c34055cb1dc6",
   "metadata": {},
   "source": [
    "### Merge sort"
   ]
  },
  {
   "cell_type": "markdown",
   "id": "c3b92872-589a-4d8b-b785-46e0c4b0dcb6",
   "metadata": {},
   "source": [
    "Merge 2 sorted arrays"
   ]
  },
  {
   "cell_type": "code",
   "execution_count": 13,
   "id": "95af9d2a-b354-4f66-8a90-78fa10fd788e",
   "metadata": {},
   "outputs": [
    {
     "name": "stdout",
     "output_type": "stream",
     "text": [
      "5 6 6 10 15 30 40\n"
     ]
    }
   ],
   "source": [
    "def mergeSorted(a,b):\n",
    "    res = []\n",
    "    m = len(a)\n",
    "    n = len(b)\n",
    "    i = j = 0\n",
    "\n",
    "    while(i<m and j<n):\n",
    "        if a[i] < b[j]:\n",
    "            res.append(a[i])\n",
    "            i += 1\n",
    "        else:\n",
    "            res.append(b[j])\n",
    "            j += 1\n",
    "\n",
    "    while i<m:\n",
    "        res.append(a[i])\n",
    "        i += 1\n",
    "\n",
    "    while j<n:\n",
    "        res.append(b[j])\n",
    "        j += 1\n",
    "\n",
    "    return res\n",
    "\n",
    "a = [10,15]\n",
    "b = [5,6,6,30,40]\n",
    "\n",
    "print(*mergeSorted(a,b))\n",
    "\n",
    "\n"
   ]
  },
  {
   "cell_type": "markdown",
   "id": "923f8d2a-8447-4e64-b00b-4762d857bdb3",
   "metadata": {},
   "source": [
    "Merge Subarray"
   ]
  },
  {
   "cell_type": "code",
   "execution_count": 16,
   "id": "1e13c982-f903-4da7-8bd3-6cec38178a0a",
   "metadata": {},
   "outputs": [
    {
     "name": "stdout",
     "output_type": "stream",
     "text": [
      "8 10 11 15 20 40 55\n"
     ]
    }
   ],
   "source": [
    "def merge(a, low, mid, high):\n",
    "    left = a[low:mid + 1]\n",
    "    right = a[mid + 1:high + 1]\n",
    "\n",
    "    i = j = 0\n",
    "    k = low\n",
    "\n",
    "    while i < len(left) and j < len(right):\n",
    "\n",
    "        if left[i] < right[j]:\n",
    "            a[k] = left[i]\n",
    "\n",
    "            k += 1\n",
    "            i += 1\n",
    "        else:\n",
    "            a[k] = right[j]\n",
    "            k += 1\n",
    "            j += 1\n",
    "\n",
    "    while i < len(left):\n",
    "        a[k] = left[i]\n",
    "        i += 1\n",
    "        k += 1\n",
    "\n",
    "    while j < len(right):\n",
    "        a[k] = right[j]\n",
    "        j += 1\n",
    "        k += 1\n",
    "\n",
    "\n",
    "a = [10, 15, 20, 40, 8, 11, 55]\n",
    "\n",
    "merge(a, 0, 3, 6)\n",
    "\n",
    "print(*a)"
   ]
  },
  {
   "cell_type": "markdown",
   "id": "fd8785be-a54d-4e19-bf79-89ed07020ad9",
   "metadata": {},
   "source": [
    "Merge Sort"
   ]
  },
  {
   "cell_type": "code",
   "execution_count": 24,
   "id": "1943f0d5-4f03-40d4-9845-e14cf375590a",
   "metadata": {},
   "outputs": [
    {
     "name": "stdout",
     "output_type": "stream",
     "text": [
      "5 7 10 15 30\n"
     ]
    }
   ],
   "source": [
    "def merge(a, low, mid, high):\n",
    "    left = a[low:mid + 1]\n",
    "    right = a[mid + 1:high + 1]\n",
    "    m = mid - low + 1\n",
    "    n = high - mid\n",
    "    i = j = 0\n",
    "    k = low\n",
    "\n",
    "    while i < m and j < n:\n",
    "\n",
    "        if left[i] < right[j]:\n",
    "            a[k] = left[i]\n",
    "\n",
    "            k += 1\n",
    "            i += 1\n",
    "        else:\n",
    "            a[k] = right[j]\n",
    "            k += 1\n",
    "            j += 1\n",
    "\n",
    "    while i < m:\n",
    "        a[k] = left[i]\n",
    "        i += 1\n",
    "        k += 1\n",
    "\n",
    "    while j < n:\n",
    "        a[k] = right[j]\n",
    "        j += 1\n",
    "        k += 1\n",
    "\n",
    "\n",
    "def mergeSort(arr, l, r):\n",
    "    if r > l:\n",
    "        m = (r + l) // 2\n",
    "        mergeSort(arr, l, m)\n",
    "        mergeSort(arr, m + 1, r)\n",
    "        merge(arr, l, m, r)\n",
    "\n",
    "\n",
    "arr = [10, 5, 30, 15, 7]\n",
    "\n",
    "mergeSort(arr, 0, 4)\n",
    "print(*arr)"
   ]
  },
  {
   "cell_type": "markdown",
   "id": "a3b4751b-ea63-4a40-9953-c7216b646b39",
   "metadata": {},
   "source": [
    "### Union of a sorted array"
   ]
  },
  {
   "cell_type": "code",
   "execution_count": 39,
   "id": "7638f2ba-92ba-4452-a82e-51b1176e0e16",
   "metadata": {},
   "outputs": [
    {
     "name": "stdout",
     "output_type": "stream",
     "text": [
      "14\n",
      "1 2 10 20 40\n"
     ]
    }
   ],
   "source": [
    "def getUnion(a,b):\n",
    "    m = len(a)\n",
    "    n = len(b)\n",
    "    i = j = 0\n",
    "    res = []\n",
    "    count = 0\n",
    "    \n",
    "    while i < m and j < n:\n",
    "        count += 1\n",
    "        if i>0 and a[i] == a[i-1]:\n",
    "            i += 1\n",
    "        if j>0 and b[j] == b[j-1]:\n",
    "            j += 1\n",
    "        elif a[i] < b[j]:\n",
    "            res.append(a[i])\n",
    "            i += 1\n",
    "        elif b[j] < a[i]:\n",
    "            res.append(b[j])\n",
    "            j += 1\n",
    "        else:\n",
    "            res.append(a[i])\n",
    "            i += 1\n",
    "            j += 1\n",
    "\n",
    "    while i<m:\n",
    "        if i>0 and a[i] != a[i-1]:\n",
    "            res.append(a[i])\n",
    "        i += 1\n",
    "\n",
    "    while j<n:\n",
    "        if j>0 and b[j] != b[j-1]:\n",
    "            res.append(b[j])\n",
    "        j += 1\n",
    "\n",
    "    print(count)\n",
    "    return res\n",
    "\n",
    "a = [2,20,20,20,20,20,20,20,20,20,20,20,20,20,20,40]\n",
    "b = [1,10,20,20,20,20,20,20,20,20,20,20,20]\n",
    "\n",
    "print(*getUnion(a,b))\n",
    "\n",
    "\n",
    "\n",
    "    "
   ]
  }
 ],
 "metadata": {
  "kernelspec": {
   "display_name": "Python 3 (ipykernel)",
   "language": "python",
   "name": "python3"
  },
  "language_info": {
   "codemirror_mode": {
    "name": "ipython",
    "version": 3
   },
   "file_extension": ".py",
   "mimetype": "text/x-python",
   "name": "python",
   "nbconvert_exporter": "python",
   "pygments_lexer": "ipython3",
   "version": "3.12.7"
  }
 },
 "nbformat": 4,
 "nbformat_minor": 5
}
