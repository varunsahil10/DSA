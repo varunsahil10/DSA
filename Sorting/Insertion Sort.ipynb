{
 "cells": [
  {
   "cell_type": "markdown",
   "id": "6228a2af-969d-40f6-a039-0dd7a553e64f",
   "metadata": {},
   "source": [
    "### Insertion Sort"
   ]
  },
  {
   "cell_type": "code",
   "execution_count": 3,
   "id": "8f6efea0-8071-489f-b228-99d9523bc64c",
   "metadata": {},
   "outputs": [
    {
     "name": "stdout",
     "output_type": "stream",
     "text": [
      "[12, 32, 54, 69, 90, 92]\n"
     ]
    }
   ],
   "source": [
    "# Insertion Sort\n",
    "# put current element in its correct position in the sorted array\n",
    "\n",
    "def insertion_sort(arr):\n",
    "    # left part is sorted and right part is unsorted\n",
    "    # if current element is < previous elements in sorted list\n",
    "    # ==> swap the element till the time it reaches its right position\n",
    "    # in the sorted part of the list\n",
    "    \n",
    "    n = len(arr)\n",
    "    for i in range(1, n):\n",
    "        j = i\n",
    "        while j > 0 and arr[j] < arr[j-1]:\n",
    "            arr[j], arr[j-1] = arr[j-1], arr[j]\n",
    "            j -= 1\n",
    "\n",
    "arr = [69, 32, 54, 92, 12, 90]\n",
    "insertion_sort(arr)\n",
    "print(arr)"
   ]
  },
  {
   "cell_type": "raw",
   "id": "c47f5f0f-7e86-4641-bd94-57e426871779",
   "metadata": {},
   "source": [
    "Time complexity: O(n^2)\n",
    "Space complexity: O(1)"
   ]
  }
 ],
 "metadata": {
  "kernelspec": {
   "display_name": "Python 3 (ipykernel)",
   "language": "python",
   "name": "python3"
  },
  "language_info": {
   "codemirror_mode": {
    "name": "ipython",
    "version": 3
   },
   "file_extension": ".py",
   "mimetype": "text/x-python",
   "name": "python",
   "nbconvert_exporter": "python",
   "pygments_lexer": "ipython3",
   "version": "3.13.8"
  }
 },
 "nbformat": 4,
 "nbformat_minor": 5
}
