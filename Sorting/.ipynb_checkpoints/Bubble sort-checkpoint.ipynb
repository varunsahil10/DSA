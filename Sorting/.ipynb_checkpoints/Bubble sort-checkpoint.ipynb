{
 "cells": [
  {
   "cell_type": "markdown",
   "id": "e963c3a7-16fc-4107-8f15-f5f4a8215021",
   "metadata": {},
   "source": [
    "### Bubble Sort"
   ]
  },
  {
   "cell_type": "code",
   "execution_count": 2,
   "id": "1c85de9b-ac21-477e-8116-70fe333ba397",
   "metadata": {},
   "outputs": [
    {
     "name": "stdout",
     "output_type": "stream",
     "text": [
      "[12, 32, 54, 69, 90, 92]\n"
     ]
    }
   ],
   "source": [
    "# Bubble Sort\n",
    "# push the largest element to the right on every iteration\n",
    "\n",
    "def bubble_sort(arr: list[int]):\n",
    "    n = len(arr)\n",
    "    for i in range(n):\n",
    "        for j in range(n-1-i):\n",
    "            if arr[j] > arr[j+1]:\n",
    "                arr[j], arr[j+1] = arr[j+1], arr[j]\n",
    "\n",
    "arr = [69, 32, 54, 92, 12, 90]\n",
    "bubble_sort(arr)\n",
    "print(arr)\n",
    "    "
   ]
  },
  {
   "cell_type": "raw",
   "id": "03e60f53-0158-4275-b4f3-cc2bbc669e9f",
   "metadata": {},
   "source": [
    "Time complexity: O(n^2)\n",
    "Space complexity: O(1)"
   ]
  }
 ],
 "metadata": {
  "kernelspec": {
   "display_name": "Python 3 (ipykernel)",
   "language": "python",
   "name": "python3"
  },
  "language_info": {
   "codemirror_mode": {
    "name": "ipython",
    "version": 3
   },
   "file_extension": ".py",
   "mimetype": "text/x-python",
   "name": "python",
   "nbconvert_exporter": "python",
   "pygments_lexer": "ipython3",
   "version": "3.13.8"
  }
 },
 "nbformat": 4,
 "nbformat_minor": 5
}
