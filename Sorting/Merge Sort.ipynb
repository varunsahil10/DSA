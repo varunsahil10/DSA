{
 "cells": [
  {
   "cell_type": "markdown",
   "id": "df648b76-8050-4a01-9e1f-e235726ccb5d",
   "metadata": {},
   "source": [
    "### Merge Sort"
   ]
  },
  {
   "cell_type": "code",
   "execution_count": 5,
   "id": "071e7954-6c8f-4596-874d-43ac74dc234f",
   "metadata": {},
   "outputs": [
    {
     "name": "stdout",
     "output_type": "stream",
     "text": [
      "[12, 32, 44, 54, 69, 90, 92]\n"
     ]
    }
   ],
   "source": [
    "# Merge sort\n",
    "\n",
    "'''\n",
    "Merge sort works on divide and conquer. Hence, it divides the list into\n",
    "multiple smaller lists till the time there is only 1 element left in a list.\n",
    "Since 1 element is already sorted, it merges it with the other half of the \n",
    "single element, which makes it a sorted list.\n",
    "'''\n",
    "\n",
    "def merge(arr, low, mid, high):\n",
    "    temp = []\n",
    "    left = low\n",
    "    right = mid+1\n",
    "\n",
    "    while left <= mid and right <= high:\n",
    "        if arr[left] <= arr[right]:\n",
    "            temp.append(arr[left])\n",
    "            left += 1\n",
    "        else:\n",
    "            temp.append(arr[right])\n",
    "            right += 1\n",
    "\n",
    "    while left <= mid:\n",
    "        temp.append(arr[left])\n",
    "        left += 1\n",
    "\n",
    "    while right <= high:\n",
    "        temp.append(arr[right])\n",
    "        right += 1\n",
    "\n",
    "    # copy sorted elements in temp to main arr\n",
    "    i = low\n",
    "    while i <= high:\n",
    "        arr[i] = temp[i - low]\n",
    "        i += 1\n",
    "    \n",
    "    \n",
    "def merge_sort(arr, low, high):\n",
    "    if low >= high:\n",
    "        return\n",
    "\n",
    "    mid = low + (high-low)//2\n",
    "    merge_sort(arr, low, mid)\n",
    "    merge_sort(arr, mid+1, high)\n",
    "    merge(arr, low, mid, high)\n",
    "\n",
    "\n",
    "arr = [69, 32, 54, 92, 12, 90, 44]\n",
    "n = len(arr)\n",
    "merge_sort(arr, 0, n-1)\n",
    "print(arr)"
   ]
  },
  {
   "cell_type": "raw",
   "id": "c7605c48-38bd-4c0c-8b6e-8d7f14e2b41f",
   "metadata": {},
   "source": [
    "Time complexity: O(N * log N)\n",
    "Space complexity: O(N)"
   ]
  }
 ],
 "metadata": {
  "kernelspec": {
   "display_name": "Python 3 (ipykernel)",
   "language": "python",
   "name": "python3"
  },
  "language_info": {
   "codemirror_mode": {
    "name": "ipython",
    "version": 3
   },
   "file_extension": ".py",
   "mimetype": "text/x-python",
   "name": "python",
   "nbconvert_exporter": "python",
   "pygments_lexer": "ipython3",
   "version": "3.13.8"
  }
 },
 "nbformat": 4,
 "nbformat_minor": 5
}
