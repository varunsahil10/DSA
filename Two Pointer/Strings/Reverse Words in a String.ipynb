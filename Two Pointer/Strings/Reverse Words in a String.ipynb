{
 "cells": [
  {
   "cell_type": "markdown",
   "id": "c49afe76-5818-4c7e-af76-d12957aa8c6e",
   "metadata": {},
   "source": [
    "### Reverse Words in a String\n"
   ]
  },
  {
   "cell_type": "raw",
   "id": "6c05b171-a388-4bc0-a55a-611bc2fa4c34",
   "metadata": {},
   "source": [
    "Given an input string s, reverse the order of the words.\n",
    "\n",
    "A word is defined as a sequence of non-space characters. The words in s will be separated by at least one space.\n",
    "\n",
    "Return a string of the words in reverse order concatenated by a single space.\n",
    "\n",
    "Note that s may contain leading or trailing spaces or multiple spaces between two words. The returned string should only have a single space separating the words. Do not include any extra spaces.\n",
    "\n",
    " \n",
    "\n",
    "Example 1:\n",
    "\n",
    "Input: s = \"the sky is blue\"\n",
    "Output: \"blue is sky the\"\n",
    "Example 2:\n",
    "\n",
    "Input: s = \"  hello world  \"\n",
    "Output: \"world hello\"\n",
    "Explanation: Your reversed string should not contain leading or trailing spaces.\n",
    "Example 3:\n",
    "\n",
    "Input: s = \"a good   example\"\n",
    "Output: \"example good a\"\n",
    "Explanation: You need to reduce multiple spaces between two words to a single space in the reversed string.\n",
    " \n",
    "\n",
    "Constraints:\n",
    "\n",
    "1 <= s.length <= 104\n",
    "s contains English letters (upper-case and lower-case), digits, and spaces ' '.\n",
    "There is at least one word in s.\n"
   ]
  },
  {
   "cell_type": "code",
   "execution_count": 5,
   "id": "630c0fa3-e00d-41a1-982f-23760b9c7238",
   "metadata": {},
   "outputs": [
    {
     "data": {
      "text/plain": [
       "'blue is sky the'"
      ]
     },
     "execution_count": 5,
     "metadata": {},
     "output_type": "execute_result"
    }
   ],
   "source": [
    "def reverseWords(s: str) -> str:\n",
    "    def revstr(s, l, r):\n",
    "        return s[l:r+1][::-1]\n",
    "    \n",
    "    n = len(s)\n",
    "    ns = revstr(s, 0, n-1)\n",
    "    ans = \"\"\n",
    "    i = 0\n",
    "    \n",
    "    while i < n:\n",
    "        word = \"\"\n",
    "        l = 0\n",
    "        while i<n and ns[i] != ' ':\n",
    "            word += ns[i]\n",
    "            l += 1\n",
    "            i += 1\n",
    "        if word:\n",
    "            word = revstr(word,0, l-1)\n",
    "            ans += \" \" + word\n",
    "        i += 1\n",
    "    return ans[1:]\n",
    "\n",
    "s = \"the sky is blue\"\n",
    "reverseWords(s)"
   ]
  }
 ],
 "metadata": {
  "kernelspec": {
   "display_name": "Python 3 (ipykernel)",
   "language": "python",
   "name": "python3"
  },
  "language_info": {
   "codemirror_mode": {
    "name": "ipython",
    "version": 3
   },
   "file_extension": ".py",
   "mimetype": "text/x-python",
   "name": "python",
   "nbconvert_exporter": "python",
   "pygments_lexer": "ipython3",
   "version": "3.12.7"
  }
 },
 "nbformat": 4,
 "nbformat_minor": 5
}
