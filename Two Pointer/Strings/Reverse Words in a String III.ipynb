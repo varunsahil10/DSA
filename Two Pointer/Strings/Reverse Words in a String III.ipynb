{
 "cells": [
  {
   "cell_type": "markdown",
   "id": "759af544-a347-4315-b2a0-954ca829ec82",
   "metadata": {},
   "source": [
    "### Reverse Words in a String III"
   ]
  },
  {
   "cell_type": "raw",
   "id": "4a8ed5b6-b2e8-4d83-8c4a-fbe72bfc09ed",
   "metadata": {},
   "source": [
    "Given a string s, reverse the order of characters in each word within a sentence while still preserving whitespace and initial word order.\n",
    "\n",
    " \n",
    "\n",
    "Example 1:\n",
    "\n",
    "Input: s = \"Let's take LeetCode contest\"\n",
    "Output: \"s'teL ekat edoCteeL tsetnoc\"\n",
    "Example 2:\n",
    "\n",
    "Input: s = \"Mr Ding\"\n",
    "Output: \"rM gniD\"\n",
    " \n",
    "\n",
    "Constraints:\n",
    "\n",
    "1 <= s.length <= 5 * 104\n",
    "s contains printable ASCII characters.\n",
    "s does not contain any leading or trailing spaces.\n",
    "There is at least one word in s.\n",
    "All the words in s are separated by a single space.\n"
   ]
  },
  {
   "cell_type": "code",
   "execution_count": 1,
   "id": "6fd66e8f-bc95-4744-be2c-b899939f62ba",
   "metadata": {},
   "outputs": [
    {
     "data": {
      "text/plain": [
       "\"s'teL ekat edoCteeL tsetnoc\""
      ]
     },
     "execution_count": 1,
     "metadata": {},
     "output_type": "execute_result"
    }
   ],
   "source": [
    "def reverseWords(s: str) -> str:\n",
    "    def reverse(arr, s, e):\n",
    "        while s<e:\n",
    "            arr[s], arr[e] = arr[e], arr[s]\n",
    "            s += 1\n",
    "            e -= 1\n",
    "\n",
    "    l = r = 0\n",
    "    s = list(s)\n",
    "    n = len(s)\n",
    "    for r in range(n):\n",
    "        if s[r] == ' ' or r == n-1:\n",
    "            start = l\n",
    "            end = r-1\n",
    "            if r == n-1:\n",
    "                end = r\n",
    "            reverse(s, start, end)\n",
    "            l = r+1        \n",
    "    return ''.join(s)\n",
    "\n",
    "s = \"Let's take LeetCode contest\"\n",
    "reverseWords(s)"
   ]
  }
 ],
 "metadata": {
  "kernelspec": {
   "display_name": "Python 3 (ipykernel)",
   "language": "python",
   "name": "python3"
  },
  "language_info": {
   "codemirror_mode": {
    "name": "ipython",
    "version": 3
   },
   "file_extension": ".py",
   "mimetype": "text/x-python",
   "name": "python",
   "nbconvert_exporter": "python",
   "pygments_lexer": "ipython3",
   "version": "3.12.7"
  }
 },
 "nbformat": 4,
 "nbformat_minor": 5
}
