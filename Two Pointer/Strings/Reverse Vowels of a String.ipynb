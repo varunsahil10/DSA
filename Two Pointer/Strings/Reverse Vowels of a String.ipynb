{
 "cells": [
  {
   "cell_type": "markdown",
   "id": "5e7d0c77-8fa4-42c3-aa77-2fbbb27a08ec",
   "metadata": {},
   "source": [
    "### Reverse Vowels of a String"
   ]
  },
  {
   "cell_type": "code",
   "execution_count": 2,
   "id": "1897ff4c-212c-477c-af7b-2e0e9055b9e5",
   "metadata": {},
   "outputs": [
    {
     "data": {
      "text/plain": [
       "'AceCreIm'"
      ]
     },
     "execution_count": 2,
     "metadata": {},
     "output_type": "execute_result"
    }
   ],
   "source": [
    "def reverseVowels(s: str) -> str:\n",
    "    vowels = ['a', 'e', 'i', 'o', 'u']       \n",
    "    v = []\n",
    "    ans = \"\"\n",
    "    for i in s:\n",
    "        if i.lower() in vowels:\n",
    "            v.append(i)\n",
    "    j = len(v)-1\n",
    "    for i in s:\n",
    "        if i.lower() in vowels:\n",
    "            ans += v[j]\n",
    "            j -= 1\n",
    "        else:\n",
    "            ans += i\n",
    "    return ans\n",
    "\n",
    "s = \"IceCreAm\"\n",
    "reverseVowels(s)"
   ]
  }
 ],
 "metadata": {
  "kernelspec": {
   "display_name": "Python 3 (ipykernel)",
   "language": "python",
   "name": "python3"
  },
  "language_info": {
   "codemirror_mode": {
    "name": "ipython",
    "version": 3
   },
   "file_extension": ".py",
   "mimetype": "text/x-python",
   "name": "python",
   "nbconvert_exporter": "python",
   "pygments_lexer": "ipython3",
   "version": "3.12.7"
  }
 },
 "nbformat": 4,
 "nbformat_minor": 5
}
