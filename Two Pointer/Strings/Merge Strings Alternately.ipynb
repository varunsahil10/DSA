{
 "cells": [
  {
   "cell_type": "markdown",
   "id": "90ab0ffe-5e1a-4967-a9bb-5ae594b6c6b3",
   "metadata": {},
   "source": [
    "### Merge Strings Alternately"
   ]
  },
  {
   "cell_type": "code",
   "execution_count": 6,
   "id": "3acf59ad-cbef-46c4-b1b6-3aeb06d9dad3",
   "metadata": {},
   "outputs": [
    {
     "data": {
      "text/plain": [
       "'apbqcd'"
      ]
     },
     "execution_count": 6,
     "metadata": {},
     "output_type": "execute_result"
    }
   ],
   "source": [
    "def mergeAlternately(word1, word2):\n",
    "    result = []\n",
    "    i = 0\n",
    "    while i < len(word1) or i < len(word2):\n",
    "        if i < len(word1):\n",
    "            result.append(word1[i])\n",
    "        if i < len(word2):\n",
    "            result.append(word2[i])\n",
    "        i += 1\n",
    "    return ''.join(result)\n",
    "\n",
    "word1 = \"abcd\"\n",
    "word2 = \"pq\"\n",
    "mergeAlternately(word1, word2)"
   ]
  }
 ],
 "metadata": {
  "kernelspec": {
   "display_name": "Python 3 (ipykernel)",
   "language": "python",
   "name": "python3"
  },
  "language_info": {
   "codemirror_mode": {
    "name": "ipython",
    "version": 3
   },
   "file_extension": ".py",
   "mimetype": "text/x-python",
   "name": "python",
   "nbconvert_exporter": "python",
   "pygments_lexer": "ipython3",
   "version": "3.12.7"
  }
 },
 "nbformat": 4,
 "nbformat_minor": 5
}
