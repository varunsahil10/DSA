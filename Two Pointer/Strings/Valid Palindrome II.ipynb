{
 "cells": [
  {
   "cell_type": "markdown",
   "id": "0d998a31-e376-4dce-a124-313338c05dc7",
   "metadata": {},
   "source": [
    "### Valid Palindrome II"
   ]
  },
  {
   "cell_type": "raw",
   "id": "1abbc702-25ea-4377-9c31-9218963f1552",
   "metadata": {},
   "source": [
    "Given a string s, return true if the s can be palindrome after deleting at most one character from it.\n",
    "\n",
    " \n",
    "\n",
    "Example 1:\n",
    "\n",
    "Input: s = \"aba\"\n",
    "Output: true\n",
    "Example 2:\n",
    "\n",
    "Input: s = \"abca\"\n",
    "Output: true\n",
    "Explanation: You could delete the character 'c'.\n",
    "Example 3:\n",
    "\n",
    "Input: s = \"abc\"\n",
    "Output: false\n",
    " \n",
    "\n",
    "Constraints:\n",
    "\n",
    "1 <= s.length <= 105\n",
    "s consists of lowercase English letters.\n"
   ]
  },
  {
   "cell_type": "code",
   "execution_count": 4,
   "id": "47a4ebf7-bcfe-4344-bacf-41a869d04be0",
   "metadata": {},
   "outputs": [
    {
     "data": {
      "text/plain": [
       "True"
      ]
     },
     "execution_count": 4,
     "metadata": {},
     "output_type": "execute_result"
    }
   ],
   "source": [
    "def validPalindrome(s: str) -> bool:\n",
    "    def ispal(s, l, r):\n",
    "        while l<r:\n",
    "            if s[l] != s[r]:\n",
    "                return False\n",
    "            l += 1\n",
    "            r -= 1\n",
    "        return True\n",
    "    \n",
    "    n = len(s)\n",
    "    l = 0\n",
    "    r = n-1\n",
    "    while l<r:\n",
    "        if s[l] != s[r]:\n",
    "            return ispal(s, l+1, r) or ispal(s, l, r-1)\n",
    "\n",
    "        l += 1\n",
    "        r -= 1\n",
    "        \n",
    "    return True\n",
    "\n",
    "s = \"abca\"\n",
    "validPalindrome(s)"
   ]
  }
 ],
 "metadata": {
  "kernelspec": {
   "display_name": "Python 3 (ipykernel)",
   "language": "python",
   "name": "python3"
  },
  "language_info": {
   "codemirror_mode": {
    "name": "ipython",
    "version": 3
   },
   "file_extension": ".py",
   "mimetype": "text/x-python",
   "name": "python",
   "nbconvert_exporter": "python",
   "pygments_lexer": "ipython3",
   "version": "3.12.7"
  }
 },
 "nbformat": 4,
 "nbformat_minor": 5
}
