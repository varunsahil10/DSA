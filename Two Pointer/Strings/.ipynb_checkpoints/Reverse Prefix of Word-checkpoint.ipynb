{
 "cells": [
  {
   "cell_type": "markdown",
   "id": "6af77367-5172-4446-8b12-2390b93bdf64",
   "metadata": {},
   "source": [
    "### Reverse Prefix of Word"
   ]
  },
  {
   "cell_type": "code",
   "execution_count": 2,
   "id": "bc642253-782b-4cb7-bea6-ddfc36a0ae9e",
   "metadata": {},
   "outputs": [
    {
     "data": {
      "text/plain": [
       "'dcbaefd'"
      ]
     },
     "execution_count": 2,
     "metadata": {},
     "output_type": "execute_result"
    }
   ],
   "source": [
    "def reversePrefix(word: str, ch: str) -> str:\n",
    "    indx = word.find(ch)\n",
    "    return word[:indx+1][::-1] + word[indx+1:]\n",
    "\n",
    "word = \"abcdefd\"\n",
    "ch = \"d\"\n",
    "\n",
    "reversePrefix(word, ch)"
   ]
  }
 ],
 "metadata": {
  "kernelspec": {
   "display_name": "Python 3 (ipykernel)",
   "language": "python",
   "name": "python3"
  },
  "language_info": {
   "codemirror_mode": {
    "name": "ipython",
    "version": 3
   },
   "file_extension": ".py",
   "mimetype": "text/x-python",
   "name": "python",
   "nbconvert_exporter": "python",
   "pygments_lexer": "ipython3",
   "version": "3.12.7"
  }
 },
 "nbformat": 4,
 "nbformat_minor": 5
}
