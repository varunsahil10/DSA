{
 "cells": [
  {
   "cell_type": "markdown",
   "id": "eeaa40c8-37b0-4db9-ae6b-fdfc526c07f5",
   "metadata": {},
   "source": [
    "### Insert In Stack"
   ]
  },
  {
   "cell_type": "code",
   "execution_count": null,
   "id": "a1f0836a-9e7d-48fb-99f6-4bcd016b6f47",
   "metadata": {},
   "outputs": [],
   "source": [
    "#User function Template for python3\n",
    "\n",
    "class Solution:\n",
    "    def InsertInStack(self,n,arr):\n",
    "        #code here\n",
    "        stack = []\n",
    "        for i in arr:\n",
    "            stack.append(i)\n",
    "        return stack\n",
    "\n",
    "\n",
    "#{ \n",
    " # Driver Code Starts\n",
    "#Initial Template for Python 3\n",
    "\n",
    "#contributed by RavinderSinghPB\n",
    "if __name__=='__main__':\n",
    "    tcs=int(input())\n",
    "\n",
    "    for _ in range(tcs):\n",
    "        n=int(input())\n",
    "        arr=[int(x) for x in input().split()]\n",
    "\n",
    "        stack=Solution().InsertInStack(n,arr)\n",
    "\n",
    "        while stack:\n",
    "            print(stack.pop(),end=' ')\n",
    "        print()\n",
    "\n",
    "        print(\"~\")\n",
    "# } Driver Code Ends"
   ]
  }
 ],
 "metadata": {
  "kernelspec": {
   "display_name": "Python 3 (ipykernel)",
   "language": "python",
   "name": "python3"
  },
  "language_info": {
   "codemirror_mode": {
    "name": "ipython",
    "version": 3
   },
   "file_extension": ".py",
   "mimetype": "text/x-python",
   "name": "python",
   "nbconvert_exporter": "python",
   "pygments_lexer": "ipython3",
   "version": "3.12.7"
  }
 },
 "nbformat": 4,
 "nbformat_minor": 5
}
