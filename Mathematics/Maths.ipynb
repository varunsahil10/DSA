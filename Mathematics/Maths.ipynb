{
 "cells": [
  {
   "cell_type": "markdown",
   "id": "65e43aff-c8cf-4dd6-8b00-cca549b127af",
   "metadata": {},
   "source": [
    "### Digits in a factorial"
   ]
  },
  {
   "cell_type": "code",
   "execution_count": null,
   "id": "f81b2a35-4405-46f3-a173-ce5c9fc79ac1",
   "metadata": {},
   "outputs": [],
   "source": [
    "from math import log10,floor\n",
    "\n",
    "class Solution:\n",
    "    def digitsInFactorial(self,N):\n",
    "        # code here\n",
    "        ans = 0\n",
    "        for i in range(1,N+1):\n",
    "            ans += log10(i)\n",
    "        return floor(ans) + 1\n",
    "#{ \n",
    " # Driver Code Starts\n",
    "#Initial Template for Python 3\n",
    "\n",
    "import math\n",
    "\n",
    "def main():\n",
    "    \n",
    "    T=int(input())\n",
    "    \n",
    "    while(T>0):\n",
    "        N=int(input())\n",
    "        ob=Solution()\n",
    "        print(ob.digitsInFactorial(N))\n",
    "        \n",
    "        T-=1\n",
    "\n",
    "        print(\"~\")\n",
    "if __name__==\"__main__\":\n",
    "    main()\n",
    "# } Driver Code End"
   ]
  },
  {
   "cell_type": "markdown",
   "id": "4689b90d-6a3c-49c7-9331-30219754321f",
   "metadata": {},
   "source": [
    "### Primality Test"
   ]
  },
  {
   "cell_type": "code",
   "execution_count": null,
   "id": "98af2c0e-9514-48eb-943c-b75f0ede863f",
   "metadata": {},
   "outputs": [],
   "source": [
    "#{ \n",
    " # Driver Code Starts\n",
    "#Initial Template for Python 3\n",
    "\n",
    "import math\n",
    "\n",
    "\n",
    "# } Driver Code Ends\n",
    "#User function Template for python3\n",
    "\n",
    "class Solution:\n",
    "    def isPrime(self,N):\n",
    "        \n",
    "        if N == 1:\n",
    "            return False\n",
    "            \n",
    "        if N == 2 or N == 3:\n",
    "            return True\n",
    "        \n",
    "        if N % 2 == 0 or N % 3 == 0:\n",
    "            return False\n",
    "            \n",
    "        i = 5\n",
    "        \n",
    "        while(i*i <= N):\n",
    "            if N%i == 0 or N%(i+2) == 0:\n",
    "                return False\n",
    "            \n",
    "            i += 6\n",
    "            \n",
    "        return True\n",
    "\n",
    "\n",
    "#{ \n",
    " # Driver Code Starts.\n",
    "def main():\n",
    "    \n",
    "    T=int(input())\n",
    "    \n",
    "    while(T>0):\n",
    "        \n",
    "        N=int(input())\n",
    "        \n",
    "        ob=Solution()\n",
    "        if(ob.isPrime(N)):\n",
    "            print(\"Yes\")\n",
    "        else:\n",
    "            print(\"No\")\n",
    "        T-=1\n",
    "        print(\"~\")\n",
    "    \n",
    "    \n",
    "if __name__==\"__main__\":\n",
    "    main()\n",
    "# } Driver Code Ends"
   ]
  },
  {
   "cell_type": "markdown",
   "id": "dabb0c21-5f88-4249-965f-f9b604c676cc",
   "metadata": {},
   "source": [
    "### Prime Factorization"
   ]
  },
  {
   "cell_type": "code",
   "execution_count": 29,
   "id": "93c52669-5394-45fb-b911-050d0e33b593",
   "metadata": {},
   "outputs": [
    {
     "name": "stdin",
     "output_type": "stream",
     "text": [
      "Enter a number:  99\n"
     ]
    },
    {
     "name": "stdout",
     "output_type": "stream",
     "text": [
      "Prime factors of 99 are: 3 3 11 "
     ]
    }
   ],
   "source": [
    "def is_prime(num):\n",
    "    if num <= 1:\n",
    "        return False\n",
    "    if num == 2 or num == 3:\n",
    "        return True\n",
    "\n",
    "    if num % 2 == 0 or num % 3 == 0:\n",
    "        return False\n",
    "\n",
    "    for i in range(2, int(num**0.5) + 1):\n",
    "        if num % i == 0:\n",
    "            return False\n",
    "    return True\n",
    "\n",
    "def prime_factors(n):\n",
    "    for i in range(2, n + 1):\n",
    "        if is_prime(i):\n",
    "            while n % i == 0:\n",
    "                print(i, end=' ')\n",
    "                n //= i\n",
    "\n",
    "        if n == 1:\n",
    "            break\n",
    "\n",
    "if __name__ == \"__main__\":\n",
    "    number = int(input(\"Enter a number: \"))\n",
    "    print(\"Prime factors of\", number, \"are:\", end=' ')\n",
    "    prime_factors(number)"
   ]
  },
  {
   "cell_type": "markdown",
   "id": "d787acdc-fd7d-498d-b989-efad1b9e5f2f",
   "metadata": {},
   "source": [
    "### find all divisors"
   ]
  },
  {
   "cell_type": "code",
   "execution_count": 31,
   "id": "738ac29e-07b9-4085-8da3-c02efdb00854",
   "metadata": {},
   "outputs": [
    {
     "name": "stdout",
     "output_type": "stream",
     "text": [
      "The divisors of 100 are: \n",
      "1 1 100 2 2 50 4 4 25 5 5 20 10 "
     ]
    }
   ],
   "source": [
    "# A Better (than Naive) Solution to find all divisors\n",
    "import math\n",
    "\n",
    "# method to print the divisors\n",
    "def printDivisors(n) :\n",
    "\t\n",
    "\t# Note that this loop runs till square root\n",
    "\ti = 1\n",
    "\twhile i <= math.sqrt(n):\n",
    "\t\t\n",
    "\t\tif (n % i == 0) :\n",
    "\t\t\tprint (i,end=\" \")\n",
    "\t\t\tif ( i != n//i ):\n",
    "\t\t\t\tprint (i , int(n/i), end=\" \")\n",
    "\t\ti = i + 1\n",
    "\n",
    "# Driver method\n",
    "print (\"The divisors of 100 are: \")\n",
    "printDivisors(100)"
   ]
  },
  {
   "cell_type": "markdown",
   "id": "1f63005c-d7e0-4dc1-93d7-b1002f9a6f8b",
   "metadata": {},
   "source": [
    "### Efficient and ordered"
   ]
  },
  {
   "cell_type": "code",
   "execution_count": 100,
   "id": "0e517206-ae41-4efd-886d-87fe0aaf5707",
   "metadata": {},
   "outputs": [
    {
     "name": "stdout",
     "output_type": "stream",
     "text": [
      "The divisors of 100 are: \n",
      "1 2 3 5 6 9 10 11 15 18 22 30 33 45 55 66 90 99 110 165 198 330 495 990 "
     ]
    }
   ],
   "source": [
    "# A Better (than Naive) Solution to find all divisors\n",
    "import math\n",
    "\n",
    "# method to print the divisors\n",
    "def printDivisors(n) :\n",
    "\t\n",
    "\t# Note that this loop runs till square root\n",
    "    i = 1\n",
    "    while i <= math.sqrt(n):\n",
    "        if (n % i == 0) :\n",
    "            print (i,end=\" \")\n",
    "            \n",
    "        i = i + 1\n",
    "\n",
    "    while(i >= 1):\n",
    "        if ((n%i) == 0) and (i != n//i):\n",
    "            print(n//i, end = \" \")\n",
    "        i -= 1\n",
    "\n",
    "# Driver method\n",
    "print (\"The divisors of 100 are: \")\n",
    "printDivisors(990)"
   ]
  },
  {
   "cell_type": "code",
   "execution_count": null,
   "id": "7fa395ed-1489-47fd-9cf7-8e38174d6bc8",
   "metadata": {},
   "outputs": [],
   "source": []
  }
 ],
 "metadata": {
  "kernelspec": {
   "display_name": "Python 3 (ipykernel)",
   "language": "python",
   "name": "python3"
  },
  "language_info": {
   "codemirror_mode": {
    "name": "ipython",
    "version": 3
   },
   "file_extension": ".py",
   "mimetype": "text/x-python",
   "name": "python",
   "nbconvert_exporter": "python",
   "pygments_lexer": "ipython3",
   "version": "3.12.7"
  }
 },
 "nbformat": 4,
 "nbformat_minor": 5
}
