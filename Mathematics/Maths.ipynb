{
 "cells": [
  {
   "cell_type": "markdown",
   "id": "65e43aff-c8cf-4dd6-8b00-cca549b127af",
   "metadata": {},
   "source": [
    "### Digits in a factorial"
   ]
  },
  {
   "cell_type": "code",
   "execution_count": 3,
   "id": "f81b2a35-4405-46f3-a173-ce5c9fc79ac1",
   "metadata": {},
   "outputs": [
    {
     "name": "stdin",
     "output_type": "stream",
     "text": [
      " 1\n",
      " 5\n"
     ]
    },
    {
     "name": "stdout",
     "output_type": "stream",
     "text": [
      "3\n",
      "~\n"
     ]
    }
   ],
   "source": [
    "from math import log10,floor\n",
    "\n",
    "class Solution:\n",
    "    def digitsInFactorial(self,N):\n",
    "        # code here\n",
    "        ans = 0\n",
    "        for i in range(1,N+1):\n",
    "            ans += log10(i)\n",
    "        return floor(ans) + 1\n",
    "#{ \n",
    " # Driver Code Starts\n",
    "#Initial Template for Python 3\n",
    "\n",
    "import math\n",
    "\n",
    "def main():\n",
    "    \n",
    "    T=int(input())\n",
    "    \n",
    "    while(T>0):\n",
    "        N=int(input())\n",
    "        ob=Solution()\n",
    "        print(ob.digitsInFactorial(N))\n",
    "        \n",
    "        T-=1\n",
    "\n",
    "        print(\"~\")\n",
    "if __name__==\"__main__\":\n",
    "    main()\n",
    "# } Driver Code End"
   ]
  },
  {
   "cell_type": "markdown",
   "id": "4689b90d-6a3c-49c7-9331-30219754321f",
   "metadata": {},
   "source": [
    "### Primality Test"
   ]
  },
  {
   "cell_type": "code",
   "execution_count": 10,
   "id": "98af2c0e-9514-48eb-943c-b75f0ede863f",
   "metadata": {},
   "outputs": [
    {
     "name": "stdin",
     "output_type": "stream",
     "text": [
      " 1\n",
      " 49\n"
     ]
    },
    {
     "name": "stdout",
     "output_type": "stream",
     "text": [
      "No\n",
      "~\n"
     ]
    }
   ],
   "source": [
    "#{ \n",
    " # Driver Code Starts\n",
    "#Initial Template for Python 3\n",
    "\n",
    "import math\n",
    "\n",
    "\n",
    "# } Driver Code Ends\n",
    "#User function Template for python3\n",
    "\n",
    "class Solution:\n",
    "    def isPrime(self,N):\n",
    "        \n",
    "        if N == 1:\n",
    "            return False\n",
    "            \n",
    "        if N == 2 or N == 3:\n",
    "            return True\n",
    "        \n",
    "        if N % 2 == 0 or N % 3 == 0:\n",
    "            return False\n",
    "            \n",
    "        i = 5\n",
    "        \n",
    "        while(i*i <= N):\n",
    "            if N%i == 0 or N%(i+2) == 0:\n",
    "                return False\n",
    "            \n",
    "            i += 6\n",
    "            \n",
    "        return True\n",
    "\n",
    "\n",
    "#{ \n",
    " # Driver Code Starts.\n",
    "def main():\n",
    "    \n",
    "    T=int(input())\n",
    "    \n",
    "    while(T>0):\n",
    "        \n",
    "        N=int(input())\n",
    "        \n",
    "        ob=Solution()\n",
    "        if(ob.isPrime(N)):\n",
    "            print(\"Yes\")\n",
    "        else:\n",
    "            print(\"No\")\n",
    "        T-=1\n",
    "        print(\"~\")\n",
    "    \n",
    "    \n",
    "if __name__==\"__main__\":\n",
    "    main()\n",
    "# } Driver Code Ends"
   ]
  }
 ],
 "metadata": {
  "kernelspec": {
   "display_name": "Python 3 (ipykernel)",
   "language": "python",
   "name": "python3"
  },
  "language_info": {
   "codemirror_mode": {
    "name": "ipython",
    "version": 3
   },
   "file_extension": ".py",
   "mimetype": "text/x-python",
   "name": "python",
   "nbconvert_exporter": "python",
   "pygments_lexer": "ipython3",
   "version": "3.12.7"
  }
 },
 "nbformat": 4,
 "nbformat_minor": 5
}
