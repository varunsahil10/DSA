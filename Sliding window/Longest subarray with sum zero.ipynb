{
 "cells": [
  {
   "cell_type": "markdown",
   "id": "b95fd2d7-ef29-4724-97bf-2a4289771c07",
   "metadata": {},
   "source": [
    "### Longest subarray with sum zero"
   ]
  },
  {
   "cell_type": "markdown",
   "id": "b1383eeb-8a7f-49ec-9e7a-c921f63a856e",
   "metadata": {},
   "source": [
    "1. Efficient"
   ]
  },
  {
   "cell_type": "code",
   "execution_count": 3,
   "id": "1fc6e36d-0a90-4a8c-8930-45a2e08f0b59",
   "metadata": {},
   "outputs": [
    {
     "data": {
      "text/plain": [
       "42"
      ]
     },
     "execution_count": 3,
     "metadata": {},
     "output_type": "execute_result"
    }
   ],
   "source": [
    "def LongestSubsetWithZeroSum(arr):\n",
    "\n",
    "    # Write your Code here.\n",
    "    # Return an integer denoting the answer.\n",
    "    n = len(arr)\n",
    "    PS = dict()\n",
    "    sum = 0 #sum of subarray until this point\n",
    "    ans = 0 #length of the max subarrya\n",
    "    for i in range(n):\n",
    "        sum += arr[i]\n",
    "\n",
    "        # checking from the starting of the array\n",
    "        if sum == 0:\n",
    "            ans = max(ans, i+1)\n",
    "        \n",
    "        # checking if subarray is in the middle\n",
    "        else:\n",
    "            last_index = PS.get(sum, None)\n",
    "            if last_index:\n",
    "                ans = max(ans, i-last_index)\n",
    "            else:\n",
    "                PS[sum] = i\n",
    "        \n",
    "    return ans\n",
    "\n",
    "# arr = [1, 2, -3, 3, -1, -2, 4]\n",
    "arr = [\n",
    "    3, 4, -7, 1, 2, -6, 1, -1, 4, -4,\n",
    "    2, -2, 6, -6, 3, -3, 5, -5, 7, -7,\n",
    "    8, -8, 9, -9, 10, -10, -1, 1, -2, 2,\n",
    "    5, -5, 6, -6, -3, 3, 4, -4, 7, -7,\n",
    "    1, 2, -3, 4, -4, -2, 3, -1, -1, 0\n",
    "]\n",
    "\n",
    "LongestSubsetWithZeroSum(arr)\n"
   ]
  },
  {
   "cell_type": "markdown",
   "id": "b50ad8e8-2813-4368-a468-c1e659f04bbd",
   "metadata": {},
   "source": [
    "2. Naive"
   ]
  },
  {
   "cell_type": "code",
   "execution_count": 12,
   "id": "3faec21e-d2e7-4805-9b93-cabab935d4ba",
   "metadata": {},
   "outputs": [
    {
     "data": {
      "text/plain": [
       "42"
      ]
     },
     "execution_count": 12,
     "metadata": {},
     "output_type": "execute_result"
    }
   ],
   "source": [
    "def LongestSubsetWithZeroSum(arr):\n",
    "\n",
    "    # Write your Code here.\n",
    "    # Return an integer denoting the answer.\n",
    "    n = len(arr)\n",
    "    sum = 0 #sum of subarray until this point\n",
    "    ans = 0 #length of the max subarrya\n",
    "    for i in range(n):\n",
    "        sum = 0\n",
    "\n",
    "        # checking from the starting of the array\n",
    "        for j in range(i, n):\n",
    "            sum += arr[j]\n",
    "            if sum == 0:\n",
    "                ans = max(ans, j-i+1)\n",
    "        \n",
    "    return ans\n",
    "\n",
    "# arr = [1, 2, -3, 3, -1, -2, 4]\n",
    "arr = [\n",
    "    3, 4, -7, 1, 2, -6, 1, -1, 4, -4,\n",
    "    2, -2, 6, -6, 3, -3, 5, -5, 7, -7,\n",
    "    8, -8, 9, -9, 10, -10, -1, 1, -2, 2,\n",
    "    5, -5, 6, -6, -3, 3, 4, -4, 7, -7,\n",
    "    1, 2, -3, 4, -4, -2, 3, -1, -1, 0\n",
    "]\n",
    "\n",
    "LongestSubsetWithZeroSum(arr)\n"
   ]
  }
 ],
 "metadata": {
  "kernelspec": {
   "display_name": "Python 3 (ipykernel)",
   "language": "python",
   "name": "python3"
  },
  "language_info": {
   "codemirror_mode": {
    "name": "ipython",
    "version": 3
   },
   "file_extension": ".py",
   "mimetype": "text/x-python",
   "name": "python",
   "nbconvert_exporter": "python",
   "pygments_lexer": "ipython3",
   "version": "3.12.7"
  }
 },
 "nbformat": 4,
 "nbformat_minor": 5
}
