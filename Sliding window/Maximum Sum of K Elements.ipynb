{
 "cells": [
  {
   "cell_type": "markdown",
   "id": "222c4531-0914-4b84-8efb-cb50fcb47d7f",
   "metadata": {},
   "source": [
    "### Maximum Sum of K Elements"
   ]
  },
  {
   "cell_type": "raw",
   "id": "ff554b4a-35c2-4aab-b60b-0108abf56481",
   "metadata": {},
   "source": [
    "10 3\n",
    "9 8 2 4 1 9 9 5 1 8\n",
    "\n",
    "23"
   ]
  },
  {
   "cell_type": "markdown",
   "id": "757fad07-88e1-4847-9795-581b1f65ab86",
   "metadata": {},
   "source": [
    "1. Sliding window"
   ]
  },
  {
   "cell_type": "code",
   "execution_count": 7,
   "id": "d59e0e4d-cd30-437e-920e-7080a2176b00",
   "metadata": {},
   "outputs": [
    {
     "name": "stdin",
     "output_type": "stream",
     "text": [
      " 10 3\n",
      " 9 8 2 4 1 9 9 5 1 8\n"
     ]
    },
    {
     "name": "stdout",
     "output_type": "stream",
     "text": [
      "23\n"
     ]
    }
   ],
   "source": [
    "def sol(arr, k):\n",
    "    ans = float(\"-inf\")\n",
    "    n = len(arr)\n",
    "    sum = 0\n",
    "    \n",
    "    for i in range(k):\n",
    "        sum += arr[i]\n",
    "    \n",
    "    ans = sum    \n",
    "    \n",
    "    for i in range(k, n):\n",
    "        sum += arr[i] - arr[i-k]\n",
    "        ans = max(ans, sum)\n",
    "    return ans\n",
    "    \n",
    "inp = input().split()\n",
    "n = int(inp[0])\n",
    "k = int(inp[1])\n",
    "\n",
    "arr = [int(x) for x in input().split()]\n",
    "print(sol(arr, k))"
   ]
  },
  {
   "cell_type": "markdown",
   "id": "b2204207-9feb-4d18-abc5-8b88ff79112a",
   "metadata": {},
   "source": [
    "2. Two pointer Approach with Sliding window"
   ]
  },
  {
   "cell_type": "code",
   "execution_count": 3,
   "id": "c0cbf1ec-e5c1-4b39-85c9-7cd9d63a577d",
   "metadata": {},
   "outputs": [
    {
     "name": "stdin",
     "output_type": "stream",
     "text": [
      " 10 3\n",
      " 9 8 2 4 1 9 9 5 1 8\n"
     ]
    },
    {
     "name": "stdout",
     "output_type": "stream",
     "text": [
      "23\n"
     ]
    }
   ],
   "source": [
    "def max_subarray_sum(arr, k):\n",
    "    n = len(arr)\n",
    "    current_sum = 0\n",
    "    max_sum = float(\"-inf\")\n",
    "    l = r= 0\n",
    "    while r < n:\n",
    "        current_sum += arr[r]\n",
    "        if (r-l+1 >= k):\n",
    "            max_sum = max(max_sum, current_sum)\n",
    "            current_sum -= arr[l]\n",
    "            l += 1\n",
    "            \n",
    "        r += 1\n",
    "    return max_sum\n",
    "    \n",
    "\n",
    "# Read input\n",
    "n, k = map(int, input().split())\n",
    "arr = list(map(int, input().split()))\n",
    "\n",
    "# Calculate and print the result\n",
    "print(max_subarray_sum(arr, k))"
   ]
  },
  {
   "cell_type": "code",
   "execution_count": null,
   "id": "f54c27f0-6172-46fb-b318-6265a83c2884",
   "metadata": {},
   "outputs": [],
   "source": []
  }
 ],
 "metadata": {
  "kernelspec": {
   "display_name": "Python 3 (ipykernel)",
   "language": "python",
   "name": "python3"
  },
  "language_info": {
   "codemirror_mode": {
    "name": "ipython",
    "version": 3
   },
   "file_extension": ".py",
   "mimetype": "text/x-python",
   "name": "python",
   "nbconvert_exporter": "python",
   "pygments_lexer": "ipython3",
   "version": "3.12.7"
  }
 },
 "nbformat": 4,
 "nbformat_minor": 5
}
