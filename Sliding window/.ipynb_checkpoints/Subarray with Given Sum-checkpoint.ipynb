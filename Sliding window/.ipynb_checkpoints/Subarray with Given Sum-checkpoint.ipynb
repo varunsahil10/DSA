{
 "cells": [
  {
   "cell_type": "markdown",
   "id": "970b1983-14d2-40ca-b321-ef109fc2ab60",
   "metadata": {},
   "source": [
    "### Subarray with Given Sum"
   ]
  },
  {
   "cell_type": "markdown",
   "id": "51b8892a-3c56-4dd7-a683-6e868796ee12",
   "metadata": {},
   "source": [
    "Find if subarray exists such that sum of the subarray = given sum"
   ]
  },
  {
   "cell_type": "markdown",
   "id": "56cfd310-3e36-4b37-96c8-e0e3971cd5d8",
   "metadata": {},
   "source": [
    "1. Naive:\n",
    "\n",
    "Find sum for each subarray\n",
    "- Time: O(n^2)\n",
    "- Space: O(1)"
   ]
  },
  {
   "cell_type": "code",
   "execution_count": 32,
   "id": "3e2e415f-a5a7-45a2-b0b1-efc2ece132f9",
   "metadata": {},
   "outputs": [
    {
     "data": {
      "text/plain": [
       "True"
      ]
     },
     "execution_count": 32,
     "metadata": {},
     "output_type": "execute_result"
    }
   ],
   "source": [
    "def solution(arr, sum):\n",
    "    n = len(arr)\n",
    "    for i in range(n):\n",
    "        curr_sum = 0\n",
    "        for j in range(i, n):\n",
    "            curr_sum += arr[j]\n",
    "            if curr_sum == sum:\n",
    "                return True\n",
    "    return False\n",
    "\n",
    "arr = [6, 2, 3, 4, 3]\n",
    "sum = 10\n",
    "solution(arr, sum)"
   ]
  }
 ],
 "metadata": {
  "kernelspec": {
   "display_name": "Python 3 (ipykernel)",
   "language": "python",
   "name": "python3"
  },
  "language_info": {
   "codemirror_mode": {
    "name": "ipython",
    "version": 3
   },
   "file_extension": ".py",
   "mimetype": "text/x-python",
   "name": "python",
   "nbconvert_exporter": "python",
   "pygments_lexer": "ipython3",
   "version": "3.12.7"
  }
 },
 "nbformat": 4,
 "nbformat_minor": 5
}
