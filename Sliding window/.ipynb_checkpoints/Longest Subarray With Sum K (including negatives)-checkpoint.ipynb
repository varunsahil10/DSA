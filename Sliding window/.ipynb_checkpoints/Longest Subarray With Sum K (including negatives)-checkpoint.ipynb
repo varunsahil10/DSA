{
 "cells": [
  {
   "cell_type": "markdown",
   "id": "69bb9c36-1c78-42fa-9398-f94a9b0976dc",
   "metadata": {},
   "source": [
    "###  Longest Subarray With Sum K (including negatives)"
   ]
  },
  {
   "cell_type": "code",
   "execution_count": 2,
   "id": "876a5bab-035f-43a7-9e1b-427b46b1f968",
   "metadata": {},
   "outputs": [
    {
     "data": {
      "text/plain": [
       "21"
      ]
     },
     "execution_count": 2,
     "metadata": {},
     "output_type": "execute_result"
    }
   ],
   "source": [
    "def getLongestSubarray(arr: [int], k: int) -> int:\n",
    "    # Write your code here\n",
    "    n = len(arr)\n",
    "    curr_sum = 0\n",
    "    max_length = 0\n",
    "    PS = {}\n",
    "\n",
    "    for i in range(n):\n",
    "        curr_sum += arr[i]\n",
    "\n",
    "        if curr_sum == k:\n",
    "            max_length = i + 1\n",
    "        \n",
    "        else:\n",
    "            desired = curr_sum - k\n",
    "            idx = PS.get(desired, -1)\n",
    "            if idx > -1:\n",
    "                max_length = max(max_length, i-idx)\n",
    "            if curr_sum not in PS:\n",
    "                PS[curr_sum] = i\n",
    "    return max_length\n",
    "\n",
    "arr = [0, 2, -2, 3, 1, -4, 0, 2, -1, 1, 0, -2, 2, 3, -5, 2, 0, 0, -3, 3, 1, -1, 4, -4, 0]\n",
    "k = 3\n",
    "getLongestSubarray(arr, k)"
   ]
  },
  {
   "cell_type": "code",
   "execution_count": null,
   "id": "fabc57bb-2c4d-4899-a3c2-46c846f3c0cd",
   "metadata": {},
   "outputs": [],
   "source": []
  }
 ],
 "metadata": {
  "kernelspec": {
   "display_name": "Python 3 (ipykernel)",
   "language": "python",
   "name": "python3"
  },
  "language_info": {
   "codemirror_mode": {
    "name": "ipython",
    "version": 3
   },
   "file_extension": ".py",
   "mimetype": "text/x-python",
   "name": "python",
   "nbconvert_exporter": "python",
   "pygments_lexer": "ipython3",
   "version": "3.12.7"
  }
 },
 "nbformat": 4,
 "nbformat_minor": 5
}
