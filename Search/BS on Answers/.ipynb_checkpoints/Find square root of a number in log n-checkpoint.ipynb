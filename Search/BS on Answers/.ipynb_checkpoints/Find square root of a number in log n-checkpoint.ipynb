{
 "cells": [
  {
   "cell_type": "markdown",
   "id": "16dd4860-39b1-4fd6-b59d-96585eca9755",
   "metadata": {},
   "source": [
    "### Find square root of a number in log n"
   ]
  },
  {
   "cell_type": "raw",
   "id": "499718ef-60ab-4afe-90c4-bae89eeb3ca5",
   "metadata": {},
   "source": [
    "You are given a positive integer ‘n’.\n",
    "\n",
    "\n",
    "\n",
    "Your task is to find and return its square root. If ‘n’ is not a perfect square, then return the floor value of sqrt(n).\n",
    "\n",
    "\n",
    "\n",
    "Example:\n",
    "Input: ‘n’ = 7\n",
    "\n",
    "Output: 2\n",
    "\n",
    "Explanation:\n",
    "The square root of the number 7 lies between 2 and 3, so the floor value is 2.\n",
    "\n",
    "\n",
    "Detailed explanation ( Input/output format, Notes, Images )\n",
    "Sample Input 1:\n",
    "6\n",
    "Sample Output 1:\n",
    "2\n",
    "Explanation of Sample Input 1:\n",
    "The square root of the given number 6 lies between 2 and 3, so the floor value is 2.\n",
    "Sample Input 2:\n",
    "100\n",
    "Sample Output 2:\n",
    "10\n",
    "Explanation of Sample Output 2:\n",
    "The square root of the given number 100 is 10.\n",
    "Expected Time Complexity:\n",
    "Try solving this in O(log(n)).\n",
    "Constraints:\n",
    "0 <= n <= 10 ^ 9\n",
    "\n",
    "Time Limit: 1 sec.\n"
   ]
  },
  {
   "cell_type": "code",
   "execution_count": 6,
   "id": "9de256c9-90f2-4199-82d0-6ddad1a6dcde",
   "metadata": {},
   "outputs": [
    {
     "name": "stdin",
     "output_type": "stream",
     "text": [
      " 25000125544558456\n"
     ]
    },
    {
     "name": "stdout",
     "output_type": "stream",
     "text": [
      "158114280\n"
     ]
    }
   ],
   "source": [
    "def floorSqrt(n):\n",
    "   # write your code logic here .\n",
    "   low = 1\n",
    "   high = n\n",
    "   while low <= high:\n",
    "      mid = low + (high - low)//2\n",
    "      if mid*mid <= n:\n",
    "         low = mid + 1\n",
    "      else:\n",
    "         high = mid - 1\n",
    "   return high \n",
    "\n",
    "\n",
    "n= int(input())\n",
    "print(floorSqrt(n))"
   ]
  }
 ],
 "metadata": {
  "kernelspec": {
   "display_name": "Python 3 (ipykernel)",
   "language": "python",
   "name": "python3"
  },
  "language_info": {
   "codemirror_mode": {
    "name": "ipython",
    "version": 3
   },
   "file_extension": ".py",
   "mimetype": "text/x-python",
   "name": "python",
   "nbconvert_exporter": "python",
   "pygments_lexer": "ipython3",
   "version": "3.12.7"
  }
 },
 "nbformat": 4,
 "nbformat_minor": 5
}
