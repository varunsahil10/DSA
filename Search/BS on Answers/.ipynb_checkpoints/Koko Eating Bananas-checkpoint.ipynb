{
 "cells": [
  {
   "cell_type": "markdown",
   "id": "b7109bed-fab4-4647-88ed-8d33de262778",
   "metadata": {},
   "source": [
    "### Koko Eating Bananas"
   ]
  },
  {
   "cell_type": "raw",
   "id": "b69cc4f2-2ed8-4076-bd21-99228d59713a",
   "metadata": {},
   "source": [
    "Koko loves to eat bananas. There are n piles of bananas, the ith pile has piles[i] bananas. The guards have gone and will come back in h hours.\n",
    "\n",
    "Koko can decide her bananas-per-hour eating speed of k. Each hour, she chooses some pile of bananas and eats k bananas from that pile. If the pile has less than k bananas, she eats all of them instead and will not eat any more bananas during this hour.\n",
    "\n",
    "Koko likes to eat slowly but still wants to finish eating all the bananas before the guards return.\n",
    "\n",
    "Return the minimum integer k such that she can eat all the bananas within h hours.\n",
    "\n",
    " \n",
    "\n",
    "Example 1:\n",
    "\n",
    "Input: piles = [3,6,7,11], h = 8\n",
    "Output: 4\n",
    "Example 2:\n",
    "\n",
    "Input: piles = [30,11,23,4,20], h = 5\n",
    "Output: 30\n",
    "Example 3:\n",
    "\n",
    "Input: piles = [30,11,23,4,20], h = 6\n",
    "Output: 23\n",
    " \n",
    "\n",
    "Constraints:\n",
    "\n",
    "1 <= piles.length <= 104\n",
    "piles.length <= h <= 109\n",
    "1 <= piles[i] <= 109\n"
   ]
  },
  {
   "cell_type": "markdown",
   "id": "ba9db276-6284-43a7-bc0d-cb1d6c8b7ccb",
   "metadata": {},
   "source": [
    "1. Naive"
   ]
  },
  {
   "cell_type": "code",
   "execution_count": 19,
   "id": "1a4ab878-d0b7-4b1c-a785-600806a7b062",
   "metadata": {},
   "outputs": [
    {
     "data": {
      "text/plain": [
       "30"
      ]
     },
     "execution_count": 19,
     "metadata": {},
     "output_type": "execute_result"
    }
   ],
   "source": [
    "from math import ceil\n",
    "\n",
    "def hrstaken(arr, hourly):\n",
    "    count = 0\n",
    "    for i in range(len(arr)):\n",
    "        count += ceil(arr[i]/hourly)\n",
    "    return count\n",
    "\n",
    "def minEatingSpeed(piles, h):\n",
    "    for k in range(1, max(piles)+1):\n",
    "        val = hrstaken(piles, k)\n",
    "        if val <= h:\n",
    "            return k\n",
    "\n",
    "piles = [30,11,23,4,20]\n",
    "h = 5\n",
    "minEatingSpeed(piles, h)"
   ]
  }
 ],
 "metadata": {
  "kernelspec": {
   "display_name": "Python 3 (ipykernel)",
   "language": "python",
   "name": "python3"
  },
  "language_info": {
   "codemirror_mode": {
    "name": "ipython",
    "version": 3
   },
   "file_extension": ".py",
   "mimetype": "text/x-python",
   "name": "python",
   "nbconvert_exporter": "python",
   "pygments_lexer": "ipython3",
   "version": "3.12.7"
  }
 },
 "nbformat": 4,
 "nbformat_minor": 5
}
