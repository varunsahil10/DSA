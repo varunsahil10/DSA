{
 "cells": [
  {
   "cell_type": "markdown",
   "id": "08034dba-2270-4208-bb27-df25e751b1ae",
   "metadata": {},
   "source": [
    "### Nth root of a number"
   ]
  },
  {
   "cell_type": "raw",
   "id": "b721675c-2d02-4b35-a23f-d6f67112b858",
   "metadata": {},
   "source": [
    "You are given two positive integers 'n' and 'm'. You have to return the 'nth' root of 'm', i.e. 'm(1/n)'. If the 'nth root is not an integer, return -1.\n",
    "\n",
    "\n",
    "\n",
    "Note:\n",
    "'nth' root of an integer 'm' is a number, which, when raised to the power 'n', gives 'm' as a result.\n",
    "\n",
    "\n",
    "Example:\n",
    "Input: ‘n’ = 3, ‘m’ = 27\n",
    "\n",
    "Output: 3\n",
    "\n",
    "Explanation: \n",
    "3rd Root of 27 is 3, as (3)^3 equals 27.\n",
    "\n",
    "\n",
    "Detailed explanation ( Input/output format, Notes, Images )\n",
    "Sample Input 1:\n",
    "3 27\n",
    "\n",
    "\n",
    "Sample Output 1:\n",
    "3\n",
    "\n",
    "\n",
    "Explanation For Sample Input 1:\n",
    "3rd Root of 27 is 3, as (3)^3 equals 27.\n",
    "\n",
    "\n",
    "Sample Input 2:\n",
    "4 69\n",
    "\n",
    "\n",
    "Sample Output 2:\n",
    "-1\n",
    "\n",
    "\n",
    "Explanation For Sample Input 2:\n",
    "4th Root of 69 is not an integer, hence -1.\n",
    "\n",
    "\n",
    "Expected Time Complexity:\n",
    "Try to do this in O(log(n+m)).\n",
    "\n",
    "\n",
    "Constraints:\n",
    "1 <= n <= 30\n",
    "1 <= m <= 10^9\n",
    "\n",
    "Time Limit: 1 sec.\n"
   ]
  },
  {
   "cell_type": "markdown",
   "id": "772bafcb-4727-4956-b8b8-b678931ac19c",
   "metadata": {},
   "source": [
    "1. Naive"
   ]
  },
  {
   "cell_type": "code",
   "execution_count": 18,
   "id": "71ae1d01-688a-4c22-983a-8b5ab21f19b7",
   "metadata": {},
   "outputs": [
    {
     "data": {
      "text/plain": [
       "3"
      ]
     },
     "execution_count": 18,
     "metadata": {},
     "output_type": "execute_result"
    }
   ],
   "source": [
    "def nthroot(m,n):\n",
    "    for i in range(1, m):\n",
    "        if pow(i,n) == m:\n",
    "            return i\n",
    "        elif pow(i,n) > m:\n",
    "            return -1\n",
    "\n",
    "nthroot(27,3)"
   ]
  },
  {
   "cell_type": "markdown",
   "id": "c780945b-1748-4a01-85c5-ba6287eb6876",
   "metadata": {},
   "source": [
    "2. Optimal"
   ]
  },
  {
   "cell_type": "code",
   "execution_count": 24,
   "id": "dba2774e-f0cd-4f39-9449-0a224f3efc5d",
   "metadata": {},
   "outputs": [
    {
     "data": {
      "text/plain": [
       "3"
      ]
     },
     "execution_count": 24,
     "metadata": {},
     "output_type": "execute_result"
    }
   ],
   "source": [
    "def NthRoot(n: int, m: int) -> int:\n",
    "    # Write Your Code Here\n",
    "    low = 1\n",
    "    high = m\n",
    "    while low <= high:\n",
    "        mid = low + (high - low)//2\n",
    "        if pow(mid,n) == m:\n",
    "            return mid\n",
    "        elif pow(mid,n) > m:\n",
    "            high = mid - 1\n",
    "        else:\n",
    "            low = mid + 1\n",
    "    return -1\n",
    "\n",
    "n = 3\n",
    "m = 27\n",
    "NthRoot(n, m) "
   ]
  }
 ],
 "metadata": {
  "kernelspec": {
   "display_name": "Python 3 (ipykernel)",
   "language": "python",
   "name": "python3"
  },
  "language_info": {
   "codemirror_mode": {
    "name": "ipython",
    "version": 3
   },
   "file_extension": ".py",
   "mimetype": "text/x-python",
   "name": "python",
   "nbconvert_exporter": "python",
   "pygments_lexer": "ipython3",
   "version": "3.12.7"
  }
 },
 "nbformat": 4,
 "nbformat_minor": 5
}
