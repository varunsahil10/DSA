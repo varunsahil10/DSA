{
 "cells": [
  {
   "cell_type": "markdown",
   "id": "7e4d0ede-9225-4c76-b0ce-cc57f1d3732e",
   "metadata": {},
   "source": [
    "### Single Element in a Sorted Array"
   ]
  },
  {
   "cell_type": "raw",
   "id": "35c2e939-b76c-4a6b-96a4-c5f0902dd3ce",
   "metadata": {},
   "source": [
    "You are given a sorted array consisting of only integers where every element appears exactly twice, except for one element which appears exactly once.\n",
    "\n",
    "Return the single element that appears only once.\n",
    "\n",
    "Your solution must run in O(log n) time and O(1) space.\n",
    "\n",
    " \n",
    "\n",
    "Example 1:\n",
    "\n",
    "Input: nums = [1,1,2,3,3,4,4,8,8]\n",
    "Output: 2\n",
    "Example 2:\n",
    "\n",
    "Input: nums = [3,3,7,7,10,11,11]\n",
    "Output: 10\n",
    " \n",
    "\n",
    "Constraints:\n",
    "\n",
    "1 <= nums.length <= 105\n",
    "0 <= nums[i] <= 105\n"
   ]
  },
  {
   "cell_type": "code",
   "execution_count": 2,
   "id": "de4895b8-70a8-4b09-bf08-9a10a099696c",
   "metadata": {},
   "outputs": [
    {
     "data": {
      "text/plain": [
       "2"
      ]
     },
     "execution_count": 2,
     "metadata": {},
     "output_type": "execute_result"
    }
   ],
   "source": [
    "def singleNonDuplicate(nums):\n",
    "    n = len(nums)\n",
    "    if n == 1:\n",
    "        return nums[0]\n",
    "    if nums[0] != nums[1]:\n",
    "        return nums[0]\n",
    "    if nums[n-1] != nums[n-2]:\n",
    "        return nums[n-1]\n",
    "\n",
    "    low = 1\n",
    "    high = n-2\n",
    "\n",
    "    while low <= high:\n",
    "        mid = low + (high - low)//2\n",
    "        \n",
    "        if (nums[mid] != nums[mid-1]) and (nums[mid] != nums[mid+1]):\n",
    "            return nums[mid]\n",
    "\n",
    "        # on left side\n",
    "        if ( \n",
    "            (mid % 2 == 1 and nums[mid-1] == nums[mid]) \n",
    "            or\n",
    "            (mid % 2 == 0 and nums[mid+1] == nums[mid])\n",
    "            ):\n",
    "            low = mid + 1\n",
    "        else:\n",
    "            high = mid - 1\n",
    "    return -1\n",
    "\n",
    "nums = [1,1,2,3,3,4,4,8,8]\n",
    "singleNonDuplicate(nums)"
   ]
  }
 ],
 "metadata": {
  "kernelspec": {
   "display_name": "Python 3 (ipykernel)",
   "language": "python",
   "name": "python3"
  },
  "language_info": {
   "codemirror_mode": {
    "name": "ipython",
    "version": 3
   },
   "file_extension": ".py",
   "mimetype": "text/x-python",
   "name": "python",
   "nbconvert_exporter": "python",
   "pygments_lexer": "ipython3",
   "version": "3.12.7"
  }
 },
 "nbformat": 4,
 "nbformat_minor": 5
}
