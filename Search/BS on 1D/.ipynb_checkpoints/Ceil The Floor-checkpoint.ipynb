{
 "cells": [
  {
   "cell_type": "markdown",
   "id": "88751d2a-7911-418d-afe4-9cb625cdd5fa",
   "metadata": {},
   "source": [
    "### Ceil The Floor"
   ]
  },
  {
   "cell_type": "code",
   "execution_count": 2,
   "id": "61dc2489-662e-4900-8f26-376e86dea806",
   "metadata": {},
   "outputs": [
    {
     "data": {
      "text/plain": [
       "(4, 7)"
      ]
     },
     "execution_count": 2,
     "metadata": {},
     "output_type": "execute_result"
    }
   ],
   "source": [
    "def getCeil(a,n,x):\n",
    "    low = 0\n",
    "    high = n-1\n",
    "    ans = -1\n",
    "    while low <= high:\n",
    "        mid = low + (high - low)//2\n",
    "        if a[mid] >= x: # ceil\n",
    "            ans = a[mid]\n",
    "            high = mid - 1\n",
    "        else:\n",
    "            low = mid + 1\n",
    "    return ans\n",
    "\n",
    "def getFloor(a,n,x):\n",
    "    low = 0\n",
    "    high = n-1\n",
    "    ans = -1\n",
    "    while low <= high:\n",
    "        mid = low + (high - low)//2\n",
    "        if a[mid] <= x: # floor\n",
    "            ans = a[mid]\n",
    "            low = mid + 1\n",
    "        else:\n",
    "            high = mid - 1\n",
    "    return ans\n",
    "    \n",
    "\n",
    "def getFloorAndCeil(a, n, x):\n",
    "    # Write your code here.\n",
    "    f = getFloor(a,n,x)\n",
    "    c = getCeil(a,n,x)\n",
    "    return f,c\n",
    "\n",
    "n=6\n",
    "x=5\n",
    "a=[3, 4, 7, 8, 8, 10]\n",
    "getFloorAndCeil(a, n, x)"
   ]
  }
 ],
 "metadata": {
  "kernelspec": {
   "display_name": "Python 3 (ipykernel)",
   "language": "python",
   "name": "python3"
  },
  "language_info": {
   "codemirror_mode": {
    "name": "ipython",
    "version": 3
   },
   "file_extension": ".py",
   "mimetype": "text/x-python",
   "name": "python",
   "nbconvert_exporter": "python",
   "pygments_lexer": "ipython3",
   "version": "3.12.7"
  }
 },
 "nbformat": 4,
 "nbformat_minor": 5
}
