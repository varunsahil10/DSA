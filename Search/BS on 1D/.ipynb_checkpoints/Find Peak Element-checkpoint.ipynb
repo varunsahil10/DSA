{
 "cells": [
  {
   "cell_type": "markdown",
   "id": "f09534fc-6c17-4708-adce-b89c512effa0",
   "metadata": {},
   "source": [
    "### Find Peak Element"
   ]
  },
  {
   "cell_type": "raw",
   "id": "5cfd199e-d587-4bca-b556-712b011b4f2f",
   "metadata": {},
   "source": [
    "A peak element is an element that is strictly greater than its neighbors.\n",
    "\n",
    "Given a 0-indexed integer array nums, find a peak element, and return its index. If the array contains multiple peaks, return the index to any of the peaks.\n",
    "\n",
    "You may imagine that nums[-1] = nums[n] = -∞. In other words, an element is always considered to be strictly greater than a neighbor that is outside the array.\n",
    "\n",
    "You must write an algorithm that runs in O(log n) time.\n",
    "\n",
    " \n",
    "\n",
    "Example 1:\n",
    "\n",
    "Input: nums = [1,2,3,1]\n",
    "Output: 2\n",
    "Explanation: 3 is a peak element and your function should return the index number 2.\n",
    "Example 2:\n",
    "\n",
    "Input: nums = [1,2,1,3,5,6,4]\n",
    "Output: 5\n",
    "Explanation: Your function can return either index number 1 where the peak element is 2, or index number 5 where the peak element is 6.\n",
    " \n",
    "\n",
    "Constraints:\n",
    "\n",
    "1 <= nums.length <= 1000\n",
    "-231 <= nums[i] <= 231 - 1\n",
    "nums[i] != nums[i + 1] for all valid i.\n"
   ]
  },
  {
   "cell_type": "code",
   "execution_count": 2,
   "id": "4b0dc4ef-7532-48a4-a07c-0e35197a27fe",
   "metadata": {},
   "outputs": [
    {
     "data": {
      "text/plain": [
       "5"
      ]
     },
     "execution_count": 2,
     "metadata": {},
     "output_type": "execute_result"
    }
   ],
   "source": [
    "def findPeakElement(nums):\n",
    "    n = len(nums)\n",
    "    if n == 1:\n",
    "        return 0\n",
    "    if nums[0] > nums[1]:\n",
    "        return 0\n",
    "    if nums[-1] > nums[-2]:\n",
    "        return n-1\n",
    "    low = 1\n",
    "    high = n-2\n",
    "    while low <= high:\n",
    "        mid = low + (high - low)//2\n",
    "        if nums[mid-1] < nums[mid] > nums[mid+1]:\n",
    "            return mid\n",
    "        elif nums[mid-1] < nums[mid]: # peak lies on the right\n",
    "            low = mid + 1\n",
    "        else: # peak lies on the left\n",
    "            high = mid - 1\n",
    "    return -1\n",
    "\n",
    "nums = [1,2,1,3,5,6,4]\n",
    "findPeakElement(nums)"
   ]
  }
 ],
 "metadata": {
  "kernelspec": {
   "display_name": "Python 3 (ipykernel)",
   "language": "python",
   "name": "python3"
  },
  "language_info": {
   "codemirror_mode": {
    "name": "ipython",
    "version": 3
   },
   "file_extension": ".py",
   "mimetype": "text/x-python",
   "name": "python",
   "nbconvert_exporter": "python",
   "pygments_lexer": "ipython3",
   "version": "3.12.7"
  }
 },
 "nbformat": 4,
 "nbformat_minor": 5
}
