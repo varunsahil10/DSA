{
 "cells": [
  {
   "cell_type": "markdown",
   "id": "d4008bf6-2496-4425-91a7-65790acfdbd7",
   "metadata": {},
   "source": [
    "### Find out how many times has an array been rotated"
   ]
  },
  {
   "cell_type": "raw",
   "id": "2a1271a8-c424-48ee-8230-6e76bc61a48d",
   "metadata": {},
   "source": [
    "Given an increasing sorted rotated array arr of distinct integers. The array is right-rotated k times. Find the value of k.\n",
    "Let's suppose we have an array arr = [2, 4, 6, 9], so if we rotate it by 2 times so that it will look like this:\n",
    "After 1st Rotation : [9, 2, 4, 6]\n",
    "After 2nd Rotation : [6, 9, 2, 4]\n",
    "\n",
    "Examples:\n",
    "\n",
    "Input: arr = [5, 1, 2, 3, 4]\n",
    "Output: 1\n",
    "Explanation: The given array is 5 1 2 3 4. The original sorted array is 1 2 3 4 5. We can see that the array was rotated 1 times to the right.\n",
    "Input: arr = [1, 2, 3, 4, 5]\n",
    "Output: 0\n",
    "Explanation: The given array is not rotated.\n",
    "Expected Time Complexity: O(log(n))\n",
    "Expected Auxiliary Space: O(1)\n",
    "\n",
    "Constraints:\n",
    "1 <= n <=105\n",
    "1 <= arri <= 107\n",
    "\n"
   ]
  },
  {
   "cell_type": "code",
   "execution_count": 6,
   "id": "4c003494-91ad-4c40-bef5-4951f4f9e547",
   "metadata": {},
   "outputs": [
    {
     "data": {
      "text/plain": [
       "2"
      ]
     },
     "execution_count": 6,
     "metadata": {},
     "output_type": "execute_result"
    }
   ],
   "source": [
    "def findKRotation(arr):\n",
    "    # code here\n",
    "    low = 0\n",
    "    high = len(arr) - 1\n",
    "    idx = -1\n",
    "    ans = float(\"inf\")\n",
    "    while low <= high:\n",
    "        mid = low + (high - low)//2\n",
    "        \n",
    "        # whole subarray is sorted\n",
    "        if arr[low] <= arr[high]:\n",
    "            if arr[low] < ans:\n",
    "                ans = arr[low]\n",
    "                idx = low\n",
    "            break\n",
    "\n",
    "        # left subarray is sorted\n",
    "        elif arr[low] <= arr[mid]:\n",
    "            if arr[low] < ans:\n",
    "                ans = arr[low]\n",
    "                idx = low\n",
    "            low = mid + 1\n",
    "            \n",
    "        else:\n",
    "            if arr[mid] < ans:\n",
    "                ans = arr[mid]\n",
    "                idx = mid\n",
    "            high = mid - 1\n",
    "            \n",
    "    return idx\n",
    "\n",
    "arr = [5, 6, 1, 2, 3, 4]\n",
    "findKRotation(arr)"
   ]
  }
 ],
 "metadata": {
  "kernelspec": {
   "display_name": "Python 3 (ipykernel)",
   "language": "python",
   "name": "python3"
  },
  "language_info": {
   "codemirror_mode": {
    "name": "ipython",
    "version": 3
   },
   "file_extension": ".py",
   "mimetype": "text/x-python",
   "name": "python",
   "nbconvert_exporter": "python",
   "pygments_lexer": "ipython3",
   "version": "3.12.7"
  }
 },
 "nbformat": 4,
 "nbformat_minor": 5
}
