{
 "cells": [
  {
   "cell_type": "markdown",
   "id": "f704d9ab-0eaf-4864-84a8-fc9e67a3af66",
   "metadata": {},
   "source": [
    "### Find Minimum in Rotated Sorted Array II"
   ]
  },
  {
   "cell_type": "raw",
   "id": "77525d38-1102-4978-ba38-3bb39527ecfd",
   "metadata": {},
   "source": [
    "Suppose an array of length n sorted in ascending order is rotated between 1 and n times. For example, the array nums = [0,1,4,4,5,6,7] might become:\n",
    "\n",
    "[4,5,6,7,0,1,4] if it was rotated 4 times.\n",
    "[0,1,4,4,5,6,7] if it was rotated 7 times.\n",
    "Notice that rotating an array [a[0], a[1], a[2], ..., a[n-1]] 1 time results in the array [a[n-1], a[0], a[1], a[2], ..., a[n-2]].\n",
    "\n",
    "Given the sorted rotated array nums that may contain duplicates, return the minimum element of this array.\n",
    "\n",
    "You must decrease the overall operation steps as much as possible.\n",
    "\n",
    " \n",
    "\n",
    "Example 1:\n",
    "\n",
    "Input: nums = [1,3,5]\n",
    "Output: 1\n",
    "Example 2:\n",
    "\n",
    "Input: nums = [2,2,2,0,1]\n",
    "Output: 0\n",
    " \n",
    "\n",
    "Constraints:\n",
    "\n",
    "n == nums.length\n",
    "1 <= n <= 5000\n",
    "-5000 <= nums[i] <= 5000\n",
    "nums is sorted and rotated between 1 and n times.\n",
    " \n",
    "\n",
    "Follow up: This problem is similar to Find Minimum in Rotated Sorted Array, but nums may contain duplicates. Would this affect the runtime complexity? How and why?\n",
    "\n"
   ]
  },
  {
   "cell_type": "code",
   "execution_count": 3,
   "id": "04a17da6-4429-495b-a0f9-eb6967f557e3",
   "metadata": {},
   "outputs": [
    {
     "data": {
      "text/plain": [
       "0"
      ]
     },
     "execution_count": 3,
     "metadata": {},
     "output_type": "execute_result"
    }
   ],
   "source": [
    "def findMin(nums):\n",
    "    low = 0\n",
    "    high = len(nums) - 1\n",
    "    ans = nums[0]\n",
    "\n",
    "    while low <= high:\n",
    "        mid = (low + high) // 2\n",
    "        ans = min(ans, nums[mid])  # Always update with mid\n",
    "\n",
    "        if nums[low] == nums[mid] == nums[high]:\n",
    "            low += 1\n",
    "            high -= 1\n",
    "        elif nums[low] <= nums[mid]:\n",
    "            # Left is sorted — min can be at low\n",
    "            ans = min(ans, nums[low])\n",
    "            low = mid + 1\n",
    "        else:\n",
    "            # Right is sorted — min can be at mid\n",
    "            high = mid - 1\n",
    "\n",
    "    return ans\n",
    "\n",
    "nums = [2,2,2,0,1]\n",
    "findMin(nums)"
   ]
  }
 ],
 "metadata": {
  "kernelspec": {
   "display_name": "Python 3 (ipykernel)",
   "language": "python",
   "name": "python3"
  },
  "language_info": {
   "codemirror_mode": {
    "name": "ipython",
    "version": 3
   },
   "file_extension": ".py",
   "mimetype": "text/x-python",
   "name": "python",
   "nbconvert_exporter": "python",
   "pygments_lexer": "ipython3",
   "version": "3.12.7"
  }
 },
 "nbformat": 4,
 "nbformat_minor": 5
}
