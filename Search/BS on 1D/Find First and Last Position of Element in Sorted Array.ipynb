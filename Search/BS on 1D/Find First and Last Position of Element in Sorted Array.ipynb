{
 "cells": [
  {
   "cell_type": "markdown",
   "id": "6ddb95f5-05ff-4fe9-906e-ebda34972b63",
   "metadata": {},
   "source": [
    "### Find First and Last Position of Element in Sorted Array"
   ]
  },
  {
   "cell_type": "code",
   "execution_count": 2,
   "id": "07e3b5db-3552-4210-a0bb-212a5fef5e19",
   "metadata": {},
   "outputs": [
    {
     "data": {
      "text/plain": [
       "[3, 4]"
      ]
     },
     "execution_count": 2,
     "metadata": {},
     "output_type": "execute_result"
    }
   ],
   "source": [
    "def searchRange(nums, target):\n",
    "    def first(arr, target):\n",
    "        low = 0\n",
    "        high = len(arr)-1\n",
    "        ans = -1\n",
    "        while low <= high:\n",
    "            mid = low + (high - low)//2\n",
    "            if nums[mid] == target:\n",
    "                ans = mid\n",
    "                high = mid - 1\n",
    "            elif nums[mid] < target:\n",
    "                low = mid + 1\n",
    "            else:\n",
    "                high = mid - 1\n",
    "        return ans\n",
    "    \n",
    "    def last(arr, target):\n",
    "        low = 0\n",
    "        high = len(arr)-1\n",
    "        ans = -1\n",
    "        while low <= high:\n",
    "            mid = low + (high - low)//2\n",
    "            if nums[mid] == target:\n",
    "                ans = mid\n",
    "                low = mid + 1\n",
    "            elif nums[mid] < target:\n",
    "                low = mid + 1\n",
    "            else:\n",
    "                high = mid - 1\n",
    "        return ans\n",
    "    \n",
    "    first = first(nums, target)\n",
    "    if first == -1:\n",
    "        return [-1, -1]\n",
    "    return [first, last(nums, target)]\n",
    "\n",
    "nums = [5,7,7,8,8,10]\n",
    "target = 8\n",
    "searchRange(nums, target)"
   ]
  }
 ],
 "metadata": {
  "kernelspec": {
   "display_name": "Python 3 (ipykernel)",
   "language": "python",
   "name": "python3"
  },
  "language_info": {
   "codemirror_mode": {
    "name": "ipython",
    "version": 3
   },
   "file_extension": ".py",
   "mimetype": "text/x-python",
   "name": "python",
   "nbconvert_exporter": "python",
   "pygments_lexer": "ipython3",
   "version": "3.12.7"
  }
 },
 "nbformat": 4,
 "nbformat_minor": 5
}
