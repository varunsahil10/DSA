{
 "cells": [
  {
   "cell_type": "markdown",
   "id": "4b475299-2ae0-4624-9059-901bc79ba33f",
   "metadata": {},
   "source": [
    "### Search in Rotated Sorted Array II"
   ]
  },
  {
   "cell_type": "raw",
   "id": "061d7c43-6ebf-41d5-ac73-7d04ae9fcbdd",
   "metadata": {},
   "source": [
    "There is an integer array nums sorted in non-decreasing order (not necessarily with distinct values).\n",
    "\n",
    "Before being passed to your function, nums is rotated at an unknown pivot index k (0 <= k < nums.length) such that the resulting array is [nums[k], nums[k+1], ..., nums[n-1], nums[0], nums[1], ..., nums[k-1]] (0-indexed). For example, [0,1,2,4,4,4,5,6,6,7] might be rotated at pivot index 5 and become [4,5,6,6,7,0,1,2,4,4].\n",
    "\n",
    "Given the array nums after the rotation and an integer target, return true if target is in nums, or false if it is not in nums.\n",
    "\n",
    "You must decrease the overall operation steps as much as possible.\n",
    "\n",
    " \n",
    "\n",
    "Example 1:\n",
    "\n",
    "Input: nums = [2,5,6,0,0,1,2], target = 0\n",
    "Output: true\n",
    "Example 2:\n",
    "\n",
    "Input: nums = [2,5,6,0,0,1,2], target = 3\n",
    "Output: false\n",
    " \n",
    "\n",
    "Constraints:\n",
    "\n",
    "1 <= nums.length <= 5000\n",
    "-104 <= nums[i] <= 104\n",
    "nums is guaranteed to be rotated at some pivot.\n",
    "-104 <= target <= 104\n",
    " \n",
    "\n",
    "Follow up: This problem is similar to Search in Rotated Sorted Array, but nums may contain duplicates. Would this affect the runtime complexity? How and why?\n",
    "\n"
   ]
  },
  {
   "cell_type": "code",
   "execution_count": 2,
   "id": "4f38addc-7248-49a8-b287-c5c03d09fe14",
   "metadata": {},
   "outputs": [
    {
     "data": {
      "text/plain": [
       "True"
      ]
     },
     "execution_count": 2,
     "metadata": {},
     "output_type": "execute_result"
    }
   ],
   "source": [
    "def search(nums, target):\n",
    "    low = 0\n",
    "    high = len(nums) - 1\n",
    "    while low <= high:\n",
    "        mid = low + (high - low)//2\n",
    "        if nums[mid] == target:\n",
    "            return True\n",
    "        if nums[low] == nums[mid] and nums[mid] == nums[high]:\n",
    "            low += 1\n",
    "            high -= 1\n",
    "            continue\n",
    "        \n",
    "        # left half is sorted\n",
    "        elif nums[low] <= nums[mid]:\n",
    "            if nums[low] <= target and target <= nums[mid]:\n",
    "                high = mid - 1\n",
    "            else:\n",
    "                low = mid + 1\n",
    "        \n",
    "        # right half is sorted\n",
    "        else:\n",
    "            if nums[mid] <= target and target <= nums[high]:\n",
    "                low = mid + 1\n",
    "            else:\n",
    "                high = mid - 1\n",
    "    return False\n",
    "\n",
    "nums = [2,5,6,0,0,1,2]\n",
    "target = 2\n",
    "search(nums, target)"
   ]
  }
 ],
 "metadata": {
  "kernelspec": {
   "display_name": "Python 3 (ipykernel)",
   "language": "python",
   "name": "python3"
  },
  "language_info": {
   "codemirror_mode": {
    "name": "ipython",
    "version": 3
   },
   "file_extension": ".py",
   "mimetype": "text/x-python",
   "name": "python",
   "nbconvert_exporter": "python",
   "pygments_lexer": "ipython3",
   "version": "3.12.7"
  }
 },
 "nbformat": 4,
 "nbformat_minor": 5
}
