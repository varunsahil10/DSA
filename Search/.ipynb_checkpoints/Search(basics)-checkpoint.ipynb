{
 "cells": [
  {
   "cell_type": "markdown",
   "id": "6ada3eb7-01c3-4582-b990-f385202569b2",
   "metadata": {},
   "source": [
    "### Binary search"
   ]
  },
  {
   "cell_type": "raw",
   "id": "70d2689f-e1fc-410a-83b5-1aa38eb3b5c7",
   "metadata": {},
   "source": [
    "Sorted Array Search\n",
    "\n",
    "Given an array, arr[] sorted in ascending order and an integer k. Return true if k is present in the array, otherwise, false.\n",
    "\n",
    "Examples:\n",
    "\n",
    "Input: arr[] = [1, 2, 3, 4, 6], k = 6\n",
    "Output: true\n",
    "Exlpanation: Since, 6 is present in the array at index 4 (0-based indexing), output is true.\n",
    "Input: arr[] = [1, 2, 4, 5, 6], k = 3\n",
    "Output: false\n",
    "Exlpanation: Since, 3 is not present in the array, output is false.\n",
    "Input: arr[] = [2, 3, 5, 6], k = 1\n",
    "Output: false\n",
    "Constraints:\n",
    "1 <= arr.size() <= 106\n",
    "1 <= k <= 106\n",
    "1 <= arr[i] <= 106"
   ]
  },
  {
   "cell_type": "code",
   "execution_count": 2,
   "id": "cc0a10a5-eb45-4909-a1ad-cdb053c091b3",
   "metadata": {},
   "outputs": [
    {
     "name": "stdin",
     "output_type": "stream",
     "text": [
      " 1\n",
      " 1 2 3 4 5 6\n",
      " 6\n"
     ]
    },
    {
     "name": "stdout",
     "output_type": "stream",
     "text": [
      "true\n",
      "~\n"
     ]
    }
   ],
   "source": [
    "#User function Template for python3\n",
    "\n",
    "class Solution:\n",
    "    ##Complete this function\n",
    "    def searchInSorted(self,arr, k):\n",
    "        #Your code here\n",
    "        low = 0\n",
    "        high = len(arr) - 1\n",
    "\n",
    "        \n",
    "        while(low <= high):\n",
    "            mid = (low+high)//2\n",
    "            \n",
    "            if arr[mid] == k:\n",
    "                return True\n",
    "            elif k > arr[mid]:\n",
    "                low = mid + 1\n",
    "            else:\n",
    "                high = mid - 1\n",
    "            \n",
    "        return False\n",
    "    \n",
    "\n",
    "\n",
    "#{ \n",
    " # Driver Code Starts\n",
    "#Initial Template for Python 3\n",
    "\n",
    "import math\n",
    "if __name__ == '__main__':\n",
    "    t = int(input())\n",
    "    for _ in range(t):\n",
    "\n",
    "        A = [int(x) for x in input().strip().split()]\n",
    "        k = int(input())\n",
    "        ob = Solution()\n",
    "        print(\"true\" if ob.searchInSorted(A, k) else \"false\")\n",
    "        print(\"~\")\n",
    "\n",
    "# } Driver Code Ends"
   ]
  },
  {
   "cell_type": "markdown",
   "id": "734c285c-2251-4833-973d-58e9b443f966",
   "metadata": {},
   "source": [
    "### Left Index"
   ]
  },
  {
   "cell_type": "markdown",
   "id": "28820885-a544-4ca3-8ff9-77cc39a2b98f",
   "metadata": {},
   "source": [
    "Given a sorted array of integers of size N and a number X. Find the leftmost index of X in the array arr[].\n",
    "\n",
    "Example 1:\n",
    "\n",
    "Input:\n",
    "N = 10\n",
    "arr[] = {1, 1, 2, 2, 3, 4, 5, 5, 6, 7}\n",
    "X = 1\n",
    "Output: 0 \n",
    "Explanation: Because the element 1   \n",
    "appears twice and its left most \n",
    "occurrence is at index 0.\n",
    "\n",
    "Example 2:\n",
    "\n",
    "Input:\n",
    "N = 5\n",
    "arr[] = {2, 2, 3, 3, 4}\n",
    "X = 4\n",
    "Output: 4\n",
    "Explanation: Because element 4 appears \n",
    "only once at index 4.\n",
    "\n",
    "Your Task:  \n",
    "You don't need to read input or print anything. Your task is to complete the function leftIndex() which takes the array arr[], its size N and an integer X as input parameters and returns the leftmost occurrence of X in arr[]. If X is not present in the array, return -1.\n",
    "\n",
    "Expected Time Complexity: O(LogN)\n",
    "Expected Auxiliary Space: O(1)\n",
    "\n",
    "Constraints:\n",
    "1 <= N <= 106\n",
    "-105 <= arr[i] <= 105\n",
    "Array may contain duplicate elements. "
   ]
  },
  {
   "cell_type": "code",
   "execution_count": 19,
   "id": "91a86e7a-1986-4e7d-b043-c9246766b163",
   "metadata": {},
   "outputs": [
    {
     "name": "stdin",
     "output_type": "stream",
     "text": [
      " 1\n",
      " 5\n",
      " 2 2 3 3 4\n",
      " 3\n"
     ]
    },
    {
     "name": "stdout",
     "output_type": "stream",
     "text": [
      "2\n",
      "~\n"
     ]
    }
   ],
   "source": [
    "#User function Template for python3\n",
    "\n",
    "class Solution:\n",
    "    def leftIndex (self, N, arr, X):\n",
    "        # code here \n",
    "        ans = -1\n",
    "        s = 0\n",
    "        e = N-1\n",
    "        \n",
    "        while(s<=e):\n",
    "            mid = (s+e)//2\n",
    "            \n",
    "            if arr[mid] == X:\n",
    "                ans = mid\n",
    "                e = mid-1\n",
    "            elif X > arr[mid]:\n",
    "                s = mid+1\n",
    "                \n",
    "            else:\n",
    "                e = mid-1\n",
    "        return ans\n",
    "        \n",
    "\n",
    "\n",
    "#{ \n",
    " # Driver Code Starts\n",
    "#Initial Template for Python 3\n",
    "\n",
    "if __name__ == '__main__': \n",
    "    t = int (input ())\n",
    "    for _ in range (t):\n",
    "        N = int(input())\n",
    "        arr = input().split()\n",
    "        for itr in range(N):\n",
    "            arr[itr] = int(arr[itr])\n",
    "        X = int(input())\n",
    "\n",
    "        ob = Solution()\n",
    "        print(ob.leftIndex(N, arr, X))\n",
    "\n",
    "        print(\"~\")\n",
    "# } Driver Code Ends"
   ]
  },
  {
   "cell_type": "markdown",
   "id": "921b38cd-a4d8-47ab-9eab-1e60e5f3a060",
   "metadata": {},
   "source": [
    "### Peak element"
   ]
  },
  {
   "cell_type": "raw",
   "id": "527d856f-19cb-4d47-9599-5d55d6741ee8",
   "metadata": {},
   "source": [
    "Given an array arr[] where no two adjacent elements are same, find the index of a peak element. An element is considered to be a peak if it is greater than its adjacent elements (if they exist). If there are multiple peak elements, return index of any one of them. The output will be \"true\" if the index returned by your function is correct; otherwise, it will be \"false\".\n",
    "\n",
    "Note: Consider the element before the first element and the element after the last element to be negative infinity.\n",
    "\n",
    "Examples :\n",
    "\n",
    "Input: arr = [1, 2, 4, 5, 7, 8, 3]\n",
    "Output: true\n",
    "Explanation: arr[5] = 8 is a peak element because arr[4] < arr[5] > arr[6].\n",
    "Input: arr = [10, 20, 15, 2, 23, 90, 80]\n",
    "Output: true\n",
    "Explanation: arr[1] = 20 and arr[5] = 90 are peak elements because arr[0] < arr[1] > arr[2] and arr[4] < arr[5] > arr[6]. \n",
    "Input: arr = [1, 2, 3]\n",
    "Output: true\n",
    "Explanation: arr[2] is a peak element because arr[1] < arr[2] and arr[2] is the last element, so it has negative infinity to its right.\n",
    "Constraints:\n",
    "1 ≤ arr.size() ≤ 106\n",
    "-231 ≤ arr[i] ≤ 231 - 1\n",
    "\n"
   ]
  },
  {
   "cell_type": "code",
   "execution_count": 26,
   "id": "05e65517-0bf9-449e-9547-8f097fb3d64e",
   "metadata": {},
   "outputs": [
    {
     "name": "stdin",
     "output_type": "stream",
     "text": [
      " 1\n",
      " 1 2 3\n"
     ]
    },
    {
     "name": "stdout",
     "output_type": "stream",
     "text": [
      "true\n",
      "~\n"
     ]
    }
   ],
   "source": [
    "\n",
    "class Solution:   \n",
    "    def peakElement(self,arr):\n",
    "        # Code here\n",
    "        s = 0\n",
    "        e = len(arr)-1\n",
    "        \n",
    "        while(s<e):\n",
    "            mid = s + (e-s)//2\n",
    "            \n",
    "            if arr[mid] < arr[mid+1]:\n",
    "                s = mid+1\n",
    "            else:\n",
    "                e = mid\n",
    "        return s\n",
    "        \n",
    "\n",
    "\n",
    "\n",
    "#{ \n",
    " # Driver Code Starts\n",
    "if __name__ == \"__main__\":\n",
    "    t = int(input())  # Read number of test cases\n",
    "    for _ in range(t):\n",
    "        # Read input and split it into a list of integers\n",
    "        arr = list(map(int, input().split()))\n",
    "        # Create a Solution object and calculate the result\n",
    "\n",
    "        index = Solution().peakElement(arr)\n",
    "        n = len(arr)\n",
    "        flag = False\n",
    "        if index < 0 or index >= n:\n",
    "            flag = False\n",
    "        else:\n",
    "            if index == 0 and n == 1:\n",
    "                flag = True\n",
    "            elif index == 0 and arr[index] > arr[index + 1]:\n",
    "                flag = True\n",
    "            elif index == n - 1 and arr[index] > arr[index - 1]:\n",
    "                flag = True\n",
    "            elif index > 0 and index < n - 1 and arr[\n",
    "                    index - 1] < arr[index] and arr[index] > arr[index + 1]:\n",
    "                flag = True\n",
    "            else:\n",
    "                flag = False\n",
    "\n",
    "        if flag:\n",
    "            print(\"true\")\n",
    "        else:\n",
    "            print(\"false\")\n",
    "        print(\"~\")\n",
    "\n",
    "# } Driver Code Ends"
   ]
  },
  {
   "cell_type": "markdown",
   "id": "bc28981a-f1ec-4514-a35a-caf046373aac",
   "metadata": {},
   "source": [
    "### Count 1's in binary array"
   ]
  },
  {
   "cell_type": "raw",
   "id": "c7f72e64-3d17-4f07-98e5-2807b393eb60",
   "metadata": {},
   "source": [
    "Given a binary sorted non-increasing array of 1s and 0s. You need to print the count of 1s in the binary array.\n",
    "\n",
    "Example 1:\n",
    "\n",
    "Input:\n",
    "N = 8\n",
    "arr[] = {1,1,1,1,1,0,0,0}\n",
    "Output: 5\n",
    "Explanation: Number of 1's in given \n",
    "binary array : 1 1 1 1 1 0 0 0 is 5.\n",
    "Example 2:\n",
    "\n",
    "Input:\n",
    "N = 8\n",
    "arr[] = {1,1,0,0,0,0,0,0}\n",
    "Output: 2\n",
    "Explanation: Number of 1's in given \n",
    "binary array : 1 1 0 0 0 0 0 0 is 2.\n",
    "Your Task:\n",
    "The task is to complete the function countOne() which takes the array arr[] and its size N as inputs and returns the count of 1s in the input array.\n",
    "\n",
    "Constraint:\n",
    "1 <= N <= 106\n",
    "arr[i] = 0,1"
   ]
  },
  {
   "cell_type": "code",
   "execution_count": 30,
   "id": "d345865e-4a1b-4e53-9af5-bf56b5b1a5c1",
   "metadata": {},
   "outputs": [
    {
     "name": "stdin",
     "output_type": "stream",
     "text": [
      " 1\n",
      " 8\n",
      " 1 1 1 1 1 0 0 0\n"
     ]
    },
    {
     "name": "stdout",
     "output_type": "stream",
     "text": [
      "5\n",
      "~\n"
     ]
    }
   ],
   "source": [
    "#User function Template for python3\n",
    "\n",
    "class Solution:\n",
    "    ##Complete this code\n",
    "    def countOnes(self,arr, N):\n",
    "        #Your code here\n",
    "        s = 0\n",
    "        e = N-1\n",
    "        ans = -1\n",
    "        \n",
    "        while(s<=e):\n",
    "            mid = s + (e-s)//2\n",
    "            if arr[mid] == 1:\n",
    "                ans = mid\n",
    "                s = mid+1\n",
    "            else:\n",
    "                e = mid-1\n",
    "        return ans+1\n",
    "\n",
    "\n",
    "#{ \n",
    " # Driver Code Starts\n",
    "#Initial Template for Python 3\n",
    "\n",
    "import math\n",
    "\n",
    "\n",
    "def main():\n",
    "        T=int(input())\n",
    "        while(T>0):\n",
    "            \n",
    "            N=int(input())\n",
    "\n",
    "            A=[int(x) for x in input().strip().split()]\n",
    "            \n",
    "            \n",
    "            ob=Solution()\n",
    "            print(ob.countOnes(A,N))\n",
    "            \n",
    "            T-=1\n",
    "\n",
    "\n",
    "            print(\"~\")\n",
    "if __name__ == \"__main__\":\n",
    "    main()\n",
    "# } Driver Code Ends"
   ]
  }
 ],
 "metadata": {
  "kernelspec": {
   "display_name": "Python 3 (ipykernel)",
   "language": "python",
   "name": "python3"
  },
  "language_info": {
   "codemirror_mode": {
    "name": "ipython",
    "version": 3
   },
   "file_extension": ".py",
   "mimetype": "text/x-python",
   "name": "python",
   "nbconvert_exporter": "python",
   "pygments_lexer": "ipython3",
   "version": "3.12.7"
  }
 },
 "nbformat": 4,
 "nbformat_minor": 5
}
